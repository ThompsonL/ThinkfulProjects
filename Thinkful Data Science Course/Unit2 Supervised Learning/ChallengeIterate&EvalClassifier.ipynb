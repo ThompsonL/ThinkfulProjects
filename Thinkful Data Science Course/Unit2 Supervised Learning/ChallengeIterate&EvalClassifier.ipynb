{
 "cells": [
  {
   "cell_type": "code",
   "execution_count": 1,
   "metadata": {},
   "outputs": [],
   "source": [
    "# -*- coding: utf-8 -*-\n",
    "\"\"\"\n",
    "Created on Thu Apr  4 15:25:04 2019\n",
    "\n",
    "@author: liuth\n",
    "\"\"\"\n",
    "\n",
    "import numpy as np\n",
    "import pandas as pd\n",
    "import scipy\n",
    "import sklearn\n",
    "from sklearn.naive_bayes import BernoulliNB\n",
    "from sklearn.metrics import confusion_matrix\n",
    "from sklearn.model_selection import train_test_split\n",
    "from sklearn.model_selection import cross_val_score\n",
    "import matplotlib.pyplot as plt\n",
    "import seaborn as sns\n",
    "import os\n",
    "\n",
    "os.chdir('C:\\\\Users\\\\liuth\\\\Documents\\\\Python Scripts\\\\ThinkfulProjects\\\\Data')"
   ]
  },
  {
   "cell_type": "code",
   "execution_count": 2,
   "metadata": {},
   "outputs": [
    {
     "data": {
      "text/html": [
       "<div>\n",
       "<style scoped>\n",
       "    .dataframe tbody tr th:only-of-type {\n",
       "        vertical-align: middle;\n",
       "    }\n",
       "\n",
       "    .dataframe tbody tr th {\n",
       "        vertical-align: top;\n",
       "    }\n",
       "\n",
       "    .dataframe thead th {\n",
       "        text-align: right;\n",
       "    }\n",
       "</style>\n",
       "<table border=\"1\" class=\"dataframe\">\n",
       "  <thead>\n",
       "    <tr style=\"text-align: right;\">\n",
       "      <th></th>\n",
       "      <th>Comment</th>\n",
       "      <th>Score</th>\n",
       "    </tr>\n",
       "  </thead>\n",
       "  <tbody>\n",
       "    <tr>\n",
       "      <th>0</th>\n",
       "      <td>So there is no way for me to plug it in here i...</td>\n",
       "      <td>0</td>\n",
       "    </tr>\n",
       "    <tr>\n",
       "      <th>1</th>\n",
       "      <td>Good case, Excellent value.</td>\n",
       "      <td>1</td>\n",
       "    </tr>\n",
       "    <tr>\n",
       "      <th>2</th>\n",
       "      <td>Great for the jawbone.</td>\n",
       "      <td>1</td>\n",
       "    </tr>\n",
       "  </tbody>\n",
       "</table>\n",
       "</div>"
      ],
      "text/plain": [
       "                                             Comment  Score\n",
       "0  So there is no way for me to plug it in here i...      0\n",
       "1                        Good case, Excellent value.      1\n",
       "2                             Great for the jawbone.      1"
      ]
     },
     "execution_count": 2,
     "metadata": {},
     "output_type": "execute_result"
    }
   ],
   "source": [
    "#Dataframe from https://archive.ics.uci.edu/ml/datasets/Sentiment+Labelled+Sentences#\n",
    "#Loading\\Exploring Data\n",
    "dataset_1_path = 'amazon_cells_labelled.txt'\n",
    "data_raw = pd.read_csv(dataset_1_path, delimiter=\"\\t\", header=None)\n",
    "data_raw.columns = ['Comment', 'Score']\n",
    "data_raw.head(3)"
   ]
  },
  {
   "cell_type": "code",
   "execution_count": 31,
   "metadata": {},
   "outputs": [
    {
     "name": "stdout",
     "output_type": "stream",
     "text": [
      "                                               Comment  Score  good  great  \\\n",
      "0    So there is no way for me to plug it in here i...      0     0      0   \n",
      "1                          Good case, Excellent value.      1     0      0   \n",
      "2                               Great for the jawbone.      1     0      0   \n",
      "3    Tied to charger for conversations lasting more...      0     0      0   \n",
      "4                                    The mic is great.      1     0      0   \n",
      "5    I have to jiggle the plug to get it to line up...      0     0      0   \n",
      "6    If you have several dozen or several hundred c...      0     0      0   \n",
      "7          If you are Razr owner...you must have this!      1     0      0   \n",
      "8                  Needless to say, I wasted my money.      0     0      0   \n",
      "9                     What a waste of money and time!.      0     0      0   \n",
      "10                     And the sound quality is great.      1     0      0   \n",
      "11   He was very impressed when going from the orig...      1     0      0   \n",
      "12   If the two were seperated by a mere 5+ ft I st...      0     0      0   \n",
      "13                            Very good quality though      1     1      0   \n",
      "14   The design is very odd, as the ear \"clip\" is n...      0     0      0   \n",
      "15   Highly recommend for any one who has a blue to...      1     0      0   \n",
      "16                 I advise EVERYONE DO NOT BE FOOLED!      0     0      0   \n",
      "17                                    So Far So Good!.      1     0      0   \n",
      "18                                       Works great!.      1     0      0   \n",
      "19   It clicks into place in a way that makes you w...      0     0      0   \n",
      "20   I went on Motorola's website and followed all ...      0     0      0   \n",
      "21   I bought this to use with my Kindle Fire and a...      1     0      0   \n",
      "22            The commercials are the most misleading.      0     0      0   \n",
      "23   I have yet to run this new battery below two b...      1     0      0   \n",
      "24   I bought it for my mother and she had a proble...      0     0      0   \n",
      "25                Great Pocket PC / phone combination.      1     0      0   \n",
      "26   I've owned this phone for 7 months now and can...      1     0      0   \n",
      "27   I didn't think that the instructions provided ...      0     0      0   \n",
      "28   People couldnt hear me talk and I had to pull ...      0     0      0   \n",
      "29                                Doesn't hold charge.      0     0      0   \n",
      "..                                                 ...    ...   ...    ...   \n",
      "970  I plugged it in only to find out not a darn th...      0     0      0   \n",
      "971                                 Excellent product.      1     0      0   \n",
      "972                        Earbud piece breaks easily.      0     0      0   \n",
      "973                                     Lousy product.      0     0      0   \n",
      "974  This phone tries very hard to do everything bu...      0     0      0   \n",
      "975  It is the best charger I have seen on the mark...      1     0      0   \n",
      "976                                  SWEETEST PHONE!!!      1     0      0   \n",
      "977             :-)Oh, the charger seems to work fine.      1     0      0   \n",
      "978  It fits so securely that the ear hook does not...      1     0      0   \n",
      "979                                 Not enough volume.      0     0      0   \n",
      "980                Echo Problem....Very unsatisfactory      0     0      0   \n",
      "981  you could only take 2 videos at a time and the...      0     0      0   \n",
      "982                            don't waste your money.      0     0      0   \n",
      "983  I am going to have to be the first to negative...      0     0      0   \n",
      "984  Adapter does not provide enough charging current.      0     0      0   \n",
      "985  There was so much hype over this phone that I ...      0     0      0   \n",
      "986  You also cannot take pictures with it in the c...      0     0      0   \n",
      "987                            Phone falls out easily.      0     0      0   \n",
      "988  It didn't work, people can not hear me when I ...      0     0      0   \n",
      "989  The text messaging feature is really tricky to...      0     0      0   \n",
      "990  I'm really disappointed all I have now is a ch...      0     0      0   \n",
      "991                                Painful on the ear.      0     0      0   \n",
      "992                   Lasted one day and then blew up.      0     0      0   \n",
      "993                                      disappointed.      0     0      0   \n",
      "994                              Kind of flops around.      0     0      0   \n",
      "995  The screen does get smudged easily because it ...      0     0      0   \n",
      "996  What a piece of junk.. I lose more calls on th...      0     0      0   \n",
      "997                       Item Does Not Match Picture.      0     0      0   \n",
      "998  The only thing that disappoint me is the infra...      0     0      0   \n",
      "999  You can not answer calls with the unit, never ...      0     0      0   \n",
      "\n",
      "     excellent  must have  awesome  impressed  love  allcaps  quality  happy  \\\n",
      "0            0          0        0          0     0    False        0      0   \n",
      "1            1          0        0          0     0    False        0      0   \n",
      "2            0          0        0          0     0    False        0      0   \n",
      "3            0          0        0          0     0    False        0      0   \n",
      "4            0          0        0          0     0    False        0      0   \n",
      "5            0          0        0          0     0    False        0      0   \n",
      "6            0          0        0          0     0    False        0      0   \n",
      "7            0          1        0          0     0    False        0      0   \n",
      "8            0          0        0          0     0    False        0      0   \n",
      "9            0          0        0          0     0    False        0      0   \n",
      "10           0          0        0          0     0    False        1      0   \n",
      "11           0          0        0          1     0    False        0      0   \n",
      "12           0          0        0          0     0    False        0      0   \n",
      "13           0          0        0          0     0    False        1      0   \n",
      "14           0          0        0          0     0    False        0      0   \n",
      "15           0          0        0          0     0    False        0      0   \n",
      "16           0          0        0          0     0    False        0      0   \n",
      "17           0          0        0          0     0    False        0      0   \n",
      "18           0          0        0          0     0    False        0      0   \n",
      "19           0          0        0          0     0    False        0      0   \n",
      "20           0          0        0          0     0    False        0      0   \n",
      "21           0          0        0          0     0    False        0      0   \n",
      "22           0          0        0          0     0    False        0      0   \n",
      "23           0          0        0          0     0    False        0      0   \n",
      "24           0          0        0          0     0    False        0      0   \n",
      "25           0          0        0          0     0    False        0      0   \n",
      "26           0          0        0          0     0    False        0      0   \n",
      "27           0          0        0          0     0    False        0      0   \n",
      "28           0          0        0          0     0    False        0      0   \n",
      "29           0          0        0          0     0    False        0      0   \n",
      "..         ...        ...      ...        ...   ...      ...      ...    ...   \n",
      "970          0          0        0          0     0    False        0      0   \n",
      "971          0          0        0          0     0    False        0      0   \n",
      "972          0          0        0          0     0    False        0      0   \n",
      "973          0          0        0          0     0    False        0      0   \n",
      "974          0          0        0          0     0    False        0      0   \n",
      "975          0          0        0          0     0    False        0      0   \n",
      "976          0          0        0          0     0     True        0      0   \n",
      "977          0          0        0          0     0    False        0      0   \n",
      "978          0          0        0          0     0    False        0      0   \n",
      "979          0          0        0          0     0    False        0      0   \n",
      "980          0          0        0          0     0    False        0      0   \n",
      "981          0          0        0          0     0    False        1      0   \n",
      "982          0          0        0          0     0    False        0      0   \n",
      "983          0          0        0          0     0    False        0      0   \n",
      "984          0          0        0          0     0    False        0      0   \n",
      "985          0          0        0          0     0    False        0      0   \n",
      "986          0          0        0          0     0    False        0      0   \n",
      "987          0          0        0          0     0    False        0      0   \n",
      "988          0          0        0          0     0    False        0      0   \n",
      "989          0          0        0          0     0    False        0      0   \n",
      "990          0          0        0          0     0    False        0      0   \n",
      "991          0          0        0          0     0    False        0      0   \n",
      "992          0          0        0          0     0    False        0      0   \n",
      "993          0          0        0          0     0    False        0      0   \n",
      "994          0          0        0          0     0    False        0      0   \n",
      "995          0          0        0          0     0    False        0      0   \n",
      "996          0          0        0          0     0    False        0      0   \n",
      "997          0          0        0          0     0    False        0      0   \n",
      "998          0          0        0          0     0    False        0      0   \n",
      "999          0          0        0          0     0    False        0      0   \n",
      "\n",
      "     recommend  recommended  comfortable  well  !!!  !  !!  \n",
      "0            0            0            0     0    0  0   0  \n",
      "1            0            0            0     0    0  0   0  \n",
      "2            0            0            0     0    0  0   0  \n",
      "3            0            0            0     0    0  0   0  \n",
      "4            0            0            0     0    0  0   0  \n",
      "5            0            0            0     0    0  0   0  \n",
      "6            0            0            0     0    0  0   0  \n",
      "7            0            0            0     0    0  0   0  \n",
      "8            0            0            0     0    0  0   0  \n",
      "9            0            0            0     0    0  0   0  \n",
      "10           0            0            0     0    0  0   0  \n",
      "11           0            0            0     0    0  0   0  \n",
      "12           0            0            0     0    0  0   0  \n",
      "13           0            0            0     0    0  0   0  \n",
      "14           0            0            1     0    0  0   0  \n",
      "15           1            0            0     0    0  0   0  \n",
      "16           0            0            0     0    0  0   0  \n",
      "17           0            0            0     0    0  0   0  \n",
      "18           0            0            0     0    0  0   0  \n",
      "19           0            0            0     0    0  0   0  \n",
      "20           0            0            0     0    0  0   0  \n",
      "21           0            0            0     0    0  0   0  \n",
      "22           0            0            0     0    0  0   0  \n",
      "23           0            0            0     0    0  0   0  \n",
      "24           0            0            0     0    0  0   0  \n",
      "25           0            0            0     0    0  0   0  \n",
      "26           0            0            0     0    0  0   0  \n",
      "27           0            0            0     0    0  0   0  \n",
      "28           0            0            0     0    0  0   0  \n",
      "29           0            0            0     0    0  0   0  \n",
      "..         ...          ...          ...   ...  ... ..  ..  \n",
      "970          0            0            0     0    0  0   0  \n",
      "971          0            0            0     0    0  0   0  \n",
      "972          0            0            0     0    0  0   0  \n",
      "973          0            0            0     0    0  0   0  \n",
      "974          0            0            0     0    0  0   0  \n",
      "975          0            0            0     0    0  0   0  \n",
      "976          0            0            0     0    0  0   0  \n",
      "977          0            0            0     0    0  0   0  \n",
      "978          0            0            0     0    0  0   0  \n",
      "979          0            0            0     0    0  0   0  \n",
      "980          0            0            0     0    0  0   0  \n",
      "981          0            0            0     0    0  0   0  \n",
      "982          0            0            0     0    0  0   0  \n",
      "983          0            0            0     0    0  0   0  \n",
      "984          0            0            0     0    0  0   0  \n",
      "985          0            0            0     0    0  0   0  \n",
      "986          0            0            0     0    0  0   0  \n",
      "987          0            0            0     0    0  0   0  \n",
      "988          0            0            0     0    0  0   0  \n",
      "989          0            0            0     0    0  0   0  \n",
      "990          0            0            0     0    0  0   0  \n",
      "991          0            0            0     0    0  0   0  \n",
      "992          0            0            0     0    0  0   0  \n",
      "993          0            0            0     0    0  0   0  \n",
      "994          0            0            0     0    0  0   0  \n",
      "995          0            0            0     0    0  0   0  \n",
      "996          0            0            0     0    0  0   0  \n",
      "997          0            0            0     0    0  0   0  \n",
      "998          0            0            0     0    0  0   0  \n",
      "999          0            0            0     0    0  0   0  \n",
      "\n",
      "[1000 rows x 19 columns]\n"
     ]
    }
   ],
   "source": [
    "print(data_raw)"
   ]
  },
  {
   "cell_type": "code",
   "execution_count": 15,
   "metadata": {},
   "outputs": [
    {
     "data": {
      "text/plain": [
       "<matplotlib.axes._subplots.AxesSubplot at 0x290b16f30b8>"
      ]
     },
     "execution_count": 15,
     "metadata": {},
     "output_type": "execute_result"
    },
    {
     "data": {
      "image/png": "[encoded data removed]",
      "text/plain": [
       "<Figure size 432x288 with 2 Axes>"
      ]
     },
     "metadata": {
      "needs_background": "light"
     },
     "output_type": "display_data"
    }
   ],
   "source": [
    "#Building features\n",
    "keywords = ['good', 'great', 'excellent', 'must have', 'awesome', 'impressed',\\\n",
    "            'love', 'quality', 'happy', 'recommend', 'recommended', 'comfortable',\\\n",
    "            'well']\n",
    "\n",
    "for key in keywords:\n",
    "     data_raw[str(key)] = data_raw.Comment.str.contains(\n",
    "        ' ' + str(key) + ' ',\n",
    "        case=False\n",
    "    ).astype(int)\n",
    "\n",
    "#Adding additional features\n",
    "# data_raw['Score'] = (data_raw['Score'] == 'Score')\n",
    "data = data_raw[keywords]\n",
    "target = data_raw['Score']\n",
    "\n",
    "data_raw.head(3)\n",
    "\n",
    "#Heatmap\n",
    "sns.heatmap(data_raw.corr())"
   ]
  },
  {
   "cell_type": "code",
   "execution_count": 16,
   "metadata": {},
   "outputs": [
    {
     "name": "stdout",
     "output_type": "stream",
     "text": [
      "Number of mislabeled points out of a total 1000 points : 385\n"
     ]
    }
   ],
   "source": [
    "#Input comparison\n",
    "data = data_raw[keywords]\n",
    "target = data_raw['Score']\n",
    "\n",
    "#Naive Bayes Model\n",
    "bnb = BernoulliNB()\n",
    "bnb.fit (data, target)\n",
    "#Classification of the model\n",
    "y_pred = bnb.predict(data)\n",
    "\n",
    "#Printed Results\n",
    "print(\"Number of mislabeled points out of a total {} points : {}\".format(\n",
    "    data.shape[0],\n",
    "    (target != y_pred).sum()\n",
    "))"
   ]
  },
  {
   "cell_type": "code",
   "execution_count": 17,
   "metadata": {},
   "outputs": [
    {
     "name": "stdout",
     "output_type": "stream",
     "text": [
      "With 20% Holdout: 0.615\n",
      "Testing on Sample: 0.615\n"
     ]
    },
    {
     "data": {
      "text/plain": [
       "array([0.66, 0.58, 0.62, 0.62, 0.61, 0.6 , 0.63, 0.59, 0.61, 0.58])"
      ]
     },
     "execution_count": 17,
     "metadata": {},
     "output_type": "execute_result"
    }
   ],
   "source": [
    "#Confusion Matrix\n",
    "confusion_matrix(target, y_pred)\n",
    "\n",
    "#Cross Validate\n",
    "#Use train_test_split to create the necessary training and test groups\n",
    "X_train, X_test, y_train, y_test = train_test_split(data, target, test_size=0.2,\\\n",
    "                                                    random_state=20)\n",
    "print('With 20% Holdout: ' + str(bnb.fit(X_train, y_train).score(X_test, y_test)))\n",
    "print('Testing on Sample: ' + str(bnb.fit(data, target).score(data, target)))\n",
    "\n",
    "cross_val_score(bnb, data, target, cv=10)"
   ]
  },
  {
   "cell_type": "markdown",
   "metadata": {},
   "source": [
    "---"
   ]
  },
  {
   "cell_type": "markdown",
   "metadata": {},
   "source": [
    "Iterate Feature #2"
   ]
  },
  {
   "cell_type": "code",
   "execution_count": 18,
   "metadata": {},
   "outputs": [
    {
     "name": "stderr",
     "output_type": "stream",
     "text": [
      "C:\\Users\\liuth\\WPy-3670\\python-3.6.7.amd64\\lib\\site-packages\\pandas\\core\\indexes\\base.py:3772: RuntimeWarning: '<' not supported between instances of 'str' and 'int', sort order is undefined for incomparable objects\n",
      "  return this.join(other, how=how, return_indexers=return_indexers)\n"
     ]
    },
    {
     "data": {
      "text/plain": [
       "<matplotlib.axes._subplots.AxesSubplot at 0x290b0f28048>"
      ]
     },
     "execution_count": 18,
     "metadata": {},
     "output_type": "execute_result"
    },
    {
     "data": {
      "image/png": "[encoded data removed]",
      "text/plain": [
       "<Figure size 432x288 with 3 Axes>"
      ]
     },
     "metadata": {
      "needs_background": "light"
     },
     "output_type": "display_data"
    }
   ],
   "source": [
    "#Building features\n",
    "keywords = ['good', 'great', 'excellent', 'must have', 'awesome', 'impressed',\\\n",
    "            'love', 'quality', 'happy', 'recommend', 'recommended', 'comfortable',\\\n",
    "            'well']\n",
    "\n",
    "for key in keywords:\n",
    "     data_raw[str(key)] = data_raw.Comment.str.contains(\n",
    "        ' ' + str(key) + ' ',\n",
    "        case=False\n",
    "    ).astype(int)\n",
    "\n",
    "#Adding additional features\n",
    "data_raw['allcaps'] = data_raw.Comment.str.isupper()\n",
    "# data_raw['Score'] = (data_raw['Score'] == 'Score')\n",
    "data = data_raw[keywords]\n",
    "target = data_raw['Score']\n",
    "\n",
    "data_raw.head(3)\n",
    "\n",
    "#Heatmap\n",
    "sns.heatmap(data_raw.corr())\n",
    "#Building features\n",
    "keywords = ['good', 'great', 'excellent', 'must have', 'awesome', 'impressed',\\\n",
    "            'love']\n",
    "\n",
    "for key in keywords:\n",
    "     data_raw[str(key)] = data_raw.Comment.str.contains(\n",
    "        ' ' + str(key) + ' ',\n",
    "        case=False\n",
    "    ).astype(int)\n",
    "\n",
    "#Adding additional features\n",
    "data_raw['allcaps'] = data_raw.Comment.str.isupper()\n",
    "# data_raw['Score'] = (data_raw['Score'] == 'Score')\n",
    "data = data_raw[keywords] + data_raw['allcaps']\n",
    "target = data_raw['Score']\n",
    "\n",
    "data_raw.head(3)\n",
    "\n",
    "#Heatmap\n",
    "sns.heatmap(data_raw.corr())"
   ]
  },
  {
   "cell_type": "code",
   "execution_count": 8,
   "metadata": {},
   "outputs": [
    {
     "name": "stdout",
     "output_type": "stream",
     "text": [
      "Number of mislabeled points out of a total 1000 points : 416\n"
     ]
    }
   ],
   "source": [
    "#Input comparison\n",
    "data = data_raw[keywords]\n",
    "target = data_raw['Score']\n",
    "\n",
    "#Naive Bayes Model\n",
    "bnb = BernoulliNB()\n",
    "bnb.fit (data, target)\n",
    "#Classification of the model\n",
    "y_pred = bnb.predict(data)\n",
    "\n",
    "#Printed Results\n",
    "print(\"Number of mislabeled points out of a total {} points : {}\".format(\n",
    "    data.shape[0],\n",
    "    (target != y_pred).sum()\n",
    "))"
   ]
  },
  {
   "cell_type": "code",
   "execution_count": 9,
   "metadata": {},
   "outputs": [
    {
     "name": "stdout",
     "output_type": "stream",
     "text": [
      "With 20% Holdout: 0.57\n",
      "Testing on Sample: 0.584\n"
     ]
    },
    {
     "data": {
      "text/plain": [
       "array([0.6 , 0.59, 0.6 , 0.58, 0.56, 0.6 , 0.59, 0.55, 0.59, 0.54])"
      ]
     },
     "execution_count": 9,
     "metadata": {},
     "output_type": "execute_result"
    }
   ],
   "source": [
    "#Confusion Matrix\n",
    "confusion_matrix(target, y_pred)\n",
    "\n",
    "#Cross Validate\n",
    "#Use train_test_split to create the necessary training and test groups\n",
    "X_train, X_test, y_train, y_test = train_test_split(data, target, test_size=0.2,\\\n",
    "                                                    random_state=20)\n",
    "print('With 20% Holdout: ' + str(bnb.fit(X_train, y_train).score(X_test, y_test)))\n",
    "print('Testing on Sample: ' + str(bnb.fit(data, target).score(data, target)))\n",
    "\n",
    "cross_val_score(bnb, data, target, cv=10)"
   ]
  },
  {
   "cell_type": "markdown",
   "metadata": {},
   "source": [
    "---"
   ]
  },
  {
   "cell_type": "markdown",
   "metadata": {},
   "source": [
    "Iterate Feature #3"
   ]
  },
  {
   "cell_type": "code",
   "execution_count": 11,
   "metadata": {},
   "outputs": [
    {
     "name": "stderr",
     "output_type": "stream",
     "text": [
      "C:\\Users\\liuth\\WPy-3670\\python-3.6.7.amd64\\lib\\site-packages\\pandas\\core\\indexes\\base.py:3772: RuntimeWarning: '<' not supported between instances of 'str' and 'int', sort order is undefined for incomparable objects\n",
      "  return this.join(other, how=how, return_indexers=return_indexers)\n"
     ]
    },
    {
     "data": {
      "text/plain": [
       "<matplotlib.axes._subplots.AxesSubplot at 0x290b3660240>"
      ]
     },
     "execution_count": 11,
     "metadata": {},
     "output_type": "execute_result"
    },
    {
     "data": {
      "image/png": "[encoded data removed]",
      "text/plain": [
       "<Figure size 432x288 with 2 Axes>"
      ]
     },
     "metadata": {
      "needs_background": "light"
     },
     "output_type": "display_data"
    }
   ],
   "source": [
    "#Building features\n",
    "keywords = ['good', 'great', 'excellent', 'must have', 'awesome', 'impressed',\\\n",
    "            'love', 'quality', 'happy', 'recommend', 'recommended', 'comfortable',\\\n",
    "            'well']\n",
    "\n",
    "for key in keywords:\n",
    "     data_raw[str(key)] = data_raw.Comment.str.contains(\n",
    "        ' ' + str(key) + ' ',\n",
    "        case=False\n",
    "    ).astype(int)\n",
    "\n",
    "#Adding additional features\n",
    "data_raw['allcaps'] = data_raw.Comment.str.isupper()\n",
    "# data_raw['Score'] = (data_raw['Score'] == 'Score')\n",
    "data = data_raw[keywords] + data_raw['allcaps']\n",
    "target = data_raw['Score']\n",
    "\n",
    "data_raw.head(3)\n",
    "\n",
    "#Heatmap\n",
    "sns.heatmap(data_raw.corr())"
   ]
  },
  {
   "cell_type": "code",
   "execution_count": 12,
   "metadata": {},
   "outputs": [
    {
     "name": "stdout",
     "output_type": "stream",
     "text": [
      "Number of mislabeled points out of a total 1000 points : 385\n"
     ]
    }
   ],
   "source": [
    "#Input comparison\n",
    "data = data_raw[keywords]\n",
    "target = data_raw['Score']\n",
    "\n",
    "#Naive Bayes Model\n",
    "bnb = BernoulliNB()\n",
    "bnb.fit (data, target)\n",
    "#Classification of the model\n",
    "y_pred = bnb.predict(data)\n",
    "\n",
    "#Printed Results\n",
    "print(\"Number of mislabeled points out of a total {} points : {}\".format(\n",
    "    data.shape[0],\n",
    "    (target != y_pred).sum()\n",
    "))"
   ]
  },
  {
   "cell_type": "code",
   "execution_count": 13,
   "metadata": {},
   "outputs": [
    {
     "name": "stdout",
     "output_type": "stream",
     "text": [
      "With 20% Holdout: 0.615\n",
      "Testing on Sample: 0.615\n"
     ]
    },
    {
     "data": {
      "text/plain": [
       "array([0.66, 0.58, 0.62, 0.62, 0.61, 0.6 , 0.63, 0.59, 0.61, 0.58])"
      ]
     },
     "execution_count": 13,
     "metadata": {},
     "output_type": "execute_result"
    }
   ],
   "source": [
    "#Confusion Matrix\n",
    "confusion_matrix(target, y_pred)\n",
    "\n",
    "#Cross Validate\n",
    "#Use train_test_split to create the necessary training and test groups\n",
    "X_train, X_test, y_train, y_test = train_test_split(data, target, test_size=0.2,\\\n",
    "                                                    random_state=20)\n",
    "print('With 20% Holdout: ' + str(bnb.fit(X_train, y_train).score(X_test, y_test)))\n",
    "print('Testing on Sample: ' + str(bnb.fit(data, target).score(data, target)))\n",
    "\n",
    "cross_val_score(bnb, data, target, cv=10)"
   ]
  },
  {
   "cell_type": "markdown",
   "metadata": {},
   "source": [
    "---"
   ]
  },
  {
   "cell_type": "markdown",
   "metadata": {},
   "source": [
    "Iterate feature #4"
   ]
  },
  {
   "cell_type": "code",
   "execution_count": 23,
   "metadata": {},
   "outputs": [
    {
     "name": "stderr",
     "output_type": "stream",
     "text": [
      "C:\\Users\\liuth\\WPy-3670\\python-3.6.7.amd64\\lib\\site-packages\\pandas\\core\\indexes\\base.py:3772: RuntimeWarning: '<' not supported between instances of 'str' and 'int', sort order is undefined for incomparable objects\n",
      "  return this.join(other, how=how, return_indexers=return_indexers)\n"
     ]
    },
    {
     "data": {
      "text/plain": [
       "<matplotlib.axes._subplots.AxesSubplot at 0x290b11b4240>"
      ]
     },
     "execution_count": 23,
     "metadata": {},
     "output_type": "execute_result"
    },
    {
     "data": {
      "image/png": "[encoded data removed]",
      "text/plain": [
       "<Figure size 432x288 with 2 Axes>"
      ]
     },
     "metadata": {
      "needs_background": "light"
     },
     "output_type": "display_data"
    }
   ],
   "source": [
    "#Building features\n",
    "keywords = ['good', 'great', 'excellent', 'must have', 'awesome', 'impressed',\\\n",
    "            'love', 'quality', 'happy', 'recommend', 'recommended', 'comfortable',\\\n",
    "            'well', '!!!']\n",
    "\n",
    "for key in keywords:\n",
    "     data_raw[str(key)] = data_raw.Comment.str.contains(\n",
    "        ' ' + str(key) + ' ',\n",
    "        case=False\n",
    "    ).astype(int)\n",
    "\n",
    "#Adding additional features\n",
    "data_raw['allcaps'] = data_raw.Comment.str.isupper()\n",
    "# data_raw['Score'] = (data_raw['Score'] == 'Score')\n",
    "data = data_raw[keywords] + data_raw['allcaps']\n",
    "target = data_raw['Score']\n",
    "\n",
    "data_raw.head(3)\n",
    "\n",
    "#Heatmap\n",
    "sns.heatmap(data_raw.corr())"
   ]
  },
  {
   "cell_type": "code",
   "execution_count": 24,
   "metadata": {},
   "outputs": [
    {
     "name": "stdout",
     "output_type": "stream",
     "text": [
      "Number of mislabeled points out of a total 1000 points : 385\n"
     ]
    }
   ],
   "source": [
    "#Input comparison\n",
    "data = data_raw[keywords]\n",
    "target = data_raw['Score']\n",
    "\n",
    "#Naive Bayes Model\n",
    "bnb = BernoulliNB()\n",
    "bnb.fit (data, target)\n",
    "#Classification of the model\n",
    "y_pred = bnb.predict(data)\n",
    "\n",
    "#Printed Results\n",
    "print(\"Number of mislabeled points out of a total {} points : {}\".format(\n",
    "    data.shape[0],\n",
    "    (target != y_pred).sum()\n",
    "))"
   ]
  },
  {
   "cell_type": "code",
   "execution_count": 25,
   "metadata": {},
   "outputs": [
    {
     "name": "stdout",
     "output_type": "stream",
     "text": [
      "With 20% Holdout: 0.615\n",
      "Testing on Sample: 0.615\n"
     ]
    },
    {
     "data": {
      "text/plain": [
       "array([0.66, 0.58, 0.62, 0.62, 0.61, 0.6 , 0.63, 0.59, 0.61, 0.58])"
      ]
     },
     "execution_count": 25,
     "metadata": {},
     "output_type": "execute_result"
    }
   ],
   "source": [
    "#Confusion Matrix\n",
    "confusion_matrix(target, y_pred)\n",
    "\n",
    "#Cross Validate\n",
    "#Use train_test_split to create the necessary training and test groups\n",
    "X_train, X_test, y_train, y_test = train_test_split(data, target, test_size=0.2,\\\n",
    "                                                    random_state=20)\n",
    "print('With 20% Holdout: ' + str(bnb.fit(X_train, y_train).score(X_test, y_test)))\n",
    "print('Testing on Sample: ' + str(bnb.fit(data, target).score(data, target)))\n",
    "\n",
    "cross_val_score(bnb, data, target, cv=10)"
   ]
  },
  {
   "cell_type": "markdown",
   "metadata": {},
   "source": [
    "---"
   ]
  },
  {
   "cell_type": "markdown",
   "metadata": {},
   "source": [
    "Iteration Feature #4"
   ]
  },
  {
   "cell_type": "code",
   "execution_count": 39,
   "metadata": {},
   "outputs": [
    {
     "name": "stderr",
     "output_type": "stream",
     "text": [
      "C:\\Users\\liuth\\WPy-3670\\python-3.6.7.amd64\\lib\\site-packages\\pandas\\core\\indexes\\base.py:3772: RuntimeWarning: '<' not supported between instances of 'str' and 'int', sort order is undefined for incomparable objects\n",
      "  return this.join(other, how=how, return_indexers=return_indexers)\n"
     ]
    },
    {
     "data": {
      "text/plain": [
       "<matplotlib.axes._subplots.AxesSubplot at 0x290b133e048>"
      ]
     },
     "execution_count": 39,
     "metadata": {},
     "output_type": "execute_result"
    },
    {
     "data": {
      "image/png": "[encoded data removed]",
      "text/plain": [
       "<Figure size 432x288 with 2 Axes>"
      ]
     },
     "metadata": {
      "needs_background": "light"
     },
     "output_type": "display_data"
    }
   ],
   "source": [
    "#Building features\n",
    "keywords = ['good', 'great', 'excellent', 'must have', 'awesome', 'impressed',\\\n",
    "            'love', 'quality', 'happy', 'recommend', 'recommended', 'comfortable',\\\n",
    "            'well', 'highly', 'hype', 'extended', 'ideal',\\\n",
    "           'best']\n",
    "\n",
    "for key in keywords:\n",
    "     data_raw[str(key)] = data_raw.Comment.str.contains(\n",
    "        ' ' + str(key) + ' ',\n",
    "        case=False\n",
    "    ).astype(int)\n",
    "\n",
    "#Adding additional features\n",
    "data_raw['allcaps'] = data_raw.Comment.str.isupper()\n",
    "# data_raw['Score'] = (data_raw['Score'] == 'Score')\n",
    "data = data_raw[keywords] + data_raw['allcaps']\n",
    "target = data_raw['Score']\n",
    "\n",
    "data_raw.head(3)\n",
    "\n",
    "#Heatmap\n",
    "sns.heatmap(data_raw.corr())"
   ]
  },
  {
   "cell_type": "code",
   "execution_count": 37,
   "metadata": {},
   "outputs": [
    {
     "name": "stdout",
     "output_type": "stream",
     "text": [
      "Number of mislabeled points out of a total 1000 points : 371\n"
     ]
    }
   ],
   "source": [
    "#Input comparison\n",
    "data = data_raw[keywords]\n",
    "target = data_raw['Score']\n",
    "\n",
    "#Naive Bayes Model\n",
    "bnb = BernoulliNB()\n",
    "bnb.fit (data, target)\n",
    "#Classification of the model\n",
    "y_pred = bnb.predict(data)\n",
    "\n",
    "#Printed Results\n",
    "print(\"Number of mislabeled points out of a total {} points : {}\".format(\n",
    "    data.shape[0],\n",
    "    (target != y_pred).sum()\n",
    "))"
   ]
  },
  {
   "cell_type": "code",
   "execution_count": 38,
   "metadata": {},
   "outputs": [
    {
     "name": "stdout",
     "output_type": "stream",
     "text": [
      "With 20% Holdout: 0.635\n",
      "Testing on Sample: 0.629\n"
     ]
    },
    {
     "data": {
      "text/plain": [
       "array([0.67, 0.58, 0.64, 0.63, 0.63, 0.59, 0.63, 0.64, 0.63, 0.59])"
      ]
     },
     "execution_count": 38,
     "metadata": {},
     "output_type": "execute_result"
    }
   ],
   "source": [
    "#Confusion Matrix\n",
    "confusion_matrix(target, y_pred)\n",
    "\n",
    "#Cross Validate\n",
    "#Use train_test_split to create the necessary training and test groups\n",
    "X_train, X_test, y_train, y_test = train_test_split(data, target, test_size=0.2,\\\n",
    "                                                    random_state=20)\n",
    "print('With 20% Holdout: ' + str(bnb.fit(X_train, y_train).score(X_test, y_test)))\n",
    "print('Testing on Sample: ' + str(bnb.fit(data, target).score(data, target)))\n",
    "\n",
    "cross_val_score(bnb, data, target, cv=10)"
   ]
  },
  {
   "cell_type": "markdown",
   "metadata": {},
   "source": [
    "---"
   ]
  },
  {
   "cell_type": "markdown",
   "metadata": {},
   "source": [
    "It seems that the more keywords classifier that I put in in regards to words, not punctuation, seems to make the model more accurate.  The problem is that when looking at the cross validation score they do not change meaning that I was not in overfitting territory.  The issue is that when I input more words into the keyword classifier it enters into overfitting territory."
   ]
  }
 ],
 "metadata": {
  "kernelspec": {
   "display_name": "Python 3",
   "language": "python",
   "name": "python3"
  },
  "language_info": {
   "codemirror_mode": {
    "name": "ipython",
    "version": 3
   },
   "file_extension": ".py",
   "mimetype": "text/x-python",
   "name": "python",
   "nbconvert_exporter": "python",
   "pygments_lexer": "ipython3",
   "version": "3.6.7"
  }
 },
 "nbformat": 4,
 "nbformat_minor": 2
}
