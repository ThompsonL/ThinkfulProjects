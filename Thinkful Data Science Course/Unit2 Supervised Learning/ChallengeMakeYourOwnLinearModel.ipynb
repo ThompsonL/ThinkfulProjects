{
 "cells": [
  {
   "cell_type": "code",
   "execution_count": 1,
   "metadata": {},
   "outputs": [],
   "source": [
    "import math\n",
    "import warnings\n",
    "\n",
    "from IPython.display import display\n",
    "from matplotlib import pyplot as plt\n",
    "import numpy as np\n",
    "import pandas as pd\n",
    "import seaborn as sns\n",
    "from sklearn import linear_model\n",
    "from sklearn.preprocessing import StandardScaler\n",
    "from sklearn.decomposition import PCA\n",
    "from sklearn.model_selection import cross_val_score\n",
    "from scipy.stats import mstats\n",
    "import statsmodels.formula.api as smf\n",
    "import os\n",
    "\n",
    "# Display preferences.\n",
    "%matplotlib inline\n",
    "pd.options.display.float_format = '{:.3f}'.format\n",
    "\n",
    "# Suppress annoying harmless error.\n",
    "warnings.filterwarnings(\n",
    "    action=\"ignore\",\n",
    "    module=\"scipy\",\n",
    "    message=\"^internal gelsd\"\n",
    ")"
   ]
  },
  {
   "cell_type": "code",
   "execution_count": 2,
   "metadata": {},
   "outputs": [],
   "source": [
    "os.chdir('C:\\\\Users\\\\liuth\\Documents\\\\Python Scripts\\\\ThinkfulProjects\\Data')"
   ]
  },
  {
   "cell_type": "code",
   "execution_count": 3,
   "metadata": {},
   "outputs": [],
   "source": [
    "df = pd.read_excel(\"table_8_offenses_known_to_law_enforcement_new_york_by_city_2013.xls\", skiprows=4)"
   ]
  },
  {
   "cell_type": "markdown",
   "metadata": {},
   "source": [
    "---"
   ]
  },
  {
   "cell_type": "markdown",
   "metadata": {},
   "source": [
    "Cleaning Data"
   ]
  },
  {
   "cell_type": "code",
   "execution_count": 4,
   "metadata": {},
   "outputs": [],
   "source": [
    "df['Murder'] = df['Murder and\\nnonnegligent\\nmanslaughter']\n",
    "df['Property_Crime'] = df['Property\\ncrime']\n",
    "df['Rape'] = df['Rape\\n(revised\\ndefinition)1']\n",
    "df['Rapeleg'] = df['Rape\\n(legacy\\ndefinition)2']\n",
    "df['Arson3'] = df['Arson3']\n",
    "df['AA'] = df['Aggravated\\nassault']\n",
    "df['Larceny'] = df['Larceny-\\ntheft']\n",
    "df['GTA'] = df['Motor\\nvehicle\\ntheft']\n",
    "df['Population'] = np.log(df['Population'])\n",
    "#df['Population'] = mstats.winsorize(df['Population'], limits=0.05)"
   ]
  },
  {
   "cell_type": "code",
   "execution_count": 5,
   "metadata": {},
   "outputs": [],
   "source": [
    "data = df[['Population', 'Murder', 'Property_Crime', 'Rapeleg', 'Arson3', 'AA', 'GTA', 'Burglary', 'Larceny','Robbery',]].fillna(0)"
   ]
  },
  {
   "cell_type": "markdown",
   "metadata": {},
   "source": [
    "---"
   ]
  },
  {
   "cell_type": "markdown",
   "metadata": {},
   "source": [
    "Exploring the Data"
   ]
  },
  {
   "cell_type": "code",
   "execution_count": 124,
   "metadata": {},
   "outputs": [],
   "source": [
    "im=smf.ols(formula='Population~Murder+Property_Crime+Rapeleg+Arson3+AA+GTA+Burglary+Larceny+Robbery', data=data).fit()"
   ]
  },
  {
   "cell_type": "code",
   "execution_count": 125,
   "metadata": {},
   "outputs": [
    {
     "data": {
      "text/html": [
       "<table class=\"simpletable\">\n",
       "<caption>OLS Regression Results</caption>\n",
       "<tr>\n",
       "  <th>Dep. Variable:</th>       <td>Population</td>    <th>  R-squared:         </th> <td>   0.326</td>\n",
       "</tr>\n",
       "<tr>\n",
       "  <th>Model:</th>                   <td>OLS</td>       <th>  Adj. R-squared:    </th> <td>   0.310</td>\n",
       "</tr>\n",
       "<tr>\n",
       "  <th>Method:</th>             <td>Least Squares</td>  <th>  F-statistic:       </th> <td>   20.65</td>\n",
       "</tr>\n",
       "<tr>\n",
       "  <th>Date:</th>             <td>Fri, 12 Apr 2019</td> <th>  Prob (F-statistic):</th> <td>1.69e-25</td>\n",
       "</tr>\n",
       "<tr>\n",
       "  <th>Time:</th>                 <td>17:54:37</td>     <th>  Log-Likelihood:    </th> <td>  441.06</td>\n",
       "</tr>\n",
       "<tr>\n",
       "  <th>No. Observations:</th>      <td>   351</td>      <th>  AIC:               </th> <td>  -864.1</td>\n",
       "</tr>\n",
       "<tr>\n",
       "  <th>Df Residuals:</th>          <td>   342</td>      <th>  BIC:               </th> <td>  -829.4</td>\n",
       "</tr>\n",
       "<tr>\n",
       "  <th>Df Model:</th>              <td>     8</td>      <th>                     </th>     <td> </td>   \n",
       "</tr>\n",
       "<tr>\n",
       "  <th>Covariance Type:</th>      <td>nonrobust</td>    <th>                     </th>     <td> </td>   \n",
       "</tr>\n",
       "</table>\n",
       "<table class=\"simpletable\">\n",
       "<tr>\n",
       "         <td></td>           <th>coef</th>     <th>std err</th>      <th>t</th>      <th>P>|t|</th>  <th>[0.025</th>    <th>0.975]</th>  \n",
       "</tr>\n",
       "<tr>\n",
       "  <th>Intercept</th>      <td>   -0.2788</td> <td>    0.004</td> <td>  -63.930</td> <td> 0.000</td> <td>   -0.287</td> <td>   -0.270</td>\n",
       "</tr>\n",
       "<tr>\n",
       "  <th>Murder</th>         <td>   -0.0045</td> <td>    0.005</td> <td>   -0.863</td> <td> 0.389</td> <td>   -0.015</td> <td>    0.006</td>\n",
       "</tr>\n",
       "<tr>\n",
       "  <th>Property_Crime</th> <td>    0.0002</td> <td> 9.38e-05</td> <td>    2.186</td> <td> 0.030</td> <td> 2.05e-05</td> <td>    0.000</td>\n",
       "</tr>\n",
       "<tr>\n",
       "  <th>Rapeleg</th>        <td>   -0.0012</td> <td>    0.002</td> <td>   -0.653</td> <td> 0.514</td> <td>   -0.005</td> <td>    0.002</td>\n",
       "</tr>\n",
       "<tr>\n",
       "  <th>Arson3</th>         <td>   -0.0007</td> <td>    0.001</td> <td>   -0.871</td> <td> 0.385</td> <td>   -0.002</td> <td>    0.001</td>\n",
       "</tr>\n",
       "<tr>\n",
       "  <th>AA</th>             <td>   -0.0002</td> <td>    0.000</td> <td>   -0.824</td> <td> 0.411</td> <td>   -0.001</td> <td>    0.000</td>\n",
       "</tr>\n",
       "<tr>\n",
       "  <th>GTA</th>            <td>    0.0005</td> <td>    0.000</td> <td>    1.342</td> <td> 0.181</td> <td>   -0.000</td> <td>    0.001</td>\n",
       "</tr>\n",
       "<tr>\n",
       "  <th>Burglary</th>       <td>   -0.0002</td> <td>    0.000</td> <td>   -1.045</td> <td> 0.297</td> <td>   -0.001</td> <td>    0.000</td>\n",
       "</tr>\n",
       "<tr>\n",
       "  <th>Larceny</th>        <td>-7.811e-05</td> <td> 9.33e-05</td> <td>   -0.838</td> <td> 0.403</td> <td>   -0.000</td> <td>    0.000</td>\n",
       "</tr>\n",
       "<tr>\n",
       "  <th>Robbery</th>        <td>   -0.0006</td> <td>    0.000</td> <td>   -1.756</td> <td> 0.080</td> <td>   -0.001</td> <td> 7.74e-05</td>\n",
       "</tr>\n",
       "</table>\n",
       "<table class=\"simpletable\">\n",
       "<tr>\n",
       "  <th>Omnibus:</th>       <td>22.876</td> <th>  Durbin-Watson:     </th> <td>   1.832</td>\n",
       "</tr>\n",
       "<tr>\n",
       "  <th>Prob(Omnibus):</th> <td> 0.000</td> <th>  Jarque-Bera (JB):  </th> <td>  66.903</td>\n",
       "</tr>\n",
       "<tr>\n",
       "  <th>Skew:</th>          <td> 0.182</td> <th>  Prob(JB):          </th> <td>2.97e-15</td>\n",
       "</tr>\n",
       "<tr>\n",
       "  <th>Kurtosis:</th>      <td> 5.107</td> <th>  Cond. No.          </th> <td>4.31e+15</td>\n",
       "</tr>\n",
       "</table><br/><br/>Warnings:<br/>[1] Standard Errors assume that the covariance matrix of the errors is correctly specified.<br/>[2] The smallest eigenvalue is 1.96e-21. This might indicate that there are<br/>strong multicollinearity problems or that the design matrix is singular."
      ],
      "text/plain": [
       "<class 'statsmodels.iolib.summary.Summary'>\n",
       "\"\"\"\n",
       "                            OLS Regression Results                            \n",
       "==============================================================================\n",
       "Dep. Variable:             Population   R-squared:                       0.326\n",
       "Model:                            OLS   Adj. R-squared:                  0.310\n",
       "Method:                 Least Squares   F-statistic:                     20.65\n",
       "Date:                Fri, 12 Apr 2019   Prob (F-statistic):           1.69e-25\n",
       "Time:                        17:54:37   Log-Likelihood:                 441.06\n",
       "No. Observations:                 351   AIC:                            -864.1\n",
       "Df Residuals:                     342   BIC:                            -829.4\n",
       "Df Model:                           8                                         \n",
       "Covariance Type:            nonrobust                                         \n",
       "==================================================================================\n",
       "                     coef    std err          t      P>|t|      [0.025      0.975]\n",
       "----------------------------------------------------------------------------------\n",
       "Intercept         -0.2788      0.004    -63.930      0.000      -0.287      -0.270\n",
       "Murder            -0.0045      0.005     -0.863      0.389      -0.015       0.006\n",
       "Property_Crime     0.0002   9.38e-05      2.186      0.030    2.05e-05       0.000\n",
       "Rapeleg           -0.0012      0.002     -0.653      0.514      -0.005       0.002\n",
       "Arson3            -0.0007      0.001     -0.871      0.385      -0.002       0.001\n",
       "AA                -0.0002      0.000     -0.824      0.411      -0.001       0.000\n",
       "GTA                0.0005      0.000      1.342      0.181      -0.000       0.001\n",
       "Burglary          -0.0002      0.000     -1.045      0.297      -0.001       0.000\n",
       "Larceny        -7.811e-05   9.33e-05     -0.838      0.403      -0.000       0.000\n",
       "Robbery           -0.0006      0.000     -1.756      0.080      -0.001    7.74e-05\n",
       "==============================================================================\n",
       "Omnibus:                       22.876   Durbin-Watson:                   1.832\n",
       "Prob(Omnibus):                  0.000   Jarque-Bera (JB):               66.903\n",
       "Skew:                           0.182   Prob(JB):                     2.97e-15\n",
       "Kurtosis:                       5.107   Cond. No.                     4.31e+15\n",
       "==============================================================================\n",
       "\n",
       "Warnings:\n",
       "[1] Standard Errors assume that the covariance matrix of the errors is correctly specified.\n",
       "[2] The smallest eigenvalue is 1.96e-21. This might indicate that there are\n",
       "strong multicollinearity problems or that the design matrix is singular.\n",
       "\"\"\""
      ]
     },
     "execution_count": 125,
     "metadata": {},
     "output_type": "execute_result"
    }
   ],
   "source": [
    "im.params\n",
    "im.pvalues\n",
    "im.rsquared\n",
    "im.summary()"
   ]
  },
  {
   "cell_type": "markdown",
   "metadata": {},
   "source": [
    "---"
   ]
  },
  {
   "cell_type": "markdown",
   "metadata": {},
   "source": [
    "Windsorize Data and Re-Explore"
   ]
  },
  {
   "cell_type": "code",
   "execution_count": 126,
   "metadata": {},
   "outputs": [],
   "source": [
    "def remove_outliers(data):\n",
    "    return mstats.winsorize(data, limits=0.05)\n",
    "\n",
    "for d in data.columns:\n",
    "    data[d] = remove_outliers(data[d])"
   ]
  },
  {
   "cell_type": "code",
   "execution_count": 127,
   "metadata": {},
   "outputs": [],
   "source": [
    "im=smf.ols(formula='Population~Murder+Property_Crime+Rapeleg+Arson3+AA+GTA+Burglary+Larceny+Robbery', data=data).fit()"
   ]
  },
  {
   "cell_type": "code",
   "execution_count": 128,
   "metadata": {},
   "outputs": [
    {
     "data": {
      "text/html": [
       "<table class=\"simpletable\">\n",
       "<caption>OLS Regression Results</caption>\n",
       "<tr>\n",
       "  <th>Dep. Variable:</th>       <td>Population</td>    <th>  R-squared:         </th> <td>   0.522</td>\n",
       "</tr>\n",
       "<tr>\n",
       "  <th>Model:</th>                   <td>OLS</td>       <th>  Adj. R-squared:    </th> <td>   0.509</td>\n",
       "</tr>\n",
       "<tr>\n",
       "  <th>Method:</th>             <td>Least Squares</td>  <th>  F-statistic:       </th> <td>   41.37</td>\n",
       "</tr>\n",
       "<tr>\n",
       "  <th>Date:</th>             <td>Fri, 12 Apr 2019</td> <th>  Prob (F-statistic):</th> <td>1.36e-49</td>\n",
       "</tr>\n",
       "<tr>\n",
       "  <th>Time:</th>                 <td>17:54:44</td>     <th>  Log-Likelihood:    </th> <td>  544.18</td>\n",
       "</tr>\n",
       "<tr>\n",
       "  <th>No. Observations:</th>      <td>   351</td>      <th>  AIC:               </th> <td>  -1068.</td>\n",
       "</tr>\n",
       "<tr>\n",
       "  <th>Df Residuals:</th>          <td>   341</td>      <th>  BIC:               </th> <td>  -1030.</td>\n",
       "</tr>\n",
       "<tr>\n",
       "  <th>Df Model:</th>              <td>     9</td>      <th>                     </th>     <td> </td>   \n",
       "</tr>\n",
       "<tr>\n",
       "  <th>Covariance Type:</th>      <td>nonrobust</td>    <th>                     </th>     <td> </td>   \n",
       "</tr>\n",
       "</table>\n",
       "<table class=\"simpletable\">\n",
       "<tr>\n",
       "         <td></td>           <th>coef</th>     <th>std err</th>      <th>t</th>      <th>P>|t|</th>  <th>[0.025</th>    <th>0.975]</th>  \n",
       "</tr>\n",
       "<tr>\n",
       "  <th>Intercept</th>      <td>   -0.2947</td> <td>    0.004</td> <td>  -79.535</td> <td> 0.000</td> <td>   -0.302</td> <td>   -0.287</td>\n",
       "</tr>\n",
       "<tr>\n",
       "  <th>Murder</th>         <td>    0.0094</td> <td>    0.008</td> <td>    1.172</td> <td> 0.242</td> <td>   -0.006</td> <td>    0.025</td>\n",
       "</tr>\n",
       "<tr>\n",
       "  <th>Property_Crime</th> <td>    0.0003</td> <td>    0.000</td> <td>    1.529</td> <td> 0.127</td> <td>-7.52e-05</td> <td>    0.001</td>\n",
       "</tr>\n",
       "<tr>\n",
       "  <th>Rapeleg</th>        <td>   -0.0024</td> <td>    0.002</td> <td>   -1.136</td> <td> 0.257</td> <td>   -0.007</td> <td>    0.002</td>\n",
       "</tr>\n",
       "<tr>\n",
       "  <th>Arson3</th>         <td>    0.0030</td> <td>    0.004</td> <td>    0.756</td> <td> 0.450</td> <td>   -0.005</td> <td>    0.011</td>\n",
       "</tr>\n",
       "<tr>\n",
       "  <th>AA</th>             <td>    0.0006</td> <td>    0.000</td> <td>    1.468</td> <td> 0.143</td> <td>   -0.000</td> <td>    0.001</td>\n",
       "</tr>\n",
       "<tr>\n",
       "  <th>GTA</th>            <td>-6.279e-05</td> <td>    0.001</td> <td>   -0.103</td> <td> 0.918</td> <td>   -0.001</td> <td>    0.001</td>\n",
       "</tr>\n",
       "<tr>\n",
       "  <th>Burglary</th>       <td>    0.0001</td> <td>    0.000</td> <td>    0.513</td> <td> 0.609</td> <td>   -0.000</td> <td>    0.001</td>\n",
       "</tr>\n",
       "<tr>\n",
       "  <th>Larceny</th>        <td>   -0.0001</td> <td>    0.000</td> <td>   -0.744</td> <td> 0.458</td> <td>   -0.000</td> <td>    0.000</td>\n",
       "</tr>\n",
       "<tr>\n",
       "  <th>Robbery</th>        <td>   -0.0018</td> <td>    0.001</td> <td>   -2.847</td> <td> 0.005</td> <td>   -0.003</td> <td>   -0.001</td>\n",
       "</tr>\n",
       "</table>\n",
       "<table class=\"simpletable\">\n",
       "<tr>\n",
       "  <th>Omnibus:</th>       <td> 1.729</td> <th>  Durbin-Watson:     </th> <td>   2.034</td>\n",
       "</tr>\n",
       "<tr>\n",
       "  <th>Prob(Omnibus):</th> <td> 0.421</td> <th>  Jarque-Bera (JB):  </th> <td>   1.796</td>\n",
       "</tr>\n",
       "<tr>\n",
       "  <th>Skew:</th>          <td> 0.137</td> <th>  Prob(JB):          </th> <td>   0.407</td>\n",
       "</tr>\n",
       "<tr>\n",
       "  <th>Kurtosis:</th>      <td> 2.780</td> <th>  Cond. No.          </th> <td>1.77e+03</td>\n",
       "</tr>\n",
       "</table><br/><br/>Warnings:<br/>[1] Standard Errors assume that the covariance matrix of the errors is correctly specified.<br/>[2] The condition number is large, 1.77e+03. This might indicate that there are<br/>strong multicollinearity or other numerical problems."
      ],
      "text/plain": [
       "<class 'statsmodels.iolib.summary.Summary'>\n",
       "\"\"\"\n",
       "                            OLS Regression Results                            \n",
       "==============================================================================\n",
       "Dep. Variable:             Population   R-squared:                       0.522\n",
       "Model:                            OLS   Adj. R-squared:                  0.509\n",
       "Method:                 Least Squares   F-statistic:                     41.37\n",
       "Date:                Fri, 12 Apr 2019   Prob (F-statistic):           1.36e-49\n",
       "Time:                        17:54:44   Log-Likelihood:                 544.18\n",
       "No. Observations:                 351   AIC:                            -1068.\n",
       "Df Residuals:                     341   BIC:                            -1030.\n",
       "Df Model:                           9                                         \n",
       "Covariance Type:            nonrobust                                         \n",
       "==================================================================================\n",
       "                     coef    std err          t      P>|t|      [0.025      0.975]\n",
       "----------------------------------------------------------------------------------\n",
       "Intercept         -0.2947      0.004    -79.535      0.000      -0.302      -0.287\n",
       "Murder             0.0094      0.008      1.172      0.242      -0.006       0.025\n",
       "Property_Crime     0.0003      0.000      1.529      0.127   -7.52e-05       0.001\n",
       "Rapeleg           -0.0024      0.002     -1.136      0.257      -0.007       0.002\n",
       "Arson3             0.0030      0.004      0.756      0.450      -0.005       0.011\n",
       "AA                 0.0006      0.000      1.468      0.143      -0.000       0.001\n",
       "GTA            -6.279e-05      0.001     -0.103      0.918      -0.001       0.001\n",
       "Burglary           0.0001      0.000      0.513      0.609      -0.000       0.001\n",
       "Larceny           -0.0001      0.000     -0.744      0.458      -0.000       0.000\n",
       "Robbery           -0.0018      0.001     -2.847      0.005      -0.003      -0.001\n",
       "==============================================================================\n",
       "Omnibus:                        1.729   Durbin-Watson:                   2.034\n",
       "Prob(Omnibus):                  0.421   Jarque-Bera (JB):                1.796\n",
       "Skew:                           0.137   Prob(JB):                        0.407\n",
       "Kurtosis:                       2.780   Cond. No.                     1.77e+03\n",
       "==============================================================================\n",
       "\n",
       "Warnings:\n",
       "[1] Standard Errors assume that the covariance matrix of the errors is correctly specified.\n",
       "[2] The condition number is large, 1.77e+03. This might indicate that there are\n",
       "strong multicollinearity or other numerical problems.\n",
       "\"\"\""
      ]
     },
     "execution_count": 128,
     "metadata": {},
     "output_type": "execute_result"
    }
   ],
   "source": [
    "im.params\n",
    "im.pvalues\n",
    "im.rsquared\n",
    "im.summary()"
   ]
  },
  {
   "cell_type": "markdown",
   "metadata": {},
   "source": [
    "---"
   ]
  },
  {
   "cell_type": "markdown",
   "metadata": {},
   "source": [
    "Finding Correlation for feature selection"
   ]
  },
  {
   "cell_type": "code",
   "execution_count": 129,
   "metadata": {},
   "outputs": [
    {
     "data": {
      "text/plain": [
       "<matplotlib.axes._subplots.AxesSubplot at 0x2a09cfc2898>"
      ]
     },
     "execution_count": 129,
     "metadata": {},
     "output_type": "execute_result"
    },
    {
     "data": {
      "image/png": "[encoded data removed]",
      "text/plain": [
       "<Figure size 720x720 with 2 Axes>"
      ]
     },
     "metadata": {
      "needs_background": "light"
     },
     "output_type": "display_data"
    }
   ],
   "source": [
    "fig, ax = plt.subplots(figsize=(10,10))\n",
    "sns.heatmap(data.corr(), linewidths=0.1, square=True, cmap = \"BrBG\", linecolor='black', annot=True, ax=ax)"
   ]
  },
  {
   "cell_type": "markdown",
   "metadata": {},
   "source": [
    "---"
   ]
  },
  {
   "cell_type": "markdown",
   "metadata": {},
   "source": [
    "Creating Features"
   ]
  },
  {
   "cell_type": "code",
   "execution_count": 130,
   "metadata": {},
   "outputs": [],
   "source": [
    "data2 = pd.DataFrame()"
   ]
  },
  {
   "cell_type": "code",
   "execution_count": 131,
   "metadata": {},
   "outputs": [
    {
     "data": {
      "text/plain": [
       "(351, 11)"
      ]
     },
     "execution_count": 131,
     "metadata": {},
     "output_type": "execute_result"
    }
   ],
   "source": [
    "data2['Population'] = data['Population']\n",
    "data2['Population2'] = data['Population']**2\n",
    "data2['Murder'] = data['Murder']\n",
    "data2['Robbery'] = data['Robbery']\n",
    "data2['Property_Crime'] = data['Property_Crime']\n",
    "data2['Arson3'] = data['Arson3']\n",
    "data2['AA'] = data['AA']\n",
    "data2['Rapleg'] = df['Rapeleg']\n",
    "data2['GTA'] = df['GTA']\n",
    "data2['Burglary'] = data['Burglary']\n",
    "data2['Larceny'] = data['Larceny']\n",
    "data2['Robbery'] = data['Robbery']\n",
    "\n",
    "data2.shape"
   ]
  },
  {
   "cell_type": "markdown",
   "metadata": {},
   "source": [
    "---"
   ]
  },
  {
   "cell_type": "markdown",
   "metadata": {},
   "source": [
    "Building and Fitting the Linear Regression Model"
   ]
  },
  {
   "cell_type": "code",
   "execution_count": 132,
   "metadata": {},
   "outputs": [
    {
     "name": "stdout",
     "output_type": "stream",
     "text": [
      "\n",
      "Coefficients: \n",
      " [[ 0.01031921 -0.00104261  0.00016629]]\n",
      "\n",
      "Intercept: \n",
      " [-0.2923396]\n",
      "\n",
      "R-squared:\n",
      "0.5120108275760741\n"
     ]
    }
   ],
   "source": [
    "regr = linear_model.LinearRegression()\n",
    "Y = data['Population'].values.reshape(-1, 1)\n",
    "X = data[['Murder','Robbery','Property_Crime']]\n",
    "regr.fit(X, Y)\n",
    "\n",
    "# Inspect the results.\n",
    "print('\\nCoefficients: \\n', regr.coef_)\n",
    "print('\\nIntercept: \\n', regr.intercept_)\n",
    "print('\\nR-squared:')\n",
    "print(regr.score(X, Y))"
   ]
  },
  {
   "cell_type": "code",
   "execution_count": 133,
   "metadata": {},
   "outputs": [
    {
     "data": {
      "text/html": [
       "<div>\n",
       "<style scoped>\n",
       "    .dataframe tbody tr th:only-of-type {\n",
       "        vertical-align: middle;\n",
       "    }\n",
       "\n",
       "    .dataframe tbody tr th {\n",
       "        vertical-align: top;\n",
       "    }\n",
       "\n",
       "    .dataframe thead th {\n",
       "        text-align: right;\n",
       "    }\n",
       "</style>\n",
       "<table border=\"1\" class=\"dataframe\">\n",
       "  <thead>\n",
       "    <tr style=\"text-align: right;\">\n",
       "      <th></th>\n",
       "      <th>Murder</th>\n",
       "      <th>Robbery</th>\n",
       "      <th>Property_Crime</th>\n",
       "    </tr>\n",
       "  </thead>\n",
       "  <tbody>\n",
       "    <tr>\n",
       "      <th>Murder</th>\n",
       "      <td>1.000</td>\n",
       "      <td>0.721</td>\n",
       "      <td>0.628</td>\n",
       "    </tr>\n",
       "    <tr>\n",
       "      <th>Robbery</th>\n",
       "      <td>0.721</td>\n",
       "      <td>1.000</td>\n",
       "      <td>0.861</td>\n",
       "    </tr>\n",
       "    <tr>\n",
       "      <th>Property_Crime</th>\n",
       "      <td>0.628</td>\n",
       "      <td>0.861</td>\n",
       "      <td>1.000</td>\n",
       "    </tr>\n",
       "  </tbody>\n",
       "</table>\n",
       "</div>"
      ],
      "text/plain": [
       "                Murder  Robbery  Property_Crime\n",
       "Murder           1.000    0.721           0.628\n",
       "Robbery          0.721    1.000           0.861\n",
       "Property_Crime   0.628    0.861           1.000"
      ]
     },
     "metadata": {},
     "output_type": "display_data"
    }
   ],
   "source": [
    "correlation_matrix = X.corr()\n",
    "display(correlation_matrix)"
   ]
  },
  {
   "cell_type": "markdown",
   "metadata": {},
   "source": [
    "---"
   ]
  },
  {
   "cell_type": "markdown",
   "metadata": {},
   "source": [
    "Extracting Predicted Values"
   ]
  },
  {
   "cell_type": "code",
   "execution_count": 134,
   "metadata": {},
   "outputs": [
    {
     "data": {
      "image/png": "[encoded data removed]",
      "text/plain": [
       "<Figure size 432x288 with 1 Axes>"
      ]
     },
     "metadata": {
      "needs_background": "light"
     },
     "output_type": "display_data"
    },
    {
     "data": {
      "image/png": "[encoded data removed]",
      "text/plain": [
       "<Figure size 432x288 with 1 Axes>"
      ]
     },
     "metadata": {
      "needs_background": "light"
     },
     "output_type": "display_data"
    }
   ],
   "source": [
    "predicted = regr.predict(X).ravel()\n",
    "actual = data2['Population']\n",
    "\n",
    "residual = actual - predicted\n",
    "\n",
    "plt.hist(residual)\n",
    "plt.title('Residual counts')\n",
    "plt.xlabel('Residual')\n",
    "plt.ylabel('Count')\n",
    "plt.show()\n",
    "\n",
    "plt.scatter(predicted, residual)\n",
    "plt.xlabel('Predicted')\n",
    "plt.ylabel('Residual')\n",
    "plt.axhline(y=0)\n",
    "axes = plt.gca()\n",
    "plt.title('Residual vs. Predicted')\n",
    "plt.show()"
   ]
  },
  {
   "cell_type": "code",
   "execution_count": 135,
   "metadata": {},
   "outputs": [
    {
     "data": {
      "text/plain": [
       "array([0.57173737, 0.49083362, 0.43136523, 0.53036551, 0.44647343])"
      ]
     },
     "execution_count": 135,
     "metadata": {},
     "output_type": "execute_result"
    }
   ],
   "source": [
    "model = regr.fit(X, Y)\n",
    "cross_val_score(model, X, Y, cv=5)"
   ]
  },
  {
   "cell_type": "markdown",
   "metadata": {},
   "source": [
    "---"
   ]
  },
  {
   "cell_type": "markdown",
   "metadata": {},
   "source": [
    "Adjusting the skewness"
   ]
  },
  {
   "cell_type": "code",
   "execution_count": 136,
   "metadata": {},
   "outputs": [
    {
     "name": "stdout",
     "output_type": "stream",
     "text": [
      "\n",
      "Coefficients: \n",
      " [[ 8.50862145e-05  1.18216279e-02 -4.48669365e-03]]\n",
      "\n",
      "Intercept: \n",
      " [-0.29332098]\n",
      "\n",
      "R-squared:\n",
      "0.5229904835512291\n"
     ]
    },
    {
     "name": "stderr",
     "output_type": "stream",
     "text": [
      "C:\\Users\\liuth\\WPy-3670\\python-3.6.7.amd64\\lib\\site-packages\\ipykernel_launcher.py:7: SettingWithCopyWarning: \n",
      "A value is trying to be set on a copy of a slice from a DataFrame.\n",
      "Try using .loc[row_indexer,col_indexer] = value instead\n",
      "\n",
      "See the caveats in the documentation: http://pandas.pydata.org/pandas-docs/stable/indexing.html#indexing-view-versus-copy\n",
      "  import sys\n",
      "C:\\Users\\liuth\\WPy-3670\\python-3.6.7.amd64\\lib\\site-packages\\ipykernel_launcher.py:8: SettingWithCopyWarning: \n",
      "A value is trying to be set on a copy of a slice from a DataFrame.\n",
      "Try using .loc[row_indexer,col_indexer] = value instead\n",
      "\n",
      "See the caveats in the documentation: http://pandas.pydata.org/pandas-docs/stable/indexing.html#indexing-view-versus-copy\n",
      "  \n"
     ]
    }
   ],
   "source": [
    "regr = linear_model.LinearRegression()\n",
    "Y = data['Population'].values.reshape(-1, 1)\n",
    "X = data[['Murder','Robbery','Property_Crime']]\n",
    "rob_2 = [math.sqrt(x) for x in data['Robbery']]\n",
    "murd2 = [math.sqrt(x) for x in data['Murder']]\n",
    "X = data[['Property_Crime']]\n",
    "X['rob_2'] = rob_2\n",
    "X['murd2'] = murd2\n",
    "regr.fit(X, Y)\n",
    "\n",
    "# Inspect the results.\n",
    "print('\\nCoefficients: \\n', regr.coef_)\n",
    "print('\\nIntercept: \\n', regr.intercept_)\n",
    "print('\\nR-squared:')\n",
    "print(regr.score(X, Y))"
   ]
  },
  {
   "cell_type": "code",
   "execution_count": 137,
   "metadata": {},
   "outputs": [
    {
     "data": {
      "image/png": "[encoded data removed]",
      "text/plain": [
       "<Figure size 432x288 with 1 Axes>"
      ]
     },
     "metadata": {
      "needs_background": "light"
     },
     "output_type": "display_data"
    },
    {
     "data": {
      "image/png": "[encoded data removed]",
      "text/plain": [
       "<Figure size 432x288 with 1 Axes>"
      ]
     },
     "metadata": {
      "needs_background": "light"
     },
     "output_type": "display_data"
    }
   ],
   "source": [
    "predicted = regr.predict(X).ravel()\n",
    "actual = data2['Population']\n",
    "\n",
    "residual = actual - predicted\n",
    "\n",
    "plt.hist(residual)\n",
    "plt.title('Residual counts')\n",
    "plt.xlabel('Residual')\n",
    "plt.ylabel('Count')\n",
    "plt.show()\n",
    "\n",
    "plt.scatter(predicted, residual)\n",
    "plt.xlabel('Predicted')\n",
    "plt.ylabel('Residual')\n",
    "plt.axhline(y=0)\n",
    "axes = plt.gca()\n",
    "plt.title('Residual vs. Predicted')\n",
    "plt.show()"
   ]
  },
  {
   "cell_type": "code",
   "execution_count": 138,
   "metadata": {},
   "outputs": [
    {
     "data": {
      "text/html": [
       "<div>\n",
       "<style scoped>\n",
       "    .dataframe tbody tr th:only-of-type {\n",
       "        vertical-align: middle;\n",
       "    }\n",
       "\n",
       "    .dataframe tbody tr th {\n",
       "        vertical-align: top;\n",
       "    }\n",
       "\n",
       "    .dataframe thead th {\n",
       "        text-align: right;\n",
       "    }\n",
       "</style>\n",
       "<table border=\"1\" class=\"dataframe\">\n",
       "  <thead>\n",
       "    <tr style=\"text-align: right;\">\n",
       "      <th></th>\n",
       "      <th>Property_Crime</th>\n",
       "      <th>rob_2</th>\n",
       "      <th>murd2</th>\n",
       "    </tr>\n",
       "  </thead>\n",
       "  <tbody>\n",
       "    <tr>\n",
       "      <th>Property_Crime</th>\n",
       "      <td>1.000</td>\n",
       "      <td>0.898</td>\n",
       "      <td>0.613</td>\n",
       "    </tr>\n",
       "    <tr>\n",
       "      <th>rob_2</th>\n",
       "      <td>0.898</td>\n",
       "      <td>1.000</td>\n",
       "      <td>0.656</td>\n",
       "    </tr>\n",
       "    <tr>\n",
       "      <th>murd2</th>\n",
       "      <td>0.613</td>\n",
       "      <td>0.656</td>\n",
       "      <td>1.000</td>\n",
       "    </tr>\n",
       "  </tbody>\n",
       "</table>\n",
       "</div>"
      ],
      "text/plain": [
       "                Property_Crime  rob_2  murd2\n",
       "Property_Crime           1.000  0.898  0.613\n",
       "rob_2                    0.898  1.000  0.656\n",
       "murd2                    0.613  0.656  1.000"
      ]
     },
     "execution_count": 138,
     "metadata": {},
     "output_type": "execute_result"
    }
   ],
   "source": [
    "X.corr()"
   ]
  }
 ],
 "metadata": {
  "kernelspec": {
   "display_name": "Python 3",
   "language": "python",
   "name": "python3"
  },
  "language_info": {
   "codemirror_mode": {
    "name": "ipython",
    "version": 3
   },
   "file_extension": ".py",
   "mimetype": "text/x-python",
   "name": "python",
   "nbconvert_exporter": "python",
   "pygments_lexer": "ipython3",
   "version": "3.7.3"
  }
 },
 "nbformat": 4,
 "nbformat_minor": 2
}
