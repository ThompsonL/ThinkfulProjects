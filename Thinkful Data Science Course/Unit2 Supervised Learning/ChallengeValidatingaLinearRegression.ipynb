{
 "cells": [
  {
   "cell_type": "code",
   "execution_count": 2,
   "metadata": {},
   "outputs": [],
   "source": [
    "import math\n",
    "import warnings\n",
    "\n",
    "from IPython.display import display\n",
    "from matplotlib import pyplot as plt\n",
    "import numpy as np\n",
    "import pandas as pd\n",
    "import seaborn as sns\n",
    "from sklearn import linear_model\n",
    "from sklearn.preprocessing import StandardScaler\n",
    "from sklearn.decomposition import PCA\n",
    "from sklearn.model_selection import cross_val_score\n",
    "from scipy.stats import mstats\n",
    "import statsmodels.formula.api as smf\n",
    "import os\n",
    "\n",
    "# Display preferences.\n",
    "%matplotlib inline\n",
    "pd.options.display.float_format = '{:.3f}'.format\n",
    "\n",
    "# Suppress annoying harmless error.\n",
    "warnings.filterwarnings(\n",
    "    action=\"ignore\",\n",
    "    module=\"scipy\",\n",
    "    message=\"^internal gelsd\"\n",
    ")"
   ]
  },
  {
   "cell_type": "code",
   "execution_count": 3,
   "metadata": {},
   "outputs": [],
   "source": [
    "os.chdir('C:\\\\Users\\\\liuth\\Documents\\\\Python Scripts\\\\ThinkfulProjects\\Data')"
   ]
  },
  {
   "cell_type": "code",
   "execution_count": 4,
   "metadata": {},
   "outputs": [],
   "source": [
    "df = pd.read_excel(\"table_8_offenses_known_to_law_enforcement_new_york_by_city_2013.xls\", skiprows=4)"
   ]
  },
  {
   "cell_type": "markdown",
   "metadata": {},
   "source": [
    "---"
   ]
  },
  {
   "cell_type": "markdown",
   "metadata": {},
   "source": [
    "Cleaning Data"
   ]
  },
  {
   "cell_type": "code",
   "execution_count": 5,
   "metadata": {},
   "outputs": [],
   "source": [
    "df['Murder'] = df['Murder and\\nnonnegligent\\nmanslaughter']\n",
    "df['Property_Crime'] = df['Property\\ncrime']\n",
    "df['Rape'] = df['Rape\\n(revised\\ndefinition)1']\n",
    "df['Rapeleg'] = df['Rape\\n(legacy\\ndefinition)2']\n",
    "df['Arson3'] = df['Arson3']\n",
    "df['AA'] = df['Aggravated\\nassault']\n",
    "df['Larceny'] = df['Larceny-\\ntheft']\n",
    "df['GTA'] = df['Motor\\nvehicle\\ntheft']\n",
    "df['Population'] = np.log(df['Population'])\n",
    "#df['Population'] = mstats.winsorize(df['Population'], limits=0.05)"
   ]
  },
  {
   "cell_type": "code",
   "execution_count": 6,
   "metadata": {},
   "outputs": [],
   "source": [
    "data = df[['Population', 'Murder', 'Property_Crime', 'Rapeleg', 'Arson3', 'AA', 'GTA', 'Burglary', 'Larceny','Robbery',]].fillna(0)"
   ]
  },
  {
   "cell_type": "markdown",
   "metadata": {},
   "source": [
    "---"
   ]
  },
  {
   "cell_type": "markdown",
   "metadata": {},
   "source": [
    "Exploring the Data"
   ]
  },
  {
   "cell_type": "code",
   "execution_count": 7,
   "metadata": {},
   "outputs": [],
   "source": [
    "im=smf.ols(formula='Population~Murder+Property_Crime+Rapeleg+Arson3+AA+GTA+Burglary+Larceny+Robbery', data=data).fit()"
   ]
  },
  {
   "cell_type": "code",
   "execution_count": 8,
   "metadata": {},
   "outputs": [
    {
     "data": {
      "text/html": [
       "<table class=\"simpletable\">\n",
       "<caption>OLS Regression Results</caption>\n",
       "<tr>\n",
       "  <th>Dep. Variable:</th>       <td>Population</td>    <th>  R-squared:         </th> <td>   0.374</td>\n",
       "</tr>\n",
       "<tr>\n",
       "  <th>Model:</th>                   <td>OLS</td>       <th>  Adj. R-squared:    </th> <td>   0.359</td>\n",
       "</tr>\n",
       "<tr>\n",
       "  <th>Method:</th>             <td>Least Squares</td>  <th>  F-statistic:       </th> <td>   25.55</td>\n",
       "</tr>\n",
       "<tr>\n",
       "  <th>Date:</th>             <td>Mon, 15 Apr 2019</td> <th>  Prob (F-statistic):</th> <td>7.42e-31</td>\n",
       "</tr>\n",
       "<tr>\n",
       "  <th>Time:</th>                 <td>14:11:51</td>     <th>  Log-Likelihood:    </th> <td> -555.24</td>\n",
       "</tr>\n",
       "<tr>\n",
       "  <th>No. Observations:</th>      <td>   351</td>      <th>  AIC:               </th> <td>   1128.</td>\n",
       "</tr>\n",
       "<tr>\n",
       "  <th>Df Residuals:</th>          <td>   342</td>      <th>  BIC:               </th> <td>   1163.</td>\n",
       "</tr>\n",
       "<tr>\n",
       "  <th>Df Model:</th>              <td>     8</td>      <th>                     </th>     <td> </td>   \n",
       "</tr>\n",
       "<tr>\n",
       "  <th>Covariance Type:</th>      <td>nonrobust</td>    <th>                     </th>     <td> </td>   \n",
       "</tr>\n",
       "</table>\n",
       "<table class=\"simpletable\">\n",
       "<tr>\n",
       "         <td></td>           <th>coef</th>     <th>std err</th>      <th>t</th>      <th>P>|t|</th>  <th>[0.025</th>    <th>0.975]</th>  \n",
       "</tr>\n",
       "<tr>\n",
       "  <th>Intercept</th>      <td>    8.3792</td> <td>    0.075</td> <td>  112.443</td> <td> 0.000</td> <td>    8.233</td> <td>    8.526</td>\n",
       "</tr>\n",
       "<tr>\n",
       "  <th>Murder</th>         <td>   -0.0775</td> <td>    0.090</td> <td>   -0.863</td> <td> 0.389</td> <td>   -0.254</td> <td>    0.099</td>\n",
       "</tr>\n",
       "<tr>\n",
       "  <th>Property_Crime</th> <td>    0.0042</td> <td>    0.002</td> <td>    2.603</td> <td> 0.010</td> <td>    0.001</td> <td>    0.007</td>\n",
       "</tr>\n",
       "<tr>\n",
       "  <th>Rapeleg</th>        <td>   -0.0257</td> <td>    0.031</td> <td>   -0.830</td> <td> 0.407</td> <td>   -0.087</td> <td>    0.035</td>\n",
       "</tr>\n",
       "<tr>\n",
       "  <th>Arson3</th>         <td>   -0.0102</td> <td>    0.013</td> <td>   -0.787</td> <td> 0.432</td> <td>   -0.036</td> <td>    0.015</td>\n",
       "</tr>\n",
       "<tr>\n",
       "  <th>AA</th>             <td>   -0.0023</td> <td>    0.003</td> <td>   -0.718</td> <td> 0.473</td> <td>   -0.009</td> <td>    0.004</td>\n",
       "</tr>\n",
       "<tr>\n",
       "  <th>GTA</th>            <td>    0.0099</td> <td>    0.006</td> <td>    1.687</td> <td> 0.093</td> <td>   -0.002</td> <td>    0.021</td>\n",
       "</tr>\n",
       "<tr>\n",
       "  <th>Burglary</th>       <td>   -0.0037</td> <td>    0.003</td> <td>   -1.300</td> <td> 0.194</td> <td>   -0.009</td> <td>    0.002</td>\n",
       "</tr>\n",
       "<tr>\n",
       "  <th>Larceny</th>        <td>   -0.0019</td> <td>    0.002</td> <td>   -1.223</td> <td> 0.222</td> <td>   -0.005</td> <td>    0.001</td>\n",
       "</tr>\n",
       "<tr>\n",
       "  <th>Robbery</th>        <td>   -0.0125</td> <td>    0.006</td> <td>   -1.985</td> <td> 0.048</td> <td>   -0.025</td> <td>   -0.000</td>\n",
       "</tr>\n",
       "</table>\n",
       "<table class=\"simpletable\">\n",
       "<tr>\n",
       "  <th>Omnibus:</th>       <td>263.710</td> <th>  Durbin-Watson:     </th> <td>   1.357</td>\n",
       "</tr>\n",
       "<tr>\n",
       "  <th>Prob(Omnibus):</th> <td> 0.000</td>  <th>  Jarque-Bera (JB):  </th> <td>6533.802</td>\n",
       "</tr>\n",
       "<tr>\n",
       "  <th>Skew:</th>          <td>-2.815</td>  <th>  Prob(JB):          </th> <td>    0.00</td>\n",
       "</tr>\n",
       "<tr>\n",
       "  <th>Kurtosis:</th>      <td>23.373</td>  <th>  Cond. No.          </th> <td>4.31e+15</td>\n",
       "</tr>\n",
       "</table><br/><br/>Warnings:<br/>[1] Standard Errors assume that the covariance matrix of the errors is correctly specified.<br/>[2] The smallest eigenvalue is 1.96e-21. This might indicate that there are<br/>strong multicollinearity problems or that the design matrix is singular."
      ],
      "text/plain": [
       "<class 'statsmodels.iolib.summary.Summary'>\n",
       "\"\"\"\n",
       "                            OLS Regression Results                            \n",
       "==============================================================================\n",
       "Dep. Variable:             Population   R-squared:                       0.374\n",
       "Model:                            OLS   Adj. R-squared:                  0.359\n",
       "Method:                 Least Squares   F-statistic:                     25.55\n",
       "Date:                Mon, 15 Apr 2019   Prob (F-statistic):           7.42e-31\n",
       "Time:                        14:11:51   Log-Likelihood:                -555.24\n",
       "No. Observations:                 351   AIC:                             1128.\n",
       "Df Residuals:                     342   BIC:                             1163.\n",
       "Df Model:                           8                                         \n",
       "Covariance Type:            nonrobust                                         \n",
       "==================================================================================\n",
       "                     coef    std err          t      P>|t|      [0.025      0.975]\n",
       "----------------------------------------------------------------------------------\n",
       "Intercept          8.3792      0.075    112.443      0.000       8.233       8.526\n",
       "Murder            -0.0775      0.090     -0.863      0.389      -0.254       0.099\n",
       "Property_Crime     0.0042      0.002      2.603      0.010       0.001       0.007\n",
       "Rapeleg           -0.0257      0.031     -0.830      0.407      -0.087       0.035\n",
       "Arson3            -0.0102      0.013     -0.787      0.432      -0.036       0.015\n",
       "AA                -0.0023      0.003     -0.718      0.473      -0.009       0.004\n",
       "GTA                0.0099      0.006      1.687      0.093      -0.002       0.021\n",
       "Burglary          -0.0037      0.003     -1.300      0.194      -0.009       0.002\n",
       "Larceny           -0.0019      0.002     -1.223      0.222      -0.005       0.001\n",
       "Robbery           -0.0125      0.006     -1.985      0.048      -0.025      -0.000\n",
       "==============================================================================\n",
       "Omnibus:                      263.710   Durbin-Watson:                   1.357\n",
       "Prob(Omnibus):                  0.000   Jarque-Bera (JB):             6533.802\n",
       "Skew:                          -2.815   Prob(JB):                         0.00\n",
       "Kurtosis:                      23.373   Cond. No.                     4.31e+15\n",
       "==============================================================================\n",
       "\n",
       "Warnings:\n",
       "[1] Standard Errors assume that the covariance matrix of the errors is correctly specified.\n",
       "[2] The smallest eigenvalue is 1.96e-21. This might indicate that there are\n",
       "strong multicollinearity problems or that the design matrix is singular.\n",
       "\"\"\""
      ]
     },
     "execution_count": 8,
     "metadata": {},
     "output_type": "execute_result"
    }
   ],
   "source": [
    "im.params\n",
    "im.pvalues\n",
    "im.rsquared\n",
    "im.summary()"
   ]
  },
  {
   "cell_type": "markdown",
   "metadata": {},
   "source": [
    "---"
   ]
  },
  {
   "cell_type": "markdown",
   "metadata": {},
   "source": [
    "Windsorize Data and Re-Explore"
   ]
  },
  {
   "cell_type": "code",
   "execution_count": 9,
   "metadata": {},
   "outputs": [],
   "source": [
    "def remove_outliers(data):\n",
    "    return mstats.winsorize(data, limits=0.05)\n",
    "\n",
    "for d in data.columns:\n",
    "    data[d] = remove_outliers(data[d])"
   ]
  },
  {
   "cell_type": "code",
   "execution_count": 10,
   "metadata": {},
   "outputs": [],
   "source": [
    "im=smf.ols(formula='Population~Murder+Property_Crime+Rapeleg+Arson3+AA+GTA+Burglary+Larceny+Robbery', data=data).fit()"
   ]
  },
  {
   "cell_type": "code",
   "execution_count": 11,
   "metadata": {},
   "outputs": [
    {
     "data": {
      "text/html": [
       "<table class=\"simpletable\">\n",
       "<caption>OLS Regression Results</caption>\n",
       "<tr>\n",
       "  <th>Dep. Variable:</th>       <td>Population</td>    <th>  R-squared:         </th> <td>   0.617</td>\n",
       "</tr>\n",
       "<tr>\n",
       "  <th>Model:</th>                   <td>OLS</td>       <th>  Adj. R-squared:    </th> <td>   0.606</td>\n",
       "</tr>\n",
       "<tr>\n",
       "  <th>Method:</th>             <td>Least Squares</td>  <th>  F-statistic:       </th> <td>   60.91</td>\n",
       "</tr>\n",
       "<tr>\n",
       "  <th>Date:</th>             <td>Mon, 15 Apr 2019</td> <th>  Prob (F-statistic):</th> <td>1.16e-65</td>\n",
       "</tr>\n",
       "<tr>\n",
       "  <th>Time:</th>                 <td>14:11:51</td>     <th>  Log-Likelihood:    </th> <td> -369.85</td>\n",
       "</tr>\n",
       "<tr>\n",
       "  <th>No. Observations:</th>      <td>   351</td>      <th>  AIC:               </th> <td>   759.7</td>\n",
       "</tr>\n",
       "<tr>\n",
       "  <th>Df Residuals:</th>          <td>   341</td>      <th>  BIC:               </th> <td>   798.3</td>\n",
       "</tr>\n",
       "<tr>\n",
       "  <th>Df Model:</th>              <td>     9</td>      <th>                     </th>     <td> </td>   \n",
       "</tr>\n",
       "<tr>\n",
       "  <th>Covariance Type:</th>      <td>nonrobust</td>    <th>                     </th>     <td> </td>   \n",
       "</tr>\n",
       "</table>\n",
       "<table class=\"simpletable\">\n",
       "<tr>\n",
       "         <td></td>           <th>coef</th>     <th>std err</th>      <th>t</th>      <th>P>|t|</th>  <th>[0.025</th>    <th>0.975]</th>  \n",
       "</tr>\n",
       "<tr>\n",
       "  <th>Intercept</th>      <td>    8.2085</td> <td>    0.050</td> <td>  163.852</td> <td> 0.000</td> <td>    8.110</td> <td>    8.307</td>\n",
       "</tr>\n",
       "<tr>\n",
       "  <th>Murder</th>         <td>    0.1605</td> <td>    0.109</td> <td>    1.473</td> <td> 0.142</td> <td>   -0.054</td> <td>    0.375</td>\n",
       "</tr>\n",
       "<tr>\n",
       "  <th>Property_Crime</th> <td>    0.0040</td> <td>    0.002</td> <td>    1.710</td> <td> 0.088</td> <td>   -0.001</td> <td>    0.009</td>\n",
       "</tr>\n",
       "<tr>\n",
       "  <th>Rapeleg</th>        <td>   -0.0476</td> <td>    0.029</td> <td>   -1.654</td> <td> 0.099</td> <td>   -0.104</td> <td>    0.009</td>\n",
       "</tr>\n",
       "<tr>\n",
       "  <th>Arson3</th>         <td>    0.0391</td> <td>    0.054</td> <td>    0.719</td> <td> 0.472</td> <td>   -0.068</td> <td>    0.146</td>\n",
       "</tr>\n",
       "<tr>\n",
       "  <th>AA</th>             <td>    0.0099</td> <td>    0.006</td> <td>    1.771</td> <td> 0.078</td> <td>   -0.001</td> <td>    0.021</td>\n",
       "</tr>\n",
       "<tr>\n",
       "  <th>GTA</th>            <td>    0.0017</td> <td>    0.008</td> <td>    0.208</td> <td> 0.835</td> <td>   -0.014</td> <td>    0.018</td>\n",
       "</tr>\n",
       "<tr>\n",
       "  <th>Burglary</th>       <td>    0.0020</td> <td>    0.003</td> <td>    0.581</td> <td> 0.562</td> <td>   -0.005</td> <td>    0.009</td>\n",
       "</tr>\n",
       "<tr>\n",
       "  <th>Larceny</th>        <td>   -0.0018</td> <td>    0.002</td> <td>   -0.768</td> <td> 0.443</td> <td>   -0.006</td> <td>    0.003</td>\n",
       "</tr>\n",
       "<tr>\n",
       "  <th>Robbery</th>        <td>   -0.0279</td> <td>    0.009</td> <td>   -3.188</td> <td> 0.002</td> <td>   -0.045</td> <td>   -0.011</td>\n",
       "</tr>\n",
       "</table>\n",
       "<table class=\"simpletable\">\n",
       "<tr>\n",
       "  <th>Omnibus:</th>       <td>16.006</td> <th>  Durbin-Watson:     </th> <td>   2.181</td>\n",
       "</tr>\n",
       "<tr>\n",
       "  <th>Prob(Omnibus):</th> <td> 0.000</td> <th>  Jarque-Bera (JB):  </th> <td>   9.223</td>\n",
       "</tr>\n",
       "<tr>\n",
       "  <th>Skew:</th>          <td> 0.228</td> <th>  Prob(JB):          </th> <td> 0.00994</td>\n",
       "</tr>\n",
       "<tr>\n",
       "  <th>Kurtosis:</th>      <td> 2.350</td> <th>  Cond. No.          </th> <td>1.77e+03</td>\n",
       "</tr>\n",
       "</table><br/><br/>Warnings:<br/>[1] Standard Errors assume that the covariance matrix of the errors is correctly specified.<br/>[2] The condition number is large, 1.77e+03. This might indicate that there are<br/>strong multicollinearity or other numerical problems."
      ],
      "text/plain": [
       "<class 'statsmodels.iolib.summary.Summary'>\n",
       "\"\"\"\n",
       "                            OLS Regression Results                            \n",
       "==============================================================================\n",
       "Dep. Variable:             Population   R-squared:                       0.617\n",
       "Model:                            OLS   Adj. R-squared:                  0.606\n",
       "Method:                 Least Squares   F-statistic:                     60.91\n",
       "Date:                Mon, 15 Apr 2019   Prob (F-statistic):           1.16e-65\n",
       "Time:                        14:11:51   Log-Likelihood:                -369.85\n",
       "No. Observations:                 351   AIC:                             759.7\n",
       "Df Residuals:                     341   BIC:                             798.3\n",
       "Df Model:                           9                                         \n",
       "Covariance Type:            nonrobust                                         \n",
       "==================================================================================\n",
       "                     coef    std err          t      P>|t|      [0.025      0.975]\n",
       "----------------------------------------------------------------------------------\n",
       "Intercept          8.2085      0.050    163.852      0.000       8.110       8.307\n",
       "Murder             0.1605      0.109      1.473      0.142      -0.054       0.375\n",
       "Property_Crime     0.0040      0.002      1.710      0.088      -0.001       0.009\n",
       "Rapeleg           -0.0476      0.029     -1.654      0.099      -0.104       0.009\n",
       "Arson3             0.0391      0.054      0.719      0.472      -0.068       0.146\n",
       "AA                 0.0099      0.006      1.771      0.078      -0.001       0.021\n",
       "GTA                0.0017      0.008      0.208      0.835      -0.014       0.018\n",
       "Burglary           0.0020      0.003      0.581      0.562      -0.005       0.009\n",
       "Larceny           -0.0018      0.002     -0.768      0.443      -0.006       0.003\n",
       "Robbery           -0.0279      0.009     -3.188      0.002      -0.045      -0.011\n",
       "==============================================================================\n",
       "Omnibus:                       16.006   Durbin-Watson:                   2.181\n",
       "Prob(Omnibus):                  0.000   Jarque-Bera (JB):                9.223\n",
       "Skew:                           0.228   Prob(JB):                      0.00994\n",
       "Kurtosis:                       2.350   Cond. No.                     1.77e+03\n",
       "==============================================================================\n",
       "\n",
       "Warnings:\n",
       "[1] Standard Errors assume that the covariance matrix of the errors is correctly specified.\n",
       "[2] The condition number is large, 1.77e+03. This might indicate that there are\n",
       "strong multicollinearity or other numerical problems.\n",
       "\"\"\""
      ]
     },
     "execution_count": 11,
     "metadata": {},
     "output_type": "execute_result"
    }
   ],
   "source": [
    "im.params\n",
    "im.pvalues\n",
    "im.rsquared\n",
    "im.summary()"
   ]
  },
  {
   "cell_type": "markdown",
   "metadata": {},
   "source": [
    "---"
   ]
  },
  {
   "cell_type": "markdown",
   "metadata": {},
   "source": [
    "Finding Correlation for feature selection"
   ]
  },
  {
   "cell_type": "code",
   "execution_count": 12,
   "metadata": {},
   "outputs": [
    {
     "data": {
      "text/plain": [
       "<matplotlib.axes._subplots.AxesSubplot at 0x20dd7628eb8>"
      ]
     },
     "execution_count": 12,
     "metadata": {},
     "output_type": "execute_result"
    },
    {
     "data": {
      "image/png": "[encoded data removed]",
      "text/plain": [
       "<Figure size 720x720 with 2 Axes>"
      ]
     },
     "metadata": {
      "needs_background": "light"
     },
     "output_type": "display_data"
    }
   ],
   "source": [
    "fig, ax = plt.subplots(figsize=(10,10))\n",
    "sns.heatmap(data.corr(), linewidths=0.1, square=True, cmap = \"BrBG\", linecolor='black', annot=True, ax=ax)"
   ]
  },
  {
   "cell_type": "markdown",
   "metadata": {},
   "source": [
    "---"
   ]
  },
  {
   "cell_type": "markdown",
   "metadata": {},
   "source": [
    "Creating Features"
   ]
  },
  {
   "cell_type": "code",
   "execution_count": 13,
   "metadata": {},
   "outputs": [],
   "source": [
    "data2 = pd.DataFrame()"
   ]
  },
  {
   "cell_type": "code",
   "execution_count": 14,
   "metadata": {},
   "outputs": [
    {
     "data": {
      "text/plain": [
       "(351, 11)"
      ]
     },
     "execution_count": 14,
     "metadata": {},
     "output_type": "execute_result"
    }
   ],
   "source": [
    "data2['Population'] = data['Population']\n",
    "data2['Population2'] = data['Population']**2\n",
    "data2['Murder'] = data['Murder']\n",
    "data2['Robbery'] = data['Robbery']\n",
    "data2['Property_Crime'] = data['Property_Crime']\n",
    "data2['Arson3'] = data['Arson3']\n",
    "data2['AA'] = data['AA']\n",
    "data2['Rapleg'] = df['Rapeleg']\n",
    "data2['GTA'] = df['GTA']\n",
    "data2['Burglary'] = data['Burglary']\n",
    "data2['Larceny'] = data['Larceny']\n",
    "data2['Robbery'] = data['Robbery']\n",
    "\n",
    "data2.shape"
   ]
  },
  {
   "cell_type": "markdown",
   "metadata": {},
   "source": [
    "---"
   ]
  },
  {
   "cell_type": "markdown",
   "metadata": {},
   "source": [
    "Building and Fitting the Linear Regression Model"
   ]
  },
  {
   "cell_type": "code",
   "execution_count": 15,
   "metadata": {},
   "outputs": [
    {
     "name": "stdout",
     "output_type": "stream",
     "text": [
      "\n",
      "Coefficients: \n",
      " [[ 0.16646775 -0.01478279  0.00265954]]\n",
      "\n",
      "Intercept: \n",
      " [8.24384219]\n",
      "\n",
      "R-squared:\n",
      "0.6057082326720137\n"
     ]
    }
   ],
   "source": [
    "regr = linear_model.LinearRegression()\n",
    "Y = data['Population'].values.reshape(-1, 1)\n",
    "X = data[['Murder','Robbery','Property_Crime']]\n",
    "regr.fit(X, Y)\n",
    "\n",
    "# Inspect the results.\n",
    "print('\\nCoefficients: \\n', regr.coef_)\n",
    "print('\\nIntercept: \\n', regr.intercept_)\n",
    "print('\\nR-squared:')\n",
    "print(regr.score(X, Y))"
   ]
  },
  {
   "cell_type": "code",
   "execution_count": 16,
   "metadata": {},
   "outputs": [
    {
     "data": {
      "text/html": [
       "<div>\n",
       "<style scoped>\n",
       "    .dataframe tbody tr th:only-of-type {\n",
       "        vertical-align: middle;\n",
       "    }\n",
       "\n",
       "    .dataframe tbody tr th {\n",
       "        vertical-align: top;\n",
       "    }\n",
       "\n",
       "    .dataframe thead th {\n",
       "        text-align: right;\n",
       "    }\n",
       "</style>\n",
       "<table border=\"1\" class=\"dataframe\">\n",
       "  <thead>\n",
       "    <tr style=\"text-align: right;\">\n",
       "      <th></th>\n",
       "      <th>Murder</th>\n",
       "      <th>Robbery</th>\n",
       "      <th>Property_Crime</th>\n",
       "    </tr>\n",
       "  </thead>\n",
       "  <tbody>\n",
       "    <tr>\n",
       "      <th>Murder</th>\n",
       "      <td>1.000</td>\n",
       "      <td>0.721</td>\n",
       "      <td>0.628</td>\n",
       "    </tr>\n",
       "    <tr>\n",
       "      <th>Robbery</th>\n",
       "      <td>0.721</td>\n",
       "      <td>1.000</td>\n",
       "      <td>0.861</td>\n",
       "    </tr>\n",
       "    <tr>\n",
       "      <th>Property_Crime</th>\n",
       "      <td>0.628</td>\n",
       "      <td>0.861</td>\n",
       "      <td>1.000</td>\n",
       "    </tr>\n",
       "  </tbody>\n",
       "</table>\n",
       "</div>"
      ],
      "text/plain": [
       "                Murder  Robbery  Property_Crime\n",
       "Murder           1.000    0.721           0.628\n",
       "Robbery          0.721    1.000           0.861\n",
       "Property_Crime   0.628    0.861           1.000"
      ]
     },
     "metadata": {},
     "output_type": "display_data"
    }
   ],
   "source": [
    "correlation_matrix = X.corr()\n",
    "display(correlation_matrix)"
   ]
  },
  {
   "cell_type": "markdown",
   "metadata": {},
   "source": [
    "---"
   ]
  },
  {
   "cell_type": "markdown",
   "metadata": {},
   "source": [
    "Extracting Predicted Values"
   ]
  },
  {
   "cell_type": "code",
   "execution_count": 17,
   "metadata": {},
   "outputs": [
    {
     "data": {
      "image/png": "[encoded data removed]",
      "text/plain": [
       "<Figure size 432x288 with 1 Axes>"
      ]
     },
     "metadata": {
      "needs_background": "light"
     },
     "output_type": "display_data"
    },
    {
     "data": {
      "image/png": "[encoded data removed]",
      "text/plain": [
       "<Figure size 432x288 with 1 Axes>"
      ]
     },
     "metadata": {
      "needs_background": "light"
     },
     "output_type": "display_data"
    }
   ],
   "source": [
    "predicted = regr.predict(X).ravel()\n",
    "actual = data2['Population']\n",
    "\n",
    "residual = actual - predicted\n",
    "\n",
    "plt.hist(residual)\n",
    "plt.title('Residual counts')\n",
    "plt.xlabel('Residual')\n",
    "plt.ylabel('Count')\n",
    "plt.show()\n",
    "\n",
    "plt.scatter(predicted, residual)\n",
    "plt.xlabel('Predicted')\n",
    "plt.ylabel('Residual')\n",
    "plt.axhline(y=0)\n",
    "axes = plt.gca()\n",
    "plt.title('Residual vs. Predicted')\n",
    "plt.show()"
   ]
  },
  {
   "cell_type": "code",
   "execution_count": 18,
   "metadata": {},
   "outputs": [
    {
     "data": {
      "text/plain": [
       "array([0.65723581, 0.53692482, 0.48417967, 0.58542523, 0.65114742])"
      ]
     },
     "execution_count": 18,
     "metadata": {},
     "output_type": "execute_result"
    }
   ],
   "source": [
    "model = regr.fit(X, Y)\n",
    "cross_val_score(model, X, Y, cv=5)"
   ]
  },
  {
   "cell_type": "markdown",
   "metadata": {},
   "source": [
    "---"
   ]
  },
  {
   "cell_type": "markdown",
   "metadata": {},
   "source": [
    "Adjusting the skewness"
   ]
  },
  {
   "cell_type": "code",
   "execution_count": 19,
   "metadata": {},
   "outputs": [
    {
     "name": "stdout",
     "output_type": "stream",
     "text": [
      "\n",
      "Coefficients: \n",
      " [[ 0.00145833  0.1791901  -0.0486987 ]]\n",
      "\n",
      "Intercept: \n",
      " [8.22655487]\n",
      "\n",
      "R-squared:\n",
      "0.618003123632993\n"
     ]
    },
    {
     "name": "stderr",
     "output_type": "stream",
     "text": [
      "C:\\Users\\liuth\\WPy-3670\\python-3.6.7.amd64\\lib\\site-packages\\ipykernel_launcher.py:7: SettingWithCopyWarning: \n",
      "A value is trying to be set on a copy of a slice from a DataFrame.\n",
      "Try using .loc[row_indexer,col_indexer] = value instead\n",
      "\n",
      "See the caveats in the documentation: http://pandas.pydata.org/pandas-docs/stable/indexing.html#indexing-view-versus-copy\n",
      "  import sys\n",
      "C:\\Users\\liuth\\WPy-3670\\python-3.6.7.amd64\\lib\\site-packages\\ipykernel_launcher.py:8: SettingWithCopyWarning: \n",
      "A value is trying to be set on a copy of a slice from a DataFrame.\n",
      "Try using .loc[row_indexer,col_indexer] = value instead\n",
      "\n",
      "See the caveats in the documentation: http://pandas.pydata.org/pandas-docs/stable/indexing.html#indexing-view-versus-copy\n",
      "  \n"
     ]
    }
   ],
   "source": [
    "regr = linear_model.LinearRegression()\n",
    "Y = data['Population'].values.reshape(-1, 1)\n",
    "X = data[['Murder','Robbery','Property_Crime']]\n",
    "rob_2 = [math.sqrt(x) for x in data['Robbery']]\n",
    "murd2 = [math.sqrt(x) for x in data['Murder']]\n",
    "X = data[['Property_Crime']]\n",
    "X['rob_2'] = rob_2\n",
    "X['murd2'] = murd2\n",
    "regr.fit(X, Y)\n",
    "\n",
    "# Inspect the results.\n",
    "print('\\nCoefficients: \\n', regr.coef_)\n",
    "print('\\nIntercept: \\n', regr.intercept_)\n",
    "print('\\nR-squared:')\n",
    "print(regr.score(X, Y))"
   ]
  },
  {
   "cell_type": "code",
   "execution_count": 20,
   "metadata": {},
   "outputs": [
    {
     "data": {
      "image/png": "[encoded data removed]",
      "text/plain": [
       "<Figure size 432x288 with 1 Axes>"
      ]
     },
     "metadata": {
      "needs_background": "light"
     },
     "output_type": "display_data"
    },
    {
     "data": {
      "image/png": "[encoded data removed]",
      "text/plain": [
       "<Figure size 432x288 with 1 Axes>"
      ]
     },
     "metadata": {
      "needs_background": "light"
     },
     "output_type": "display_data"
    }
   ],
   "source": [
    "predicted = regr.predict(X).ravel()\n",
    "actual = data2['Population']\n",
    "\n",
    "residual = actual - predicted\n",
    "\n",
    "plt.hist(residual)\n",
    "plt.title('Residual counts')\n",
    "plt.xlabel('Residual')\n",
    "plt.ylabel('Count')\n",
    "plt.show()\n",
    "\n",
    "plt.scatter(predicted, residual)\n",
    "plt.xlabel('Predicted')\n",
    "plt.ylabel('Residual')\n",
    "plt.axhline(y=0)\n",
    "axes = plt.gca()\n",
    "plt.title('Residual vs. Predicted')\n",
    "plt.show()"
   ]
  },
  {
   "cell_type": "code",
   "execution_count": 21,
   "metadata": {},
   "outputs": [
    {
     "data": {
      "text/html": [
       "<div>\n",
       "<style scoped>\n",
       "    .dataframe tbody tr th:only-of-type {\n",
       "        vertical-align: middle;\n",
       "    }\n",
       "\n",
       "    .dataframe tbody tr th {\n",
       "        vertical-align: top;\n",
       "    }\n",
       "\n",
       "    .dataframe thead th {\n",
       "        text-align: right;\n",
       "    }\n",
       "</style>\n",
       "<table border=\"1\" class=\"dataframe\">\n",
       "  <thead>\n",
       "    <tr style=\"text-align: right;\">\n",
       "      <th></th>\n",
       "      <th>Property_Crime</th>\n",
       "      <th>rob_2</th>\n",
       "      <th>murd2</th>\n",
       "    </tr>\n",
       "  </thead>\n",
       "  <tbody>\n",
       "    <tr>\n",
       "      <th>Property_Crime</th>\n",
       "      <td>1.000</td>\n",
       "      <td>0.898</td>\n",
       "      <td>0.613</td>\n",
       "    </tr>\n",
       "    <tr>\n",
       "      <th>rob_2</th>\n",
       "      <td>0.898</td>\n",
       "      <td>1.000</td>\n",
       "      <td>0.656</td>\n",
       "    </tr>\n",
       "    <tr>\n",
       "      <th>murd2</th>\n",
       "      <td>0.613</td>\n",
       "      <td>0.656</td>\n",
       "      <td>1.000</td>\n",
       "    </tr>\n",
       "  </tbody>\n",
       "</table>\n",
       "</div>"
      ],
      "text/plain": [
       "                Property_Crime  rob_2  murd2\n",
       "Property_Crime           1.000  0.898  0.613\n",
       "rob_2                    0.898  1.000  0.656\n",
       "murd2                    0.613  0.656  1.000"
      ]
     },
     "execution_count": 21,
     "metadata": {},
     "output_type": "execute_result"
    }
   ],
   "source": [
    "X.corr()"
   ]
  },
  {
   "cell_type": "markdown",
   "metadata": {},
   "source": [
    "---"
   ]
  },
  {
   "cell_type": "markdown",
   "metadata": {},
   "source": [
    "Validating Linear Models"
   ]
  },
  {
   "cell_type": "code",
   "execution_count": null,
   "metadata": {},
   "outputs": [],
   "source": []
  },
  {
   "cell_type": "code",
   "execution_count": null,
   "metadata": {},
   "outputs": [],
   "source": []
  }
 ],
 "metadata": {
  "kernelspec": {
   "display_name": "Python 3",
   "language": "python",
   "name": "python3"
  },
  "language_info": {
   "codemirror_mode": {
    "name": "ipython",
    "version": 3
   },
   "file_extension": ".py",
   "mimetype": "text/x-python",
   "name": "python",
   "nbconvert_exporter": "python",
   "pygments_lexer": "ipython3",
   "version": "3.6.7"
  }
 },
 "nbformat": 4,
 "nbformat_minor": 2
}
