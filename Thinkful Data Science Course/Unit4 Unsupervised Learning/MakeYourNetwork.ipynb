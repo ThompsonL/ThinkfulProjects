{
 "cells": [
  {
   "cell_type": "code",
   "execution_count": 1,
   "metadata": {},
   "outputs": [],
   "source": [
    "import pandas as pd\n",
    "import numpy as np\n",
    "import scipy\n",
    "import matplotlib.pyplot as plt\n",
    "from sklearn import ensemble\n",
    "from sklearn import datasets\n",
    "from sklearn.utils import shuffle\n",
    "from sklearn.model_selection import GridSearchCV\n",
    "from sklearn.metrics import mean_squared_error\n",
    "from sklearn.neural_network import MLPClassifier\n",
    "from sklearn.model_selection import cross_val_score\n",
    "from sklearn.metrics import confusion_matrix\n",
    "from sklearn import tree\n",
    "from IPython.display import Image\n",
    "import pydotplus\n",
    "import graphviz\n",
    "%matplotlib inline"
   ]
  },
  {
   "cell_type": "code",
   "execution_count": 2,
   "metadata": {},
   "outputs": [],
   "source": [
    "df = pd.read_csv((\n",
    "    \"https://raw.githubusercontent.com/Thinkful-Ed/data-201-resources/\"\n",
    "    \"master/ESS_practice_data/ESSdata_Thinkful.csv\")).dropna()\n",
    "\n",
    "# Definine outcome and predictors.\n",
    "# Set our outcome to 0 and 1.\n",
    "y = df['partner'] - 1\n",
    "X = df.loc[:, ~df.columns.isin(['partner', 'cntry', 'idno'])]\n",
    "\n",
    "# Make the categorical variable 'country' into dummies.\n",
    "X = pd.concat([X, pd.get_dummies(df['cntry'])], axis=1)\n",
    "\n",
    "# Create training and test sets.\n",
    "offset = int(X.shape[0] * 0.9)\n",
    "\n",
    "# Put 90% of the data in the training set.\n",
    "X_train, y_train = X[:offset], y[:offset]\n",
    "\n",
    "# And put 10% in the test set.\n",
    "X_test, y_test = X[offset:], y[offset:]\n",
    "\n",
    "# Definine outcome and predictors.\n",
    "# Set our outcome to 0 and 1.\n",
    "y = df['partner'] - 1\n",
    "X2 = df.loc[:, ~df.columns.isin(['partner', 'cntry', 'idno', 'agea', 'happy', 'tvtot'])]\n",
    "\n",
    "# Make the categorical variable 'country' into dummies.\n",
    "X2 = pd.concat([X, pd.get_dummies(df['cntry'])], axis=1)\n",
    "\n",
    "# Create training and test sets.\n",
    "offset = int(X2.shape[0] * 0.8)\n",
    "\n",
    "# Put 80% of the data in the training set.\n",
    "X2_train, y_train = X2[:offset], y[:offset]\n",
    "\n",
    "# And put 20% in the test set.\n",
    "X2_test, y_test = X2[offset:], y[offset:]"
   ]
  },
  {
   "cell_type": "markdown",
   "metadata": {},
   "source": [
    "---"
   ]
  },
  {
   "cell_type": "markdown",
   "metadata": {},
   "source": [
    "Gradient Boosting"
   ]
  },
  {
   "cell_type": "code",
   "execution_count": 3,
   "metadata": {},
   "outputs": [
    {
     "name": "stdout",
     "output_type": "stream",
     "text": [
      "Weak learner 0 R^2: -1.0776893982110556\n",
      "Weak learner 20 R^2: -0.0011725917548572884\n",
      "Weak learner 40 R^2: -0.001112405823435303\n",
      "Weak learner 60 R^2: -0.0007061324494808119\n",
      "Weak learner 80 R^2: -0.0007653306825132766\n",
      "Weak learner 100 R^2: -0.0006833753349724248\n"
     ]
    },
    {
     "data": {
      "image/png": "[encoded data removed]",
      "text/plain": [
       "<Figure size 432x288 with 1 Axes>"
      ]
     },
     "metadata": {
      "needs_background": "light"
     },
     "output_type": "display_data"
    },
    {
     "name": "stdout",
     "output_type": "stream",
     "text": [
      "Overall R^2:\n",
      "-0.24941664956939194\n"
     ]
    }
   ],
   "source": [
    "# Store values from loops.\n",
    "preds = pd.DataFrame()\n",
    "labels = []\n",
    "\n",
    "uniquex = df['partner'].unique()\n",
    "\n",
    "# Iterate through decision trees, each time using the residuals\n",
    "# from the previous tree as the inputs.\n",
    "for m in range(0, 101):\n",
    "    \n",
    "    # Initialize and fit the tree. Set the max depth to 2.\n",
    "    decision_tree = tree.DecisionTreeRegressor(max_depth=2)\n",
    "    decision_tree.fit(X,y)\n",
    "    \n",
    "    # Get and store predicted values.\n",
    "    pred = decision_tree.predict(X)\n",
    "    preds['pred{}'.format(m)] = pred\n",
    "    \n",
    "    # Residuals.\n",
    "    y = y - pred\n",
    "\n",
    "    # Output every 20 iterations.\n",
    "    if m % 20 == 0:\n",
    "        print('Weak learner {} R^2: {}'.format(m, decision_tree.score(X, y)))\n",
    "        labels = labels + [m]\n",
    "        bestpred = preds.sum(axis=1)\n",
    "        plt.plot(uniquex, np.poly1d(np.polyfit(df['happy'], bestpred, 1))(uniquex))\n",
    "       \n",
    "plt.legend(labels)\n",
    "plt.xlabel('Original')\n",
    "plt.ylabel('Predicted')\n",
    "plt.show()\n",
    "predicted = preds.sum(axis=1)\n",
    "\n",
    "print('Overall R^2:')\n",
    "print(np.corrcoef(df['happy'], predicted)[0, 1])"
   ]
  },
  {
   "cell_type": "code",
   "execution_count": 4,
   "metadata": {},
   "outputs": [
    {
     "name": "stdout",
     "output_type": "stream",
     "text": [
      "Training set accuracy:\n",
      "Percent Type I errors: 0.01258247659966242\n",
      "Percent Type II errors: 0.08485499462943072\n",
      "\n",
      "Test set accuracy:\n",
      "Percent Type I errors: 0.0785276073619632\n",
      "Percent Type II errors: 0.17668711656441718\n"
     ]
    }
   ],
   "source": [
    "# We will make 800 iterations, use 4-deep trees, and set our loss function. \n",
    "params = {'n_estimators': 800,\n",
    "         'max_depth': 4,\n",
    "         'loss': 'deviance'}\n",
    "\n",
    "# Initialize and fit the model.\n",
    "clf = ensemble.GradientBoostingClassifier(**params)\n",
    "clf.fit(X2_train, y_train)\n",
    "\n",
    "predict_train = clf.predict(X2_train)\n",
    "predict_test = clf.predict(X2_test)\n",
    "\n",
    "# Accuracy tables.\n",
    "table_train = pd.crosstab(y_train, predict_train, margins=True)\n",
    "table_test = pd.crosstab(y_test, predict_test, margins=True)\n",
    "\n",
    "train_tI_errors = table_train.loc[0.0,1.0] / table_train.loc['All','All']\n",
    "train_tII_errors = table_train.loc[1.0,0.0] / table_train.loc['All','All']\n",
    "\n",
    "test_tI_errors = table_test.loc[0.0,1.0]/table_test.loc['All','All']\n",
    "test_tII_errors = table_test.loc[1.0,0.0]/table_test.loc['All','All']\n",
    "\n",
    "print((\n",
    "    'Training set accuracy:\\n'\n",
    "    'Percent Type I errors: {}\\n'\n",
    "    'Percent Type II errors: {}\\n\\n'\n",
    "    'Test set accuracy:\\n'\n",
    "    'Percent Type I errors: {}\\n'\n",
    "    'Percent Type II errors: {}'\n",
    ").format(train_tI_errors, train_tII_errors, test_tI_errors, test_tII_errors))"
   ]
  },
  {
   "cell_type": "code",
   "execution_count": 5,
   "metadata": {},
   "outputs": [
    {
     "name": "stdout",
     "output_type": "stream",
     "text": [
      "Fitting 10 folds for each of 12 candidates, totalling 120 fits\n",
      "[CV] max_depth=2, n_estimators=200 ...................................\n"
     ]
    },
    {
     "name": "stderr",
     "output_type": "stream",
     "text": [
      "[Parallel(n_jobs=1)]: Using backend SequentialBackend with 1 concurrent workers.\n"
     ]
    },
    {
     "name": "stdout",
     "output_type": "stream",
     "text": [
      "[CV] ....... max_depth=2, n_estimators=200, score=0.769, total=   1.0s\n",
      "[CV] max_depth=2, n_estimators=200 ...................................\n"
     ]
    },
    {
     "name": "stderr",
     "output_type": "stream",
     "text": [
      "[Parallel(n_jobs=1)]: Done   1 out of   1 | elapsed:    0.9s remaining:    0.0s\n"
     ]
    },
    {
     "name": "stdout",
     "output_type": "stream",
     "text": [
      "[CV] ....... max_depth=2, n_estimators=200, score=0.779, total=   1.1s\n",
      "[CV] max_depth=2, n_estimators=200 ...................................\n"
     ]
    },
    {
     "name": "stderr",
     "output_type": "stream",
     "text": [
      "[Parallel(n_jobs=1)]: Done   2 out of   2 | elapsed:    2.0s remaining:    0.0s\n"
     ]
    },
    {
     "name": "stdout",
     "output_type": "stream",
     "text": [
      "[CV] ....... max_depth=2, n_estimators=200, score=0.744, total=   1.1s\n",
      "[CV] max_depth=2, n_estimators=200 ...................................\n",
      "[CV] ....... max_depth=2, n_estimators=200, score=0.715, total=   1.1s\n",
      "[CV] max_depth=2, n_estimators=200 ...................................\n",
      "[CV] ....... max_depth=2, n_estimators=200, score=0.718, total=   1.0s\n",
      "[CV] max_depth=2, n_estimators=200 ...................................\n",
      "[CV] ....... max_depth=2, n_estimators=200, score=0.782, total=   1.1s\n",
      "[CV] max_depth=2, n_estimators=200 ...................................\n",
      "[CV] ....... max_depth=2, n_estimators=200, score=0.782, total=   1.1s\n",
      "[CV] max_depth=2, n_estimators=200 ...................................\n",
      "[CV] ....... max_depth=2, n_estimators=200, score=0.733, total=   1.1s\n",
      "[CV] max_depth=2, n_estimators=200 ...................................\n",
      "[CV] ....... max_depth=2, n_estimators=200, score=0.739, total=   1.1s\n",
      "[CV] max_depth=2, n_estimators=200 ...................................\n",
      "[CV] ....... max_depth=2, n_estimators=200, score=0.750, total=   1.1s\n",
      "[CV] max_depth=2, n_estimators=500 ...................................\n",
      "[CV] ....... max_depth=2, n_estimators=500, score=0.753, total=   2.7s\n",
      "[CV] max_depth=2, n_estimators=500 ...................................\n",
      "[CV] ....... max_depth=2, n_estimators=500, score=0.783, total=   2.7s\n",
      "[CV] max_depth=2, n_estimators=500 ...................................\n",
      "[CV] ....... max_depth=2, n_estimators=500, score=0.725, total=   2.8s\n",
      "[CV] max_depth=2, n_estimators=500 ...................................\n",
      "[CV] ....... max_depth=2, n_estimators=500, score=0.686, total=   2.7s\n",
      "[CV] max_depth=2, n_estimators=500 ...................................\n",
      "[CV] ....... max_depth=2, n_estimators=500, score=0.729, total=   2.6s\n",
      "[CV] max_depth=2, n_estimators=500 ...................................\n",
      "[CV] ....... max_depth=2, n_estimators=500, score=0.788, total=   2.7s\n",
      "[CV] max_depth=2, n_estimators=500 ...................................\n",
      "[CV] ....... max_depth=2, n_estimators=500, score=0.765, total=   2.6s\n",
      "[CV] max_depth=2, n_estimators=500 ...................................\n",
      "[CV] ....... max_depth=2, n_estimators=500, score=0.736, total=   2.4s\n",
      "[CV] max_depth=2, n_estimators=500 ...................................\n",
      "[CV] ....... max_depth=2, n_estimators=500, score=0.743, total=   2.6s\n",
      "[CV] max_depth=2, n_estimators=500 ...................................\n",
      "[CV] ....... max_depth=2, n_estimators=500, score=0.754, total=   2.6s\n",
      "[CV] max_depth=2, n_estimators=800 ...................................\n",
      "[CV] ....... max_depth=2, n_estimators=800, score=0.752, total=   4.4s\n",
      "[CV] max_depth=2, n_estimators=800 ...................................\n",
      "[CV] ....... max_depth=2, n_estimators=800, score=0.783, total=   4.2s\n",
      "[CV] max_depth=2, n_estimators=800 ...................................\n",
      "[CV] ....... max_depth=2, n_estimators=800, score=0.724, total=   4.5s\n",
      "[CV] max_depth=2, n_estimators=800 ...................................\n",
      "[CV] ....... max_depth=2, n_estimators=800, score=0.670, total=   4.5s\n",
      "[CV] max_depth=2, n_estimators=800 ...................................\n",
      "[CV] ....... max_depth=2, n_estimators=800, score=0.727, total=   4.3s\n",
      "[CV] max_depth=2, n_estimators=800 ...................................\n",
      "[CV] ....... max_depth=2, n_estimators=800, score=0.777, total=   4.3s\n",
      "[CV] max_depth=2, n_estimators=800 ...................................\n",
      "[CV] ....... max_depth=2, n_estimators=800, score=0.757, total=   4.3s\n",
      "[CV] max_depth=2, n_estimators=800 ...................................\n",
      "[CV] ....... max_depth=2, n_estimators=800, score=0.739, total=   4.4s\n",
      "[CV] max_depth=2, n_estimators=800 ...................................\n",
      "[CV] ....... max_depth=2, n_estimators=800, score=0.740, total=   4.4s\n",
      "[CV] max_depth=2, n_estimators=800 ...................................\n",
      "[CV] ....... max_depth=2, n_estimators=800, score=0.740, total=   4.2s\n",
      "[CV] max_depth=2, n_estimators=1000 ..................................\n",
      "[CV] ...... max_depth=2, n_estimators=1000, score=0.752, total=   5.6s\n",
      "[CV] max_depth=2, n_estimators=1000 ..................................\n",
      "[CV] ...... max_depth=2, n_estimators=1000, score=0.781, total=   5.4s\n",
      "[CV] max_depth=2, n_estimators=1000 ..................................\n",
      "[CV] ...... max_depth=2, n_estimators=1000, score=0.722, total=   5.6s\n",
      "[CV] max_depth=2, n_estimators=1000 ..................................\n",
      "[CV] ...... max_depth=2, n_estimators=1000, score=0.658, total=   5.5s\n",
      "[CV] max_depth=2, n_estimators=1000 ..................................\n",
      "[CV] ...... max_depth=2, n_estimators=1000, score=0.729, total=   4.9s\n",
      "[CV] max_depth=2, n_estimators=1000 ..................................\n",
      "[CV] ...... max_depth=2, n_estimators=1000, score=0.770, total=   5.5s\n",
      "[CV] max_depth=2, n_estimators=1000 ..................................\n",
      "[CV] ...... max_depth=2, n_estimators=1000, score=0.760, total=   5.4s\n",
      "[CV] max_depth=2, n_estimators=1000 ..................................\n",
      "[CV] ...... max_depth=2, n_estimators=1000, score=0.745, total=   5.4s\n",
      "[CV] max_depth=2, n_estimators=1000 ..................................\n",
      "[CV] ...... max_depth=2, n_estimators=1000, score=0.745, total=   5.5s\n",
      "[CV] max_depth=2, n_estimators=1000 ..................................\n",
      "[CV] ...... max_depth=2, n_estimators=1000, score=0.743, total=   5.4s\n",
      "[CV] max_depth=4, n_estimators=200 ...................................\n",
      "[CV] ....... max_depth=4, n_estimators=200, score=0.723, total=   2.8s\n",
      "[CV] max_depth=4, n_estimators=200 ...................................\n",
      "[CV] ....... max_depth=4, n_estimators=200, score=0.767, total=   2.8s\n",
      "[CV] max_depth=4, n_estimators=200 ...................................\n",
      "[CV] ....... max_depth=4, n_estimators=200, score=0.742, total=   2.8s\n",
      "[CV] max_depth=4, n_estimators=200 ...................................\n",
      "[CV] ....... max_depth=4, n_estimators=200, score=0.575, total=   2.8s\n",
      "[CV] max_depth=4, n_estimators=200 ...................................\n",
      "[CV] ....... max_depth=4, n_estimators=200, score=0.716, total=   2.7s\n",
      "[CV] max_depth=4, n_estimators=200 ...................................\n",
      "[CV] ....... max_depth=4, n_estimators=200, score=0.777, total=   2.8s\n",
      "[CV] max_depth=4, n_estimators=200 ...................................\n",
      "[CV] ....... max_depth=4, n_estimators=200, score=0.759, total=   2.8s\n",
      "[CV] max_depth=4, n_estimators=200 ...................................\n",
      "[CV] ....... max_depth=4, n_estimators=200, score=0.742, total=   2.7s\n",
      "[CV] max_depth=4, n_estimators=200 ...................................\n",
      "[CV] ....... max_depth=4, n_estimators=200, score=0.756, total=   2.8s\n",
      "[CV] max_depth=4, n_estimators=200 ...................................\n",
      "[CV] ....... max_depth=4, n_estimators=200, score=0.737, total=   2.6s\n",
      "[CV] max_depth=4, n_estimators=500 ...................................\n",
      "[CV] ....... max_depth=4, n_estimators=500, score=0.727, total=   6.7s\n",
      "[CV] max_depth=4, n_estimators=500 ...................................\n",
      "[CV] ....... max_depth=4, n_estimators=500, score=0.755, total=   6.8s\n",
      "[CV] max_depth=4, n_estimators=500 ...................................\n",
      "[CV] ....... max_depth=4, n_estimators=500, score=0.725, total=   6.8s\n",
      "[CV] max_depth=4, n_estimators=500 ...................................\n",
      "[CV] ....... max_depth=4, n_estimators=500, score=0.564, total=   6.7s\n",
      "[CV] max_depth=4, n_estimators=500 ...................................\n",
      "[CV] ....... max_depth=4, n_estimators=500, score=0.713, total=   6.4s\n",
      "[CV] max_depth=4, n_estimators=500 ...................................\n",
      "[CV] ....... max_depth=4, n_estimators=500, score=0.773, total=   6.9s\n",
      "[CV] max_depth=4, n_estimators=500 ...................................\n",
      "[CV] ....... max_depth=4, n_estimators=500, score=0.740, total=   5.2s\n",
      "[CV] max_depth=4, n_estimators=500 ...................................\n",
      "[CV] ....... max_depth=4, n_estimators=500, score=0.733, total=   6.1s\n",
      "[CV] max_depth=4, n_estimators=500 ...................................\n",
      "[CV] ....... max_depth=4, n_estimators=500, score=0.742, total=   6.9s\n",
      "[CV] max_depth=4, n_estimators=500 ...................................\n",
      "[CV] ....... max_depth=4, n_estimators=500, score=0.690, total=   6.5s\n",
      "[CV] max_depth=4, n_estimators=800 ...................................\n",
      "[CV] ....... max_depth=4, n_estimators=800, score=0.738, total=  11.0s\n",
      "[CV] max_depth=4, n_estimators=800 ...................................\n",
      "[CV] ....... max_depth=4, n_estimators=800, score=0.761, total=  11.1s\n",
      "[CV] max_depth=4, n_estimators=800 ...................................\n",
      "[CV] ....... max_depth=4, n_estimators=800, score=0.727, total=  11.4s\n",
      "[CV] max_depth=4, n_estimators=800 ...................................\n",
      "[CV] ....... max_depth=4, n_estimators=800, score=0.551, total=  11.0s\n",
      "[CV] max_depth=4, n_estimators=800 ...................................\n",
      "[CV] ....... max_depth=4, n_estimators=800, score=0.712, total=  10.4s\n",
      "[CV] max_depth=4, n_estimators=800 ...................................\n",
      "[CV] ....... max_depth=4, n_estimators=800, score=0.759, total=  11.0s\n",
      "[CV] max_depth=4, n_estimators=800 ...................................\n",
      "[CV] ....... max_depth=4, n_estimators=800, score=0.727, total=  10.8s\n",
      "[CV] max_depth=4, n_estimators=800 ...................................\n",
      "[CV] ....... max_depth=4, n_estimators=800, score=0.728, total=  10.7s\n",
      "[CV] max_depth=4, n_estimators=800 ...................................\n",
      "[CV] ....... max_depth=4, n_estimators=800, score=0.733, total=  10.8s\n",
      "[CV] max_depth=4, n_estimators=800 ...................................\n",
      "[CV] ....... max_depth=4, n_estimators=800, score=0.684, total=  10.4s\n",
      "[CV] max_depth=4, n_estimators=1000 ..................................\n",
      "[CV] ...... max_depth=4, n_estimators=1000, score=0.735, total=  13.7s\n",
      "[CV] max_depth=4, n_estimators=1000 ..................................\n",
      "[CV] ...... max_depth=4, n_estimators=1000, score=0.755, total=  13.5s\n",
      "[CV] max_depth=4, n_estimators=1000 ..................................\n",
      "[CV] ...... max_depth=4, n_estimators=1000, score=0.732, total=  14.0s\n",
      "[CV] max_depth=4, n_estimators=1000 ..................................\n",
      "[CV] ...... max_depth=4, n_estimators=1000, score=0.558, total=  14.0s\n",
      "[CV] max_depth=4, n_estimators=1000 ..................................\n",
      "[CV] ...... max_depth=4, n_estimators=1000, score=0.712, total=  12.9s\n",
      "[CV] max_depth=4, n_estimators=1000 ..................................\n",
      "[CV] ...... max_depth=4, n_estimators=1000, score=0.754, total=  12.8s\n",
      "[CV] max_depth=4, n_estimators=1000 ..................................\n",
      "[CV] ...... max_depth=4, n_estimators=1000, score=0.719, total=   5.6s\n",
      "[CV] max_depth=4, n_estimators=1000 ..................................\n",
      "[CV] ...... max_depth=4, n_estimators=1000, score=0.727, total=   7.8s\n",
      "[CV] max_depth=4, n_estimators=1000 ..................................\n",
      "[CV] ...... max_depth=4, n_estimators=1000, score=0.730, total=  13.5s\n",
      "[CV] max_depth=4, n_estimators=1000 ..................................\n",
      "[CV] ...... max_depth=4, n_estimators=1000, score=0.670, total=  13.2s\n",
      "[CV] max_depth=6, n_estimators=200 ...................................\n",
      "[CV] ....... max_depth=6, n_estimators=200, score=0.740, total=   5.9s\n",
      "[CV] max_depth=6, n_estimators=200 ...................................\n",
      "[CV] ....... max_depth=6, n_estimators=200, score=0.764, total=   5.6s\n",
      "[CV] max_depth=6, n_estimators=200 ...................................\n",
      "[CV] ....... max_depth=6, n_estimators=200, score=0.738, total=   6.1s\n",
      "[CV] max_depth=6, n_estimators=200 ...................................\n",
      "[CV] ....... max_depth=6, n_estimators=200, score=0.543, total=   6.1s\n",
      "[CV] max_depth=6, n_estimators=200 ...................................\n",
      "[CV] ....... max_depth=6, n_estimators=200, score=0.704, total=   5.8s\n",
      "[CV] max_depth=6, n_estimators=200 ...................................\n",
      "[CV] ....... max_depth=6, n_estimators=200, score=0.776, total=   5.9s\n",
      "[CV] max_depth=6, n_estimators=200 ...................................\n",
      "[CV] ....... max_depth=6, n_estimators=200, score=0.736, total=   5.8s\n",
      "[CV] max_depth=6, n_estimators=200 ...................................\n",
      "[CV] ....... max_depth=6, n_estimators=200, score=0.730, total=   6.0s\n",
      "[CV] max_depth=6, n_estimators=200 ...................................\n",
      "[CV] ....... max_depth=6, n_estimators=200, score=0.722, total=   5.9s\n",
      "[CV] max_depth=6, n_estimators=200 ...................................\n",
      "[CV] ....... max_depth=6, n_estimators=200, score=0.707, total=   5.7s\n",
      "[CV] max_depth=6, n_estimators=500 ...................................\n",
      "[CV] ....... max_depth=6, n_estimators=500, score=0.757, total=  14.9s\n",
      "[CV] max_depth=6, n_estimators=500 ...................................\n",
      "[CV] ....... max_depth=6, n_estimators=500, score=0.735, total=  15.1s\n",
      "[CV] max_depth=6, n_estimators=500 ...................................\n",
      "[CV] ....... max_depth=6, n_estimators=500, score=0.710, total=  15.4s\n",
      "[CV] max_depth=6, n_estimators=500 ...................................\n",
      "[CV] ....... max_depth=6, n_estimators=500, score=0.586, total=  15.4s\n",
      "[CV] max_depth=6, n_estimators=500 ...................................\n",
      "[CV] ....... max_depth=6, n_estimators=500, score=0.690, total=  14.4s\n",
      "[CV] max_depth=6, n_estimators=500 ...................................\n",
      "[CV] ....... max_depth=6, n_estimators=500, score=0.739, total=  14.7s\n",
      "[CV] max_depth=6, n_estimators=500 ...................................\n",
      "[CV] ....... max_depth=6, n_estimators=500, score=0.742, total=  14.9s\n",
      "[CV] max_depth=6, n_estimators=500 ...................................\n",
      "[CV] ....... max_depth=6, n_estimators=500, score=0.720, total=  14.8s\n",
      "[CV] max_depth=6, n_estimators=500 ...................................\n",
      "[CV] ....... max_depth=6, n_estimators=500, score=0.705, total=  14.6s\n",
      "[CV] max_depth=6, n_estimators=500 ...................................\n",
      "[CV] ....... max_depth=6, n_estimators=500, score=0.662, total=  14.5s\n",
      "[CV] max_depth=6, n_estimators=800 ...................................\n",
      "[CV] ....... max_depth=6, n_estimators=800, score=0.747, total=  24.1s\n",
      "[CV] max_depth=6, n_estimators=800 ...................................\n",
      "[CV] ....... max_depth=6, n_estimators=800, score=0.752, total=  23.7s\n",
      "[CV] max_depth=6, n_estimators=800 ...................................\n",
      "[CV] ....... max_depth=6, n_estimators=800, score=0.712, total=  23.8s\n",
      "[CV] max_depth=6, n_estimators=800 ...................................\n",
      "[CV] ....... max_depth=6, n_estimators=800, score=0.578, total=  24.0s\n",
      "[CV] max_depth=6, n_estimators=800 ...................................\n",
      "[CV] ....... max_depth=6, n_estimators=800, score=0.693, total=  23.4s\n",
      "[CV] max_depth=6, n_estimators=800 ...................................\n",
      "[CV] ....... max_depth=6, n_estimators=800, score=0.742, total=  24.3s\n",
      "[CV] max_depth=6, n_estimators=800 ...................................\n",
      "[CV] ....... max_depth=6, n_estimators=800, score=0.733, total=  24.2s\n",
      "[CV] max_depth=6, n_estimators=800 ...................................\n",
      "[CV] ....... max_depth=6, n_estimators=800, score=0.704, total=  24.0s\n",
      "[CV] max_depth=6, n_estimators=800 ...................................\n",
      "[CV] ....... max_depth=6, n_estimators=800, score=0.704, total=  23.7s\n",
      "[CV] max_depth=6, n_estimators=800 ...................................\n",
      "[CV] ....... max_depth=6, n_estimators=800, score=0.674, total=  23.5s\n",
      "[CV] max_depth=6, n_estimators=1000 ..................................\n",
      "[CV] ...... max_depth=6, n_estimators=1000, score=0.744, total=  30.7s\n",
      "[CV] max_depth=6, n_estimators=1000 ..................................\n",
      "[CV] ...... max_depth=6, n_estimators=1000, score=0.738, total=  30.7s\n",
      "[CV] max_depth=6, n_estimators=1000 ..................................\n",
      "[CV] ...... max_depth=6, n_estimators=1000, score=0.718, total=  30.0s\n",
      "[CV] max_depth=6, n_estimators=1000 ..................................\n",
      "[CV] ...... max_depth=6, n_estimators=1000, score=0.558, total=  29.4s\n",
      "[CV] max_depth=6, n_estimators=1000 ..................................\n",
      "[CV] ...... max_depth=6, n_estimators=1000, score=0.686, total=  28.1s\n",
      "[CV] max_depth=6, n_estimators=1000 ..................................\n",
      "[CV] ...... max_depth=6, n_estimators=1000, score=0.730, total=  29.1s\n",
      "[CV] max_depth=6, n_estimators=1000 ..................................\n",
      "[CV] ...... max_depth=6, n_estimators=1000, score=0.717, total=  30.0s\n",
      "[CV] max_depth=6, n_estimators=1000 ..................................\n",
      "[CV] ...... max_depth=6, n_estimators=1000, score=0.708, total=  30.1s\n",
      "[CV] max_depth=6, n_estimators=1000 ..................................\n",
      "[CV] ...... max_depth=6, n_estimators=1000, score=0.690, total=  30.3s\n",
      "[CV] max_depth=6, n_estimators=1000 ..................................\n",
      "[CV] ...... max_depth=6, n_estimators=1000, score=0.682, total=  29.5s\n"
     ]
    },
    {
     "name": "stderr",
     "output_type": "stream",
     "text": [
      "[Parallel(n_jobs=1)]: Done 120 out of 120 | elapsed: 20.0min finished\n"
     ]
    },
    {
     "name": "stdout",
     "output_type": "stream",
     "text": [
      "Best parameters for training model:\n",
      "{'max_depth': 2, 'n_estimators': 200}\n",
      "Best Score for training model:\n",
      "0.7509590302286328\n"
     ]
    }
   ],
   "source": [
    "# Set grid parameters\n",
    "grid_params = {'n_estimators': [200, 500, 800, 1000],\n",
    "         'max_depth': [2, 4, 6],}\n",
    "# Use the grid\n",
    "grid = GridSearchCV(clf, grid_params, cv=10, verbose=3)\n",
    "\n",
    "#Fit the data\n",
    "grid.fit(X2_train, y_train)\n",
    "\n",
    "#return best parameters and best score for training model.\n",
    "print('Best parameters for training model:')\n",
    "print(grid.best_params_)\n",
    "print('Best Score for training model:')\n",
    "print(grid.best_score_)"
   ]
  },
  {
   "cell_type": "markdown",
   "metadata": {},
   "source": [
    "---"
   ]
  },
  {
   "cell_type": "markdown",
   "metadata": {},
   "source": [
    "Neural Networks"
   ]
  },
  {
   "cell_type": "code",
   "execution_count": 6,
   "metadata": {},
   "outputs": [
    {
     "data": {
      "text/plain": [
       "0.7575571582016265"
      ]
     },
     "execution_count": 6,
     "metadata": {},
     "output_type": "execute_result"
    }
   ],
   "source": [
    "# Import the model.\n",
    "\n",
    "# Establish and fit the model, with a single, 100 perceptron layer.\n",
    "mlp = MLPClassifier(hidden_layer_sizes=(100,))\n",
    "mlp.fit(X2_train, y_train)\n",
    "\n",
    "mlp.score(X2_train, y_train)"
   ]
  },
  {
   "cell_type": "code",
   "execution_count": 7,
   "metadata": {},
   "outputs": [
    {
     "data": {
      "text/plain": [
       "array([0.74693252, 0.66257669, 0.75057559, 0.74597084, 0.75134305])"
      ]
     },
     "execution_count": 7,
     "metadata": {},
     "output_type": "execute_result"
    }
   ],
   "source": [
    "cross_val_score(mlp, X2_train, y_train, cv=5)"
   ]
  },
  {
   "cell_type": "code",
   "execution_count": 8,
   "metadata": {},
   "outputs": [
    {
     "data": {
      "text/plain": [
       "array([[901, 100],\n",
       "       [316, 313]], dtype=int64)"
      ]
     },
     "execution_count": 8,
     "metadata": {},
     "output_type": "execute_result"
    }
   ],
   "source": [
    "# Work on the test set.\n",
    "\n",
    "# Let's see how the testing data performs.\n",
    "mlp_pred = mlp.predict(X2_test)\n",
    "\n",
    "confusion_matrix(y_test, mlp_pred)"
   ]
  },
  {
   "cell_type": "code",
   "execution_count": 9,
   "metadata": {},
   "outputs": [
    {
     "name": "stdout",
     "output_type": "stream",
     "text": [
      "Fitting 5 folds for each of 54 candidates, totalling 270 fits\n"
     ]
    },
    {
     "name": "stderr",
     "output_type": "stream",
     "text": [
      "[Parallel(n_jobs=-1)]: Using backend LokyBackend with 8 concurrent workers.\n",
      "[Parallel(n_jobs=-1)]: Done  25 tasks      | elapsed:   39.9s\n",
      "[Parallel(n_jobs=-1)]: Done 146 tasks      | elapsed:  6.8min\n",
      "[Parallel(n_jobs=-1)]: Done 270 out of 270 | elapsed: 13.3min finished\n"
     ]
    },
    {
     "name": "stdout",
     "output_type": "stream",
     "text": [
      "Best parameters:\n",
      "{'alpha': 1, 'hidden_layer_sizes': (500, 4), 'max_iter': 400}\n",
      "Best Score:\n",
      "0.7442074574190578\n"
     ]
    }
   ],
   "source": [
    "# Set parameters for mlp\n",
    "mlp_params = [{'hidden_layer_sizes': [(100,4), (500,4), (1000,4)],\n",
    "              'alpha': [.000001, .00001, .0001, .001, 1, 10],\n",
    "              'max_iter': [200, 400, 600]}]\n",
    "\n",
    "# Search for the best paramters. \n",
    "mlp_grid = GridSearchCV(mlp, mlp_params, cv=5, verbose=2, n_jobs=-1)\n",
    "\n",
    "# Fit the grid and obtain results\n",
    "mlp_grid.fit(X2_train, y_train)\n",
    "\n",
    "# Return best parameters and best score\n",
    "print('Best parameters:')\n",
    "print(mlp_grid.best_params_)\n",
    "print('Best Score:')\n",
    "print(mlp_grid.best_score_)"
   ]
  },
  {
   "cell_type": "code",
   "execution_count": 14,
   "metadata": {},
   "outputs": [
    {
     "data": {
      "text/plain": [
       "0.7715206383305202"
      ]
     },
     "execution_count": 14,
     "metadata": {},
     "output_type": "execute_result"
    }
   ],
   "source": [
    "mlp2 = MLPClassifier(hidden_layer_sizes=(500,4), max_iter=400)\n",
    "mlp2.fit(X2_train, y_train)\n",
    "mlp2.score(X2_train, y_train)"
   ]
  },
  {
   "cell_type": "code",
   "execution_count": 19,
   "metadata": {},
   "outputs": [
    {
     "data": {
      "text/plain": [
       "array([0.71932515, 0.47776074, 0.73215656, 0.61550269, 0.75134305])"
      ]
     },
     "execution_count": 19,
     "metadata": {},
     "output_type": "execute_result"
    }
   ],
   "source": [
    "cross_val_score(mlp2, X2_train, y_train, cv=5)"
   ]
  },
  {
   "cell_type": "code",
   "execution_count": 22,
   "metadata": {},
   "outputs": [
    {
     "data": {
      "text/plain": [
       "array([[954,  47],\n",
       "       [360, 269]], dtype=int64)"
      ]
     },
     "execution_count": 22,
     "metadata": {},
     "output_type": "execute_result"
    }
   ],
   "source": [
    "mlp2_pred = mlp2.predict(X2_test)\n",
    "\n",
    "confusion_matrix(y_test, mlp2_pred)"
   ]
  },
  {
   "cell_type": "code",
   "execution_count": 18,
   "metadata": {},
   "outputs": [
    {
     "data": {
      "text/plain": [
       "0.7735154212060764"
      ]
     },
     "execution_count": 18,
     "metadata": {},
     "output_type": "execute_result"
    }
   ],
   "source": [
    "mlp3 = MLPClassifier(hidden_layer_sizes=(1000,))\n",
    "mlp3.fit(X2_train, y_train)\n",
    "\n",
    "mlp3.score(X2_train, y_train)"
   ]
  },
  {
   "cell_type": "code",
   "execution_count": 20,
   "metadata": {},
   "outputs": [
    {
     "data": {
      "text/plain": [
       "array([0.74309816, 0.54371166, 0.74213354, 0.7237145 , 0.72985418])"
      ]
     },
     "execution_count": 20,
     "metadata": {},
     "output_type": "execute_result"
    }
   ],
   "source": [
    "cross_val_score(mlp3, X2_train, y_train, cv=5)"
   ]
  },
  {
   "cell_type": "code",
   "execution_count": 23,
   "metadata": {},
   "outputs": [
    {
     "data": {
      "text/plain": [
       "array([[970,  31],\n",
       "       [392, 237]], dtype=int64)"
      ]
     },
     "execution_count": 23,
     "metadata": {},
     "output_type": "execute_result"
    }
   ],
   "source": [
    "mlp3_pred = mlp3.predict(X2_test)\n",
    "\n",
    "confusion_matrix(y_test, mlp3_pred)"
   ]
  },
  {
   "cell_type": "code",
   "execution_count": 17,
   "metadata": {},
   "outputs": [
    {
     "data": {
      "text/plain": [
       "0.757250268528464"
      ]
     },
     "execution_count": 17,
     "metadata": {},
     "output_type": "execute_result"
    }
   ],
   "source": [
    "mlp4 = MLPClassifier(hidden_layer_sizes=(10000,))\n",
    "mlp4.fit(X2_train, y_train)\n",
    "mlp4.score(X2_train, y_train)"
   ]
  },
  {
   "cell_type": "code",
   "execution_count": 21,
   "metadata": {},
   "outputs": [
    {
     "data": {
      "text/plain": [
       "array([0.73082822, 0.55904908, 0.74366846, 0.73752878, 0.74443592])"
      ]
     },
     "execution_count": 21,
     "metadata": {},
     "output_type": "execute_result"
    }
   ],
   "source": [
    "cross_val_score(mlp4, X2_train, y_train, cv=5)"
   ]
  },
  {
   "cell_type": "code",
   "execution_count": 24,
   "metadata": {},
   "outputs": [
    {
     "data": {
      "text/plain": [
       "array([[891, 110],\n",
       "       [317, 312]], dtype=int64)"
      ]
     },
     "execution_count": 24,
     "metadata": {},
     "output_type": "execute_result"
    }
   ],
   "source": [
    "mlp4_pred = mlp4.predict(X2_test)\n",
    "\n",
    "confusion_matrix(y_test, mlp4_pred)"
   ]
  },
  {
   "cell_type": "code",
   "execution_count": null,
   "metadata": {},
   "outputs": [],
   "source": []
  }
 ],
 "metadata": {
  "kernelspec": {
   "display_name": "Python 3",
   "language": "python",
   "name": "python3"
  },
  "language_info": {
   "codemirror_mode": {
    "name": "ipython",
    "version": 3
   },
   "file_extension": ".py",
   "mimetype": "text/x-python",
   "name": "python",
   "nbconvert_exporter": "python",
   "pygments_lexer": "ipython3",
   "version": "3.7.3"
  }
 },
 "nbformat": 4,
 "nbformat_minor": 2
}
