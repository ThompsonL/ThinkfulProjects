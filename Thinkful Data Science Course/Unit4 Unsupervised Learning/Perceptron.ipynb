{
 "cells": [
  {
   "cell_type": "code",
   "execution_count": 2,
   "metadata": {},
   "outputs": [],
   "source": [
    "import numpy as np\n",
    "import pandas as pd\n",
    "import matplotlib.pyplot as plt\n",
    "%matplotlib inline"
   ]
  },
  {
   "cell_type": "markdown",
   "metadata": {},
   "source": [
    "---"
   ]
  },
  {
   "cell_type": "markdown",
   "metadata": {},
   "source": [
    "Test Data"
   ]
  },
  {
   "cell_type": "code",
   "execution_count": 3,
   "metadata": {},
   "outputs": [],
   "source": [
    "test_data = pd.DataFrame()\n",
    "\n",
    "test_data['test'] = [90, 100, 85, 93, 88, 100, 97, 92, 89, 84,\n",
    "                     55, 65, 75, 58, 69, 71, 72, 63, 70, 59]\n",
    "test_data['project'] = [100, 85, 98, 88, 87, 99, 99, 86, 89, 100,\n",
    "                        67, 71, 74, 73, 55, 59, 56, 72, 67, 72]\n",
    "test_data['pass'] = ['pass', 'pass', 'pass', 'pass', 'pass',\n",
    "                     'pass', 'pass', 'pass', 'pass', 'pass',\n",
    "                     'fail', 'fail', 'fail', 'fail', 'fail',\n",
    "                     'fail', 'fail', 'fail', 'fail', 'fail']"
   ]
  },
  {
   "cell_type": "code",
   "execution_count": 10,
   "metadata": {},
   "outputs": [
    {
     "name": "stdout",
     "output_type": "stream",
     "text": [
      "Score: 0.5\n"
     ]
    }
   ],
   "source": [
    "# Import Perceptron.\n",
    "from sklearn.linear_model import Perceptron\n",
    "\n",
    "# Establish X and Y.\n",
    "X = test_data[['test', 'project']]\n",
    "Y = test_data['pass']\n",
    "\n",
    "# Establish Perceptron Model.\n",
    "# 10,000 iterations to ensure accuracy since data is non-normalized.\n",
    "perceptron = Perceptron(max_iter=10000)\n",
    "\n",
    "# Fit Perceptron.\n",
    "perceptron.fit(X, Y)\n",
    "\n",
    "# Get Parameters.\n",
    "print('Score: ' + str(perceptron.score(X, Y)))"
   ]
  },
  {
   "cell_type": "code",
   "execution_count": 11,
   "metadata": {},
   "outputs": [
    {
     "data": {
      "image/png": "[encoded data removed]",
      "text/plain": [
       "<Figure size 432x288 with 1 Axes>"
      ]
     },
     "metadata": {
      "needs_background": "light"
     },
     "output_type": "display_data"
    }
   ],
   "source": [
    "# Establish a mesh for our plot.\n",
    "x_min, x_max = X.test.min() - 1, X.test.max() + 3\n",
    "y_min, y_max = X.project.min() - 1, X.project.max() + 3\n",
    "xx, yy = np.meshgrid(np.arange(x_min, x_max, .1),\n",
    "                     np.arange(y_min, y_max, .1))\n",
    "\n",
    "# Predict over that mesh.\n",
    "Z = (perceptron.predict(np.c_[xx.ravel(), yy.ravel()])=='pass')\n",
    "\n",
    "\n",
    "# Reshape the prediction to be plottable.\n",
    "Z = Z.reshape(xx.shape)\n",
    "\n",
    "# Plot the mesh.\n",
    "plt.contourf(xx, yy, Z, cmap=plt.cm.coolwarm, alpha=0.8)\n",
    "\n",
    "# Plot our two scatters.\n",
    "plt.scatter(test_data.project[0:10], test_data.test[0:10], marker='x')\n",
    "plt.scatter(test_data.project[10:20], test_data.test[10:20], marker='o')\n",
    "\n",
    "# Aesthetics.\n",
    "plt.xlim(x_min, x_max)\n",
    "plt.ylim(y_min, y_max)\n",
    "plt.xlabel('Project Grade')\n",
    "plt.ylabel('Test Grade')\n",
    "plt.title('Passing Grades Perceptron Example')\n",
    "plt.show()"
   ]
  },
  {
   "cell_type": "code",
   "execution_count": null,
   "metadata": {},
   "outputs": [],
   "source": []
  }
 ],
 "metadata": {
  "kernelspec": {
   "display_name": "Python 3",
   "language": "python",
   "name": "python3"
  },
  "language_info": {
   "codemirror_mode": {
    "name": "ipython",
    "version": 3
   },
   "file_extension": ".py",
   "mimetype": "text/x-python",
   "name": "python",
   "nbconvert_exporter": "python",
   "pygments_lexer": "ipython3",
   "version": "3.7.3"
  }
 },
 "nbformat": 4,
 "nbformat_minor": 2
}
