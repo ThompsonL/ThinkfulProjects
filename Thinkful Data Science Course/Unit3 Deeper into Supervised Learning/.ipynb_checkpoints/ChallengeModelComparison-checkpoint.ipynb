{
 "cells": [
  {
   "cell_type": "code",
   "execution_count": 120,
   "metadata": {},
   "outputs": [],
   "source": [
    "import numpy as np\n",
    "import pandas as pd\n",
    "import math\n",
    "import matplotlib.pyplot as plt\n",
    "import scipy\n",
    "import sklearn\n",
    "from sklearn import neighbors\n",
    "from sklearn.neighbors import KNeighborsClassifier\n",
    "from sklearn import linear_model\n",
    "from sklearn.model_selection import cross_val_score\n",
    "from scipy import stats\n",
    "from sklearn.preprocessing import StandardScaler\n",
    "import seaborn as sns\n",
    "import os\n",
    "\n",
    "%matplotlib inline"
   ]
  },
  {
   "cell_type": "code",
   "execution_count": 4,
   "metadata": {},
   "outputs": [],
   "source": [
    "os.chdir('C:\\\\Users\\\\liuth\\\\Documents\\\\Python Scripts\\\\ThinkfulProjects\\\\Data')"
   ]
  },
  {
   "cell_type": "code",
   "execution_count": 7,
   "metadata": {},
   "outputs": [
    {
     "name": "stderr",
     "output_type": "stream",
     "text": [
      "C:\\Users\\liuth\\WPy-3670\\python-3.6.7.amd64\\lib\\site-packages\\IPython\\core\\interactiveshell.py:3020: DtypeWarning: Columns (20,21,22,23,119,121,123) have mixed types. Specify dtype option on import or set low_memory=False.\n",
      "  interactivity=interactivity, compiler=compiler, result=result)\n"
     ]
    }
   ],
   "source": [
    "#dataset from https://www.kaggle.com/stefanoleone992/mutual-funds-and-etfs\n",
    "etf = pd.read_csv('ETFs.csv')\n",
    "mf = pd.read_csv('MutualFunds.csv')"
   ]
  },
  {
   "cell_type": "markdown",
   "metadata": {},
   "source": [
    "---"
   ]
  },
  {
   "cell_type": "markdown",
   "metadata": {},
   "source": [
    "Exploring Data"
   ]
  },
  {
   "cell_type": "code",
   "execution_count": 151,
   "metadata": {},
   "outputs": [
    {
     "data": {
      "text/html": [
       "<div>\n",
       "<style scoped>\n",
       "    .dataframe tbody tr th:only-of-type {\n",
       "        vertical-align: middle;\n",
       "    }\n",
       "\n",
       "    .dataframe tbody tr th {\n",
       "        vertical-align: top;\n",
       "    }\n",
       "\n",
       "    .dataframe thead th {\n",
       "        text-align: right;\n",
       "    }\n",
       "</style>\n",
       "<table border=\"1\" class=\"dataframe\">\n",
       "  <thead>\n",
       "    <tr style=\"text-align: right;\">\n",
       "      <th></th>\n",
       "      <th>fund_name</th>\n",
       "      <th>fund_extended_name</th>\n",
       "      <th>category</th>\n",
       "      <th>fund_family</th>\n",
       "      <th>net_assets</th>\n",
       "      <th>ytd_return</th>\n",
       "      <th>fund_yield</th>\n",
       "      <th>legal_type</th>\n",
       "      <th>investment</th>\n",
       "      <th>size</th>\n",
       "      <th>...</th>\n",
       "      <th>fund_sharpe_ratio_5years</th>\n",
       "      <th>category_sharpe_ratio_5years</th>\n",
       "      <th>fund_sharpe_ratio_10years</th>\n",
       "      <th>category_sharpe_ratio_10years</th>\n",
       "      <th>fund_treynor_ratio_3years</th>\n",
       "      <th>category_treynor_ratio_3years</th>\n",
       "      <th>fund_treynor_ratio_5years</th>\n",
       "      <th>category_treynor_ratio_5years</th>\n",
       "      <th>fund_treynor_ratio_10years</th>\n",
       "      <th>category_treynor_ratio_10years</th>\n",
       "    </tr>\n",
       "  </thead>\n",
       "  <tbody>\n",
       "    <tr>\n",
       "      <th>148</th>\n",
       "      <td>AAXJ</td>\n",
       "      <td>iShares MSCI All Country Asia ex Jpn ETF</td>\n",
       "      <td>Pacific/Asia ex-Japan Stk</td>\n",
       "      <td>iShares</td>\n",
       "      <td>4.510000e+09</td>\n",
       "      <td>6.57</td>\n",
       "      <td>1.96</td>\n",
       "      <td>Exchange Traded Fund</td>\n",
       "      <td>Blend</td>\n",
       "      <td>Large</td>\n",
       "      <td>...</td>\n",
       "      <td>0.41</td>\n",
       "      <td>0.29</td>\n",
       "      <td>0.59</td>\n",
       "      <td>0.28</td>\n",
       "      <td>11.1</td>\n",
       "      <td>0.17</td>\n",
       "      <td>4.89</td>\n",
       "      <td>3.45</td>\n",
       "      <td>9.43</td>\n",
       "      <td>3.62</td>\n",
       "    </tr>\n",
       "    <tr>\n",
       "      <th>154</th>\n",
       "      <td>ACWI</td>\n",
       "      <td>iShares MSCI ACWI ETF</td>\n",
       "      <td>World Stock</td>\n",
       "      <td>iShares</td>\n",
       "      <td>1.046000e+10</td>\n",
       "      <td>9.55</td>\n",
       "      <td>28.00</td>\n",
       "      <td>Exchange Traded Fund</td>\n",
       "      <td>Blend</td>\n",
       "      <td>Large</td>\n",
       "      <td>...</td>\n",
       "      <td>0.60</td>\n",
       "      <td>0.72</td>\n",
       "      <td>0.79</td>\n",
       "      <td>0.18</td>\n",
       "      <td>12.34</td>\n",
       "      <td>5.66</td>\n",
       "      <td>7.24</td>\n",
       "      <td>10.19</td>\n",
       "      <td>12.55</td>\n",
       "      <td>24.00</td>\n",
       "    </tr>\n",
       "    <tr>\n",
       "      <th>156</th>\n",
       "      <td>ACWX</td>\n",
       "      <td>iShares MSCI ACWI ex US ETF</td>\n",
       "      <td>Foreign Large Blend</td>\n",
       "      <td>iShares</td>\n",
       "      <td>3.880000e+09</td>\n",
       "      <td>7.48</td>\n",
       "      <td>2.46</td>\n",
       "      <td>Exchange Traded Fund</td>\n",
       "      <td>Blend</td>\n",
       "      <td>Large</td>\n",
       "      <td>...</td>\n",
       "      <td>0.25</td>\n",
       "      <td>0.57</td>\n",
       "      <td>0.53</td>\n",
       "      <td>0.14</td>\n",
       "      <td>8.33</td>\n",
       "      <td>1.18</td>\n",
       "      <td>2.35</td>\n",
       "      <td>7.64</td>\n",
       "      <td>7.65</td>\n",
       "      <td>0.97</td>\n",
       "    </tr>\n",
       "  </tbody>\n",
       "</table>\n",
       "<p>3 rows × 104 columns</p>\n",
       "</div>"
      ],
      "text/plain": [
       "    fund_name                        fund_extended_name  \\\n",
       "148      AAXJ  iShares MSCI All Country Asia ex Jpn ETF   \n",
       "154      ACWI                     iShares MSCI ACWI ETF   \n",
       "156      ACWX               iShares MSCI ACWI ex US ETF   \n",
       "\n",
       "                      category fund_family    net_assets  ytd_return  \\\n",
       "148  Pacific/Asia ex-Japan Stk     iShares  4.510000e+09        6.57   \n",
       "154                World Stock     iShares  1.046000e+10        9.55   \n",
       "156        Foreign Large Blend     iShares  3.880000e+09        7.48   \n",
       "\n",
       "     fund_yield            legal_type investment   size  \\\n",
       "148        1.96  Exchange Traded Fund      Blend  Large   \n",
       "154       28.00  Exchange Traded Fund      Blend  Large   \n",
       "156        2.46  Exchange Traded Fund      Blend  Large   \n",
       "\n",
       "                  ...               fund_sharpe_ratio_5years  \\\n",
       "148               ...                                   0.41   \n",
       "154               ...                                   0.60   \n",
       "156               ...                                   0.25   \n",
       "\n",
       "     category_sharpe_ratio_5years  fund_sharpe_ratio_10years  \\\n",
       "148                          0.29                       0.59   \n",
       "154                          0.72                       0.79   \n",
       "156                          0.57                       0.53   \n",
       "\n",
       "     category_sharpe_ratio_10years  fund_treynor_ratio_3years  \\\n",
       "148                           0.28                       11.1   \n",
       "154                           0.18                      12.34   \n",
       "156                           0.14                       8.33   \n",
       "\n",
       "    category_treynor_ratio_3years  fund_treynor_ratio_5years  \\\n",
       "148                          0.17                       4.89   \n",
       "154                          5.66                       7.24   \n",
       "156                          1.18                       2.35   \n",
       "\n",
       "     category_treynor_ratio_5years  fund_treynor_ratio_10years  \\\n",
       "148                           3.45                        9.43   \n",
       "154                          10.19                       12.55   \n",
       "156                           7.64                        7.65   \n",
       "\n",
       "     category_treynor_ratio_10years  \n",
       "148                            3.62  \n",
       "154                           24.00  \n",
       "156                            0.97  \n",
       "\n",
       "[3 rows x 104 columns]"
      ]
     },
     "execution_count": 151,
     "metadata": {},
     "output_type": "execute_result"
    }
   ],
   "source": [
    "etf.head(3)"
   ]
  },
  {
   "cell_type": "code",
   "execution_count": 23,
   "metadata": {},
   "outputs": [
    {
     "data": {
      "text/html": [
       "<div>\n",
       "<style scoped>\n",
       "    .dataframe tbody tr th:only-of-type {\n",
       "        vertical-align: middle;\n",
       "    }\n",
       "\n",
       "    .dataframe tbody tr th {\n",
       "        vertical-align: top;\n",
       "    }\n",
       "\n",
       "    .dataframe thead th {\n",
       "        text-align: right;\n",
       "    }\n",
       "</style>\n",
       "<table border=\"1\" class=\"dataframe\">\n",
       "  <thead>\n",
       "    <tr style=\"text-align: right;\">\n",
       "      <th></th>\n",
       "      <th>fund_name</th>\n",
       "      <th>fund_extended_name</th>\n",
       "      <th>category</th>\n",
       "      <th>fund_family</th>\n",
       "      <th>net_assets</th>\n",
       "      <th>ytd_return</th>\n",
       "      <th>fund_yield</th>\n",
       "      <th>morningstar_rating</th>\n",
       "      <th>inception_date</th>\n",
       "      <th>investment</th>\n",
       "      <th>...</th>\n",
       "      <th>fund_sharpe_ratio_5years</th>\n",
       "      <th>category_sharpe_ratio_5years</th>\n",
       "      <th>fund_sharpe_ratio_10years</th>\n",
       "      <th>category_sharpe_ratio_10years</th>\n",
       "      <th>fund_treynor_ratio_3years</th>\n",
       "      <th>category_treynor_ratio_3years</th>\n",
       "      <th>fund_treynor_ratio_5years</th>\n",
       "      <th>category_treynor_ratio_5years</th>\n",
       "      <th>fund_treynor_ratio_10years</th>\n",
       "      <th>category_treynor_ratio_10years</th>\n",
       "    </tr>\n",
       "  </thead>\n",
       "  <tbody>\n",
       "    <tr>\n",
       "      <th>3</th>\n",
       "      <td>AAAIX</td>\n",
       "      <td>American Century Strat Allc: Agrsv I</td>\n",
       "      <td>Allocation - 70% to 85% Equity</td>\n",
       "      <td>American Century Investments</td>\n",
       "      <td>768440000.0</td>\n",
       "      <td>7.57</td>\n",
       "      <td>1.42</td>\n",
       "      <td>4</td>\n",
       "      <td>2000-07-31</td>\n",
       "      <td>Growth</td>\n",
       "      <td>...</td>\n",
       "      <td>0.65</td>\n",
       "      <td>1.0</td>\n",
       "      <td>0.93</td>\n",
       "      <td>1.0</td>\n",
       "      <td>6.38</td>\n",
       "      <td>6.0</td>\n",
       "      <td>4.27</td>\n",
       "      <td>4.0</td>\n",
       "      <td>7.95</td>\n",
       "      <td>8.0</td>\n",
       "    </tr>\n",
       "    <tr>\n",
       "      <th>7</th>\n",
       "      <td>AAARX</td>\n",
       "      <td>American Century Strat Allc: Agrsv R</td>\n",
       "      <td>Allocation - 70% to 85% Equity</td>\n",
       "      <td>American Century Investments</td>\n",
       "      <td>768440000.0</td>\n",
       "      <td>7.45</td>\n",
       "      <td>0.74</td>\n",
       "      <td>3</td>\n",
       "      <td>2005-03-30</td>\n",
       "      <td>Growth</td>\n",
       "      <td>...</td>\n",
       "      <td>0.57</td>\n",
       "      <td>1.0</td>\n",
       "      <td>0.87</td>\n",
       "      <td>1.0</td>\n",
       "      <td>5.81</td>\n",
       "      <td>6.0</td>\n",
       "      <td>3.73</td>\n",
       "      <td>4.0</td>\n",
       "      <td>7.41</td>\n",
       "      <td>8.0</td>\n",
       "    </tr>\n",
       "  </tbody>\n",
       "</table>\n",
       "<p>2 rows × 125 columns</p>\n",
       "</div>"
      ],
      "text/plain": [
       "  fund_name                    fund_extended_name  \\\n",
       "3     AAAIX  American Century Strat Allc: Agrsv I   \n",
       "7     AAARX  American Century Strat Allc: Agrsv R   \n",
       "\n",
       "                         category                   fund_family   net_assets  \\\n",
       "3  Allocation - 70% to 85% Equity  American Century Investments  768440000.0   \n",
       "7  Allocation - 70% to 85% Equity  American Century Investments  768440000.0   \n",
       "\n",
       "   ytd_return  fund_yield  morningstar_rating inception_date investment  \\\n",
       "3        7.57        1.42                   4     2000-07-31     Growth   \n",
       "7        7.45        0.74                   3     2005-03-30     Growth   \n",
       "\n",
       "                ...               fund_sharpe_ratio_5years  \\\n",
       "3               ...                                   0.65   \n",
       "7               ...                                   0.57   \n",
       "\n",
       "  category_sharpe_ratio_5years  fund_sharpe_ratio_10years  \\\n",
       "3                          1.0                       0.93   \n",
       "7                          1.0                       0.87   \n",
       "\n",
       "   category_sharpe_ratio_10years  fund_treynor_ratio_3years  \\\n",
       "3                            1.0                       6.38   \n",
       "7                            1.0                       5.81   \n",
       "\n",
       "   category_treynor_ratio_3years  fund_treynor_ratio_5years  \\\n",
       "3                            6.0                       4.27   \n",
       "7                            6.0                       3.73   \n",
       "\n",
       "   category_treynor_ratio_5years  fund_treynor_ratio_10years  \\\n",
       "3                            4.0                        7.95   \n",
       "7                            4.0                        7.41   \n",
       "\n",
       "   category_treynor_ratio_10years  \n",
       "3                             8.0  \n",
       "7                             8.0  \n",
       "\n",
       "[2 rows x 125 columns]"
      ]
     },
     "execution_count": 23,
     "metadata": {},
     "output_type": "execute_result"
    }
   ],
   "source": [
    "mf.head(2)"
   ]
  },
  {
   "cell_type": "markdown",
   "metadata": {},
   "source": [
    "---"
   ]
  },
  {
   "cell_type": "markdown",
   "metadata": {},
   "source": [
    "Normalizing Net Assets"
   ]
  },
  {
   "cell_type": "code",
   "execution_count": 150,
   "metadata": {},
   "outputs": [],
   "source": [
    "etfsort = etf.sort_values('net_assets', ascending=0)[['net_assets','fund_name', 'ytd_return', 'fund_yield', 'investment', 'size','fund_sharpe_ratio_10years', 'fund_treynor_ratio_10years']]\n",
    "etf_2 = [math.sqrt(x) for x in etfsort['net_assets']]\n",
    "etfsort = etfsort[['net_assets','fund_name', 'ytd_return', 'fund_yield', 'investment', 'size','fund_sharpe_ratio_10years', 'fund_treynor_ratio_10years']]\n",
    "etfsort['net_assets'] = etf_2"
   ]
  },
  {
   "cell_type": "code",
   "execution_count": 161,
   "metadata": {},
   "outputs": [],
   "source": [
    "mfsort = mf.sort_values('net_assets', ascending=0)[['net_assets','fund_name', 'ytd_return', 'fund_yield', 'investment', 'size','fund_sharpe_ratio_10years', 'fund_treynor_ratio_10years']]\n",
    "mf_2 = [math.sqrt(x) for x in mfsort['net_assets']]\n",
    "mfsort = mfsort[['net_assets','fund_name', 'ytd_return', 'fund_yield', 'investment', 'size','fund_sharpe_ratio_10years', 'fund_treynor_ratio_10years']]\n",
    "mfsort['net_assets'] = mf_2"
   ]
  },
  {
   "cell_type": "markdown",
   "metadata": {},
   "source": [
    "---"
   ]
  },
  {
   "cell_type": "markdown",
   "metadata": {},
   "source": [
    "Visualizing the data"
   ]
  },
  {
   "cell_type": "code",
   "execution_count": 162,
   "metadata": {},
   "outputs": [
    {
     "data": {
      "text/plain": [
       "<matplotlib.axes._subplots.AxesSubplot at 0x1a1ed333278>"
      ]
     },
     "execution_count": 162,
     "metadata": {},
     "output_type": "execute_result"
    },
    {
     "data": {
      "image/png": "[encoded data removed]",
      "text/plain": [
       "<Figure size 432x288 with 2 Axes>"
      ]
     },
     "metadata": {
      "needs_background": "light"
     },
     "output_type": "display_data"
    }
   ],
   "source": [
    "#Heat map ETF\n",
    "sns.heatmap(etfsort.corr(),linewidths=0.25, square=True, cmap = \"BrBG\", linecolor='black', annot=True)"
   ]
  },
  {
   "cell_type": "code",
   "execution_count": 163,
   "metadata": {},
   "outputs": [
    {
     "data": {
      "text/plain": [
       "<matplotlib.axes._subplots.AxesSubplot at 0x1a1ed2c7400>"
      ]
     },
     "execution_count": 163,
     "metadata": {},
     "output_type": "execute_result"
    },
    {
     "data": {
      "image/png": "[encoded data removed]",
      "text/plain": [
       "<Figure size 432x288 with 2 Axes>"
      ]
     },
     "metadata": {
      "needs_background": "light"
     },
     "output_type": "display_data"
    }
   ],
   "source": [
    "#Heat map Mutual Funds\n",
    "sns.heatmap(mfsort.corr(),linewidths=0.25, square=True, cmap = \"BrBG\", linecolor='black', annot=True)"
   ]
  },
  {
   "cell_type": "code",
   "execution_count": 111,
   "metadata": {},
   "outputs": [
    {
     "data": {
      "image/png": "[encoded data removed]",
      "text/plain": [
       "<Figure size 432x288 with 1 Axes>"
      ]
     },
     "metadata": {
      "needs_background": "light"
     },
     "output_type": "display_data"
    },
    {
     "data": {
      "image/png": "[encoded data removed]",
      "text/plain": [
       "<Figure size 432x288 with 1 Axes>"
      ]
     },
     "metadata": {
      "needs_background": "light"
     },
     "output_type": "display_data"
    }
   ],
   "source": [
    "plt.scatter(etfsort.fund_yield, etfsort.ytd_return)\n",
    "plt.title(\"ETF: Fund Yield v.s. YTD Return\")\n",
    "plt.ylabel(\"YTD Return\")\n",
    "plt.xlabel(\"Fund Yield\")\n",
    "plt.show()\n",
    "\n",
    "plt.scatter(mfsort.fund_yield, mfsort.ytd_return)\n",
    "plt.title('Mutual Fund: Fund Yield v.s. YTD Return')\n",
    "plt.ylabel('YTD Return')\n",
    "plt.xlabel('Fund Yield')\n",
    "plt.show()"
   ]
  },
  {
   "cell_type": "markdown",
   "metadata": {},
   "source": [
    "---"
   ]
  },
  {
   "cell_type": "markdown",
   "metadata": {},
   "source": [
    "Reshaping Data"
   ]
  },
  {
   "cell_type": "markdown",
   "metadata": {},
   "source": [
    "It is important to reshape or there are going to be issues when trying to model out of this, refer to happiness.py"
   ]
  },
  {
   "cell_type": "code",
   "execution_count": 124,
   "metadata": {},
   "outputs": [],
   "source": [
    "etf_fund_reshape=np.array(etfsort['fund_yield']).reshape(-1,1)\n",
    "etf_fund_scale=StandardScaler().fit_transform(etf_fund_reshape)\n",
    "\n",
    "etf_yield_reshape=np.array(etfsort['ytd_return']).reshape(-1,1)\n",
    "etf_yield_scale=StandardScaler().fit_transform(etf_yield_reshape)\n",
    "\n",
    "mf_fund_reshape=np.array(mfsort['fund_yield']).reshape(-1,1)\n",
    "mf_fund_scale=StandardScaler().fit_transform(mf_fund_reshape)\n",
    "\n",
    "mf_yield_reshape=np.array(etfsort['ytd_return']).reshape(-1,1)\n",
    "mf_yield_scale=StandardScaler().fit_transform(mf_yield_reshape)\n"
   ]
  },
  {
   "cell_type": "markdown",
   "metadata": {},
   "source": [
    "---"
   ]
  },
  {
   "cell_type": "markdown",
   "metadata": {},
   "source": [
    "Building the Model (I am not understanding why I had to scale it, if I did not scale it, I ran into issues)"
   ]
  },
  {
   "cell_type": "code",
   "execution_count": 146,
   "metadata": {},
   "outputs": [
    {
     "name": "stdout",
     "output_type": "stream",
     "text": [
      "\n",
      "Coefficients: \n",
      " [-22.41804986 -47.11079642]\n",
      "\n",
      "Intercept: \n",
      " 54431.718154972456\n",
      "\n",
      "R-squared \n",
      ": 0.0001320580995473053\n"
     ]
    }
   ],
   "source": [
    "regr = linear_model.LinearRegression()\n",
    "Y = etfsort['net_assets']\n",
    "X = etfsort[['ytd_return', 'fund_yield']]\n",
    "regr.fit(X, Y)\n",
    "\n",
    "# Review results\n",
    "print('\\nCoefficients: \\n', regr.coef_)\n",
    "print('\\nIntercept: \\n', regr.intercept_)\n",
    "print('\\nR-squared \\n:', regr.score(X, Y))"
   ]
  },
  {
   "cell_type": "code",
   "execution_count": 143,
   "metadata": {},
   "outputs": [
    {
     "data": {
      "image/png": "[encoded data removed]",
      "text/plain": [
       "<Figure size 432x288 with 1 Axes>"
      ]
     },
     "metadata": {
      "needs_background": "light"
     },
     "output_type": "display_data"
    }
   ],
   "source": [
    "#multivariate normality\n",
    "predicted = regr.predict(X).ravel()\n",
    "actual = etfsort['fund_yield']\n",
    "residual = actual - predicted\n",
    "\n",
    "plt.hist(residual)\n",
    "plt.title('Residual counts')\n",
    "plt.xlabel('Residual')\n",
    "plt.ylabel('Count')\n",
    "plt.show()\n"
   ]
  },
  {
   "cell_type": "code",
   "execution_count": 144,
   "metadata": {},
   "outputs": [
    {
     "data": {
      "image/png": "[encoded data removed]",
      "text/plain": [
       "<Figure size 432x288 with 1 Axes>"
      ]
     },
     "metadata": {
      "needs_background": "light"
     },
     "output_type": "display_data"
    }
   ],
   "source": [
    "#Homoscedasticity\n",
    "plt.scatter(predicted, residual)\n",
    "plt.xlabel('Predicted')\n",
    "plt.ylabel('Residual')\n",
    "plt.axhline(y=0)\n",
    "plt.title('Residual vs. Predicted')\n",
    "plt.show()"
   ]
  },
  {
   "cell_type": "code",
   "execution_count": null,
   "metadata": {},
   "outputs": [],
   "source": []
  }
 ],
 "metadata": {
  "kernelspec": {
   "display_name": "Python 3",
   "language": "python",
   "name": "python3"
  },
  "language_info": {
   "codemirror_mode": {
    "name": "ipython",
    "version": 3
   },
   "file_extension": ".py",
   "mimetype": "text/x-python",
   "name": "python",
   "nbconvert_exporter": "python",
   "pygments_lexer": "ipython3",
   "version": "3.6.7"
  }
 },
 "nbformat": 4,
 "nbformat_minor": 2
}
