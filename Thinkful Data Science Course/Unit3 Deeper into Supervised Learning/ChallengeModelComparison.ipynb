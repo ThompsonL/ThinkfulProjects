{
 "cells": [
  {
   "cell_type": "code",
   "execution_count": 65,
   "metadata": {},
   "outputs": [],
   "source": [
    "import numpy as np\n",
    "import pandas as pd\n",
    "import math\n",
    "import matplotlib.pyplot as plt\n",
    "import scipy\n",
    "import sklearn\n",
    "from sklearn import neighbors\n",
    "from sklearn.neighbors import KNeighborsClassifier\n",
    "from sklearn import linear_model\n",
    "from sklearn.model_selection import cross_val_score\n",
    "from scipy import stats\n",
    "from sklearn.preprocessing import StandardScaler\n",
    "from sklearn import neighbors\n",
    "import seaborn as sns\n",
    "import statsmodels.formula.api as smf\n",
    "import os\n",
    "\n",
    "%matplotlib inline"
   ]
  },
  {
   "cell_type": "code",
   "execution_count": null,
   "metadata": {},
   "outputs": [],
   "source": [
    "os.chdir('C:\\\\Users\\\\liuth\\\\Documents\\\\Python Scripts\\\\ThinkfulProjects\\\\Data')"
   ]
  },
  {
   "cell_type": "code",
   "execution_count": null,
   "metadata": {},
   "outputs": [],
   "source": [
    "#dataset from https://www.kaggle.com/stefanoleone992/mutual-funds-and-etfs\n",
    "etf = pd.read_csv('ETFs.csv')\n",
    "mf = pd.read_csv('MutualFunds.csv')"
   ]
  },
  {
   "cell_type": "markdown",
   "metadata": {},
   "source": [
    "---"
   ]
  },
  {
   "cell_type": "markdown",
   "metadata": {},
   "source": [
    "Exploring Data"
   ]
  },
  {
   "cell_type": "code",
   "execution_count": 4,
   "metadata": {},
   "outputs": [],
   "source": [
    "etf.head(3)"
   ]
  },
  {
   "cell_type": "code",
   "execution_count": 5,
   "metadata": {},
   "outputs": [],
   "source": [
    "mf.head(2)"
   ]
  },
  {
   "cell_type": "markdown",
   "metadata": {},
   "source": [
    "---"
   ]
  },
  {
   "cell_type": "markdown",
   "metadata": {},
   "source": [
    "Normalizing Net Assets"
   ]
  },
  {
   "cell_type": "code",
   "execution_count": 6,
   "metadata": {},
   "outputs": [
    {
     "data": {
      "text/html": [
       "<div>\n",
       "<style scoped>\n",
       "    .dataframe tbody tr th:only-of-type {\n",
       "        vertical-align: middle;\n",
       "    }\n",
       "\n",
       "    .dataframe tbody tr th {\n",
       "        vertical-align: top;\n",
       "    }\n",
       "\n",
       "    .dataframe thead th {\n",
       "        text-align: right;\n",
       "    }\n",
       "</style>\n",
       "<table border=\"1\" class=\"dataframe\">\n",
       "  <thead>\n",
       "    <tr style=\"text-align: right;\">\n",
       "      <th></th>\n",
       "      <th>net_assets</th>\n",
       "      <th>fund_name</th>\n",
       "      <th>ytd_return</th>\n",
       "      <th>fund_yield</th>\n",
       "      <th>investment</th>\n",
       "      <th>size</th>\n",
       "      <th>fund_sharpe_ratio_10years</th>\n",
       "      <th>fund_treynor_ratio_10years</th>\n",
       "    </tr>\n",
       "  </thead>\n",
       "  <tbody>\n",
       "    <tr>\n",
       "      <th>1270</th>\n",
       "      <td>NaN</td>\n",
       "      <td>IWDP</td>\n",
       "      <td>7.94</td>\n",
       "      <td>3.73</td>\n",
       "      <td>Blend</td>\n",
       "      <td>Medium</td>\n",
       "      <td>0.71</td>\n",
       "      <td>11.79</td>\n",
       "    </tr>\n",
       "    <tr>\n",
       "      <th>1454</th>\n",
       "      <td>NaN</td>\n",
       "      <td>MFEG</td>\n",
       "      <td>NaN</td>\n",
       "      <td>0.00</td>\n",
       "      <td>Blend</td>\n",
       "      <td>Large</td>\n",
       "      <td>NaN</td>\n",
       "      <td>NaN</td>\n",
       "    </tr>\n",
       "    <tr>\n",
       "      <th>1494</th>\n",
       "      <td>NaN</td>\n",
       "      <td>MVOL</td>\n",
       "      <td>NaN</td>\n",
       "      <td>0.00</td>\n",
       "      <td>Blend</td>\n",
       "      <td>Large</td>\n",
       "      <td>NaN</td>\n",
       "      <td>NaN</td>\n",
       "    </tr>\n",
       "    <tr>\n",
       "      <th>1744</th>\n",
       "      <td>NaN</td>\n",
       "      <td>RCOM</td>\n",
       "      <td>NaN</td>\n",
       "      <td>NaN</td>\n",
       "      <td>NaN</td>\n",
       "      <td>NaN</td>\n",
       "      <td>NaN</td>\n",
       "      <td>NaN</td>\n",
       "    </tr>\n",
       "    <tr>\n",
       "      <th>2117</th>\n",
       "      <td>NaN</td>\n",
       "      <td>USDY</td>\n",
       "      <td>NaN</td>\n",
       "      <td>NaN</td>\n",
       "      <td>NaN</td>\n",
       "      <td>NaN</td>\n",
       "      <td>NaN</td>\n",
       "      <td>NaN</td>\n",
       "    </tr>\n",
       "  </tbody>\n",
       "</table>\n",
       "</div>"
      ],
      "text/plain": [
       "      net_assets fund_name  ytd_return  fund_yield investment    size  \\\n",
       "1270         NaN      IWDP        7.94        3.73      Blend  Medium   \n",
       "1454         NaN      MFEG         NaN        0.00      Blend   Large   \n",
       "1494         NaN      MVOL         NaN        0.00      Blend   Large   \n",
       "1744         NaN      RCOM         NaN         NaN        NaN     NaN   \n",
       "2117         NaN      USDY         NaN         NaN        NaN     NaN   \n",
       "\n",
       "      fund_sharpe_ratio_10years  fund_treynor_ratio_10years  \n",
       "1270                       0.71                       11.79  \n",
       "1454                        NaN                         NaN  \n",
       "1494                        NaN                         NaN  \n",
       "1744                        NaN                         NaN  \n",
       "2117                        NaN                         NaN  "
      ]
     },
     "execution_count": 6,
     "metadata": {},
     "output_type": "execute_result"
    }
   ],
   "source": [
    "etfsort = etf.sort_values('net_assets', ascending=0)[['net_assets','fund_name', 'ytd_return', 'fund_yield', 'investment', 'size','fund_sharpe_ratio_10years', 'fund_treynor_ratio_10years']]\n",
    "etf_2 = [math.sqrt(x) for x in etfsort['net_assets']]\n",
    "etfsort = etfsort[['net_assets','fund_name', 'ytd_return', 'fund_yield', 'investment', 'size','fund_sharpe_ratio_10years', 'fund_treynor_ratio_10years']]\n",
    "etfsort['net_assets'] = etf_2\n",
    "etfsort.tail(5)"
   ]
  },
  {
   "cell_type": "markdown",
   "metadata": {},
   "source": [
    "---"
   ]
  },
  {
   "cell_type": "markdown",
   "metadata": {},
   "source": [
    "Cleaning and Validating Data"
   ]
  },
  {
   "cell_type": "code",
   "execution_count": 39,
   "metadata": {},
   "outputs": [],
   "source": [
    "etfsort = etfsort.dropna()"
   ]
  },
  {
   "cell_type": "markdown",
   "metadata": {},
   "source": [
    "---"
   ]
  },
  {
   "cell_type": "markdown",
   "metadata": {},
   "source": [
    "Visualizing the data"
   ]
  },
  {
   "cell_type": "code",
   "execution_count": 9,
   "metadata": {},
   "outputs": [
    {
     "data": {
      "text/plain": [
       "<matplotlib.axes._subplots.AxesSubplot at 0x1bf64ce5160>"
      ]
     },
     "execution_count": 9,
     "metadata": {},
     "output_type": "execute_result"
    },
    {
     "data": {
      "image/png": "[encoded data removed]",
      "text/plain": [
       "<Figure size 432x288 with 2 Axes>"
      ]
     },
     "metadata": {
      "needs_background": "light"
     },
     "output_type": "display_data"
    }
   ],
   "source": [
    "#Heat map ETF\n",
    "sns.heatmap(etfsort.corr(),linewidths=0.25, square=True, cmap = \"BrBG\", linecolor='black', annot=True)"
   ]
  },
  {
   "cell_type": "code",
   "execution_count": 40,
   "metadata": {},
   "outputs": [],
   "source": [
    "im=smf.ols(formula='ytd_return~fund_yield+fund_sharpe_ratio_10years+fund_treynor_ratio_10years+net_assets', data=etfsort).fit()"
   ]
  },
  {
   "cell_type": "code",
   "execution_count": 41,
   "metadata": {},
   "outputs": [
    {
     "data": {
      "text/html": [
       "<table class=\"simpletable\">\n",
       "<caption>OLS Regression Results</caption>\n",
       "<tr>\n",
       "  <th>Dep. Variable:</th>       <td>ytd_return</td>    <th>  R-squared:         </th> <td>   0.004</td> \n",
       "</tr>\n",
       "<tr>\n",
       "  <th>Model:</th>                   <td>OLS</td>       <th>  Adj. R-squared:    </th> <td>   0.001</td> \n",
       "</tr>\n",
       "<tr>\n",
       "  <th>Method:</th>             <td>Least Squares</td>  <th>  F-statistic:       </th> <td>   1.282</td> \n",
       "</tr>\n",
       "<tr>\n",
       "  <th>Date:</th>             <td>Thu, 25 Apr 2019</td> <th>  Prob (F-statistic):</th>  <td> 0.275</td>  \n",
       "</tr>\n",
       "<tr>\n",
       "  <th>Time:</th>                 <td>17:50:57</td>     <th>  Log-Likelihood:    </th> <td> -6669.8</td> \n",
       "</tr>\n",
       "<tr>\n",
       "  <th>No. Observations:</th>      <td>  1296</td>      <th>  AIC:               </th> <td>1.335e+04</td>\n",
       "</tr>\n",
       "<tr>\n",
       "  <th>Df Residuals:</th>          <td>  1291</td>      <th>  BIC:               </th> <td>1.338e+04</td>\n",
       "</tr>\n",
       "<tr>\n",
       "  <th>Df Model:</th>              <td>     4</td>      <th>                     </th>     <td> </td>    \n",
       "</tr>\n",
       "<tr>\n",
       "  <th>Covariance Type:</th>      <td>nonrobust</td>    <th>                     </th>     <td> </td>    \n",
       "</tr>\n",
       "</table>\n",
       "<table class=\"simpletable\">\n",
       "<tr>\n",
       "               <td></td>                 <th>coef</th>     <th>std err</th>      <th>t</th>      <th>P>|t|</th>  <th>[0.025</th>    <th>0.975]</th>  \n",
       "</tr>\n",
       "<tr>\n",
       "  <th>Intercept</th>                  <td>   21.1936</td> <td>    1.406</td> <td>   15.074</td> <td> 0.000</td> <td>   18.435</td> <td>   23.952</td>\n",
       "</tr>\n",
       "<tr>\n",
       "  <th>fund_yield</th>                 <td>    0.0882</td> <td>    0.136</td> <td>    0.651</td> <td> 0.515</td> <td>   -0.178</td> <td>    0.354</td>\n",
       "</tr>\n",
       "<tr>\n",
       "  <th>fund_sharpe_ratio_10years</th>  <td>    0.6768</td> <td>    0.384</td> <td>    1.764</td> <td> 0.078</td> <td>   -0.076</td> <td>    1.430</td>\n",
       "</tr>\n",
       "<tr>\n",
       "  <th>fund_treynor_ratio_10years</th> <td>    0.0405</td> <td>    0.050</td> <td>    0.809</td> <td> 0.418</td> <td>   -0.058</td> <td>    0.139</td>\n",
       "</tr>\n",
       "<tr>\n",
       "  <th>net_assets</th>                 <td>-1.159e-05</td> <td> 1.27e-05</td> <td>   -0.913</td> <td> 0.362</td> <td>-3.65e-05</td> <td> 1.33e-05</td>\n",
       "</tr>\n",
       "</table>\n",
       "<table class=\"simpletable\">\n",
       "<tr>\n",
       "  <th>Omnibus:</th>       <td>1489.211</td> <th>  Durbin-Watson:     </th>  <td>   1.991</td> \n",
       "</tr>\n",
       "<tr>\n",
       "  <th>Prob(Omnibus):</th>  <td> 0.000</td>  <th>  Jarque-Bera (JB):  </th> <td>142989.128</td>\n",
       "</tr>\n",
       "<tr>\n",
       "  <th>Skew:</th>           <td> 5.761</td>  <th>  Prob(JB):          </th>  <td>    0.00</td> \n",
       "</tr>\n",
       "<tr>\n",
       "  <th>Kurtosis:</th>       <td>53.152</td>  <th>  Cond. No.          </th>  <td>1.19e+05</td> \n",
       "</tr>\n",
       "</table><br/><br/>Warnings:<br/>[1] Standard Errors assume that the covariance matrix of the errors is correctly specified.<br/>[2] The condition number is large, 1.19e+05. This might indicate that there are<br/>strong multicollinearity or other numerical problems."
      ],
      "text/plain": [
       "<class 'statsmodels.iolib.summary.Summary'>\n",
       "\"\"\"\n",
       "                            OLS Regression Results                            \n",
       "==============================================================================\n",
       "Dep. Variable:             ytd_return   R-squared:                       0.004\n",
       "Model:                            OLS   Adj. R-squared:                  0.001\n",
       "Method:                 Least Squares   F-statistic:                     1.282\n",
       "Date:                Thu, 25 Apr 2019   Prob (F-statistic):              0.275\n",
       "Time:                        17:50:57   Log-Likelihood:                -6669.8\n",
       "No. Observations:                1296   AIC:                         1.335e+04\n",
       "Df Residuals:                    1291   BIC:                         1.338e+04\n",
       "Df Model:                           4                                         \n",
       "Covariance Type:            nonrobust                                         \n",
       "==============================================================================================\n",
       "                                 coef    std err          t      P>|t|      [0.025      0.975]\n",
       "----------------------------------------------------------------------------------------------\n",
       "Intercept                     21.1936      1.406     15.074      0.000      18.435      23.952\n",
       "fund_yield                     0.0882      0.136      0.651      0.515      -0.178       0.354\n",
       "fund_sharpe_ratio_10years      0.6768      0.384      1.764      0.078      -0.076       1.430\n",
       "fund_treynor_ratio_10years     0.0405      0.050      0.809      0.418      -0.058       0.139\n",
       "net_assets                 -1.159e-05   1.27e-05     -0.913      0.362   -3.65e-05    1.33e-05\n",
       "==============================================================================\n",
       "Omnibus:                     1489.211   Durbin-Watson:                   1.991\n",
       "Prob(Omnibus):                  0.000   Jarque-Bera (JB):           142989.128\n",
       "Skew:                           5.761   Prob(JB):                         0.00\n",
       "Kurtosis:                      53.152   Cond. No.                     1.19e+05\n",
       "==============================================================================\n",
       "\n",
       "Warnings:\n",
       "[1] Standard Errors assume that the covariance matrix of the errors is correctly specified.\n",
       "[2] The condition number is large, 1.19e+05. This might indicate that there are\n",
       "strong multicollinearity or other numerical problems.\n",
       "\"\"\""
      ]
     },
     "execution_count": 41,
     "metadata": {},
     "output_type": "execute_result"
    }
   ],
   "source": [
    "im.params\n",
    "im.pvalues\n",
    "im.rsquared\n",
    "im.summary()"
   ]
  },
  {
   "cell_type": "code",
   "execution_count": 11,
   "metadata": {},
   "outputs": [
    {
     "data": {
      "image/png": "[encoded data removed]",
      "text/plain": [
       "<Figure size 432x288 with 1 Axes>"
      ]
     },
     "metadata": {
      "needs_background": "light"
     },
     "output_type": "display_data"
    },
    {
     "data": {
      "image/png": "[encoded data removed]",
      "text/plain": [
       "<Figure size 432x288 with 1 Axes>"
      ]
     },
     "metadata": {
      "needs_background": "light"
     },
     "output_type": "display_data"
    },
    {
     "data": {
      "image/png": "[encoded data removed]",
      "text/plain": [
       "<Figure size 432x288 with 1 Axes>"
      ]
     },
     "metadata": {
      "needs_background": "light"
     },
     "output_type": "display_data"
    }
   ],
   "source": [
    "plt.scatter(etfsort.fund_yield, etfsort.ytd_return)\n",
    "plt.title(\"ETF: Fund Yield v.s. YTD Return\")\n",
    "plt.ylabel(\"YTD Return\")\n",
    "plt.xlabel(\"Fund Yield\")\n",
    "plt.show()\n",
    "\n",
    "plt.scatter(mfsort.fund_yield, mfsort.ytd_return)\n",
    "plt.title('Mutual Fund: Fund Yield v.s. YTD Return')\n",
    "plt.ylabel('YTD Return')\n",
    "plt.xlabel('Fund Yield')\n",
    "plt.show()\n",
    "\n",
    "plt.scatter(etfsort.ytd_return, etfsort.fund_treynor_ratio_10years)\n",
    "plt.title('ETF: Fund Yield v.s. Treynor Ratio(10YRS)')\n",
    "plt.ylabel('YTD Return')\n",
    "plt.xlabel('Treynor Ratio(10YRS)')\n",
    "plt.show()\n"
   ]
  },
  {
   "cell_type": "markdown",
   "metadata": {},
   "source": [
    "---"
   ]
  },
  {
   "cell_type": "markdown",
   "metadata": {},
   "source": [
    "Building the Model (I am not understanding why I had to scale it, if I did not scale it, I ran into issues)"
   ]
  },
  {
   "cell_type": "code",
   "execution_count": 19,
   "metadata": {},
   "outputs": [
    {
     "name": "stdout",
     "output_type": "stream",
     "text": [
      "\n",
      "Coefficients: \n",
      " [ 8.82137507e-02  6.76836084e-01  4.05497946e-02 -1.15935182e-05]\n",
      "\n",
      "Intercept: \n",
      " 21.19360150495818\n",
      "\n",
      "R-squared \n",
      ": 0.003956277338847847\n"
     ]
    }
   ],
   "source": [
    "regr = linear_model.LinearRegression()\n",
    "Y = etfsort['ytd_return']\n",
    "X = etfsort[['fund_yield','fund_sharpe_ratio_10years','fund_treynor_ratio_10years','net_assets']]\n",
    "regr.fit(X, Y)\n",
    "\n",
    "# Review results\n",
    "print('\\nCoefficients: \\n', regr.coef_)\n",
    "print('\\nIntercept: \\n', regr.intercept_)\n",
    "print('\\nR-squared \\n:', regr.score(X, Y))"
   ]
  },
  {
   "cell_type": "code",
   "execution_count": 18,
   "metadata": {},
   "outputs": [
    {
     "data": {
      "image/png": "[encoded data removed]",
      "text/plain": [
       "<Figure size 432x288 with 1 Axes>"
      ]
     },
     "metadata": {
      "needs_background": "light"
     },
     "output_type": "display_data"
    }
   ],
   "source": [
    "#multivariate normality\n",
    "predicted = regr.predict(X).ravel()\n",
    "actual = etfsort['ytd_return']\n",
    "residual = actual - predicted\n",
    "\n",
    "plt.hist(residual)\n",
    "plt.title('Residual counts')\n",
    "plt.xlabel('Residual')\n",
    "plt.ylabel('Count')\n",
    "plt.show()"
   ]
  },
  {
   "cell_type": "code",
   "execution_count": 33,
   "metadata": {},
   "outputs": [
    {
     "name": "stdout",
     "output_type": "stream",
     "text": [
      "\n",
      "Coefficients: \n",
      " [[ 0.0898424   0.67605064  0.04209954 -0.00674901]]\n",
      "\n",
      "Intercept: \n",
      " [21.76196012]\n",
      "\n",
      "R-squared:\n",
      "0.00358520163798548\n"
     ]
    },
    {
     "name": "stderr",
     "output_type": "stream",
     "text": [
      "C:\\Users\\liuth\\WPy-3670\\python-3.6.7.amd64\\lib\\site-packages\\ipykernel_launcher.py:7: SettingWithCopyWarning: \n",
      "A value is trying to be set on a copy of a slice from a DataFrame.\n",
      "Try using .loc[row_indexer,col_indexer] = value instead\n",
      "\n",
      "See the caveats in the documentation: http://pandas.pydata.org/pandas-docs/stable/indexing.html#indexing-view-versus-copy\n",
      "  import sys\n"
     ]
    }
   ],
   "source": [
    "#ADJUST FOR SKEWNESS\n",
    "regr = linear_model.LinearRegression()\n",
    "Y = etfsort['ytd_return'].values.reshape(-1, 1)\n",
    "X = etfsort[['fund_yield', 'fund_sharpe_ratio_10years','fund_treynor_ratio_10years','net_assets']]\n",
    "netasset_2 = [math.sqrt(x) for x in etfsort['net_assets']]\n",
    "X = etfsort[['fund_yield','fund_sharpe_ratio_10years', 'fund_treynor_ratio_10years']]\n",
    "X['netasset_2'] = netasset_2\n",
    "regr.fit(X, Y)\n",
    "\n",
    "# Inspect the results.\n",
    "print('\\nCoefficients: \\n', regr.coef_)\n",
    "print('\\nIntercept: \\n', regr.intercept_)\n",
    "print('\\nR-squared:')\n",
    "print(regr.score(X, Y))"
   ]
  },
  {
   "cell_type": "code",
   "execution_count": 34,
   "metadata": {},
   "outputs": [
    {
     "data": {
      "image/png": "[encoded data removed]",
      "text/plain": [
       "<Figure size 432x288 with 1 Axes>"
      ]
     },
     "metadata": {
      "needs_background": "light"
     },
     "output_type": "display_data"
    },
    {
     "data": {
      "image/png": "[encoded data removed]",
      "text/plain": [
       "<Figure size 432x288 with 1 Axes>"
      ]
     },
     "metadata": {
      "needs_background": "light"
     },
     "output_type": "display_data"
    }
   ],
   "source": [
    "predicted = regr.predict(X).ravel()\n",
    "actual = etfsort['ytd_return']\n",
    "\n",
    "residual = actual - predicted\n",
    "\n",
    "plt.hist(residual)\n",
    "plt.title('Residual counts')\n",
    "plt.xlabel('Residual')\n",
    "plt.ylabel('Count')\n",
    "plt.show()\n",
    "\n",
    "plt.scatter(predicted, residual)\n",
    "plt.xlabel('Predicted')\n",
    "plt.ylabel('Residual')\n",
    "plt.axhline(y=0)\n",
    "axes = plt.gca()\n",
    "plt.title('Residual vs. Predicted')\n",
    "plt.show()"
   ]
  },
  {
   "cell_type": "code",
   "execution_count": 35,
   "metadata": {},
   "outputs": [
    {
     "data": {
      "image/png": "[encoded data removed]",
      "text/plain": [
       "<Figure size 432x288 with 1 Axes>"
      ]
     },
     "metadata": {
      "needs_background": "light"
     },
     "output_type": "display_data"
    }
   ],
   "source": [
    "#Homoscedasticity\n",
    "plt.scatter(predicted, residual)\n",
    "plt.xlabel('Predicted')\n",
    "plt.ylabel('Residual')\n",
    "plt.axhline(y=0)\n",
    "plt.title('Residual vs. Predicted')\n",
    "plt.show()"
   ]
  },
  {
   "cell_type": "code",
   "execution_count": 36,
   "metadata": {},
   "outputs": [
    {
     "data": {
      "text/html": [
       "<div>\n",
       "<style scoped>\n",
       "    .dataframe tbody tr th:only-of-type {\n",
       "        vertical-align: middle;\n",
       "    }\n",
       "\n",
       "    .dataframe tbody tr th {\n",
       "        vertical-align: top;\n",
       "    }\n",
       "\n",
       "    .dataframe thead th {\n",
       "        text-align: right;\n",
       "    }\n",
       "</style>\n",
       "<table border=\"1\" class=\"dataframe\">\n",
       "  <thead>\n",
       "    <tr style=\"text-align: right;\">\n",
       "      <th></th>\n",
       "      <th>fund_yield</th>\n",
       "      <th>fund_sharpe_ratio_10years</th>\n",
       "      <th>fund_treynor_ratio_10years</th>\n",
       "      <th>netasset_2</th>\n",
       "    </tr>\n",
       "  </thead>\n",
       "  <tbody>\n",
       "    <tr>\n",
       "      <th>fund_yield</th>\n",
       "      <td>1.000000</td>\n",
       "      <td>0.007810</td>\n",
       "      <td>0.014953</td>\n",
       "      <td>0.020631</td>\n",
       "    </tr>\n",
       "    <tr>\n",
       "      <th>fund_sharpe_ratio_10years</th>\n",
       "      <td>0.007810</td>\n",
       "      <td>1.000000</td>\n",
       "      <td>0.184365</td>\n",
       "      <td>0.295111</td>\n",
       "    </tr>\n",
       "    <tr>\n",
       "      <th>fund_treynor_ratio_10years</th>\n",
       "      <td>0.014953</td>\n",
       "      <td>0.184365</td>\n",
       "      <td>1.000000</td>\n",
       "      <td>0.153210</td>\n",
       "    </tr>\n",
       "    <tr>\n",
       "      <th>netasset_2</th>\n",
       "      <td>0.020631</td>\n",
       "      <td>0.295111</td>\n",
       "      <td>0.153210</td>\n",
       "      <td>1.000000</td>\n",
       "    </tr>\n",
       "  </tbody>\n",
       "</table>\n",
       "</div>"
      ],
      "text/plain": [
       "                            fund_yield  fund_sharpe_ratio_10years  \\\n",
       "fund_yield                    1.000000                   0.007810   \n",
       "fund_sharpe_ratio_10years     0.007810                   1.000000   \n",
       "fund_treynor_ratio_10years    0.014953                   0.184365   \n",
       "netasset_2                    0.020631                   0.295111   \n",
       "\n",
       "                            fund_treynor_ratio_10years  netasset_2  \n",
       "fund_yield                                    0.014953    0.020631  \n",
       "fund_sharpe_ratio_10years                     0.184365    0.295111  \n",
       "fund_treynor_ratio_10years                    1.000000    0.153210  \n",
       "netasset_2                                    0.153210    1.000000  "
      ]
     },
     "execution_count": 36,
     "metadata": {},
     "output_type": "execute_result"
    }
   ],
   "source": [
    "correlation_matrix = X.corr()\n",
    "correlation_matrix"
   ]
  },
  {
   "cell_type": "markdown",
   "metadata": {},
   "source": [
    "---"
   ]
  },
  {
   "cell_type": "markdown",
   "metadata": {},
   "source": [
    "Accuracy Test for the OLS Model"
   ]
  },
  {
   "cell_type": "code",
   "execution_count": 42,
   "metadata": {},
   "outputs": [
    {
     "name": "stdout",
     "output_type": "stream",
     "text": [
      "Accuracy: -0.04 (+/- 0.12)\n"
     ]
    }
   ],
   "source": [
    "score = cross_val_score(regr, X, Y, cv=5)\n",
    "print(\"Accuracy: %0.2f (+/- %0.2f)\" % (score.mean(), score.std() * 2))"
   ]
  },
  {
   "cell_type": "markdown",
   "metadata": {},
   "source": [
    "---"
   ]
  },
  {
   "cell_type": "markdown",
   "metadata": {},
   "source": [
    "KNN Modeling"
   ]
  },
  {
   "cell_type": "code",
   "execution_count": 59,
   "metadata": {},
   "outputs": [],
   "source": [
    "etfint = etfsort['ytd_return'].astype(int)"
   ]
  },
  {
   "cell_type": "code",
   "execution_count": 66,
   "metadata": {},
   "outputs": [
    {
     "data": {
      "text/plain": [
       "KNeighborsClassifier(algorithm='auto', leaf_size=30, metric='minkowski',\n",
       "           metric_params=None, n_jobs=None, n_neighbors=5, p=2,\n",
       "           weights='distance')"
      ]
     },
     "execution_count": 66,
     "metadata": {},
     "output_type": "execute_result"
    }
   ],
   "source": [
    "neighbors = KNeighborsClassifier(n_neighbors=5, weights='distance')\n",
    "\n",
    "X = etfsort[['fund_sharpe_ratio_10years','fund_treynor_ratio_10years','net_assets']]\n",
    "Y = etfint\n",
    "\n",
    "neighbors.fit(X,Y)"
   ]
  },
  {
   "cell_type": "code",
   "execution_count": 75,
   "metadata": {},
   "outputs": [
    {
     "name": "stdout",
     "output_type": "stream",
     "text": [
      "Accuracy: 0.02 (+/- 0.04)\n"
     ]
    },
    {
     "name": "stderr",
     "output_type": "stream",
     "text": [
      "C:\\Users\\liuth\\WPy-3670\\python-3.6.7.amd64\\lib\\site-packages\\sklearn\\model_selection\\_split.py:626: Warning: The least populated class in y has only 1 members, which is too few. The minimum number of members in any class cannot be less than n_splits=5.\n",
      "  % (min_groups, self.n_splits)), Warning)\n"
     ]
    }
   ],
   "source": [
    "score = cross_val_score(neighbors, X, Y, cv=5)\n",
    "print(\"Accuracy: %0.2f (+/- %0.2f)\" % (score.mean(), score.std() * 2))"
   ]
  },
  {
   "cell_type": "markdown",
   "metadata": {},
   "source": [
    "---"
   ]
  },
  {
   "cell_type": "markdown",
   "metadata": {},
   "source": [
    "Explainations:\n",
    "The KNN model was accurate because there was more clumping than there were continuous trends.  Both models were however, grossly inaccurate.  Perhaps its due to the fact that none of these values correlated.  These indicators for the ETFs were greatly misleading and serve no purpose.  Perhaps this is due to Yahoo's way of calculating the sharpe ratio and treynor ratio and in turn was compared to daily calculations.  This was an inconclusive study and needs further exploration."
   ]
  }
 ],
 "metadata": {
  "kernelspec": {
   "display_name": "Python 3",
   "language": "python",
   "name": "python3"
  },
  "language_info": {
   "codemirror_mode": {
    "name": "ipython",
    "version": 3
   },
   "file_extension": ".py",
   "mimetype": "text/x-python",
   "name": "python",
   "nbconvert_exporter": "python",
   "pygments_lexer": "ipython3",
   "version": "3.7.3"
  }
 },
 "nbformat": 4,
 "nbformat_minor": 2
}
