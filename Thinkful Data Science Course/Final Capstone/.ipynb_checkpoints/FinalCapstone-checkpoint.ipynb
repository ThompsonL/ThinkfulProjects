{
 "cells": [
  {
   "cell_type": "code",
   "execution_count": 2,
   "metadata": {},
   "outputs": [],
   "source": [
    "import numpy as np\n",
    "import pandas as pd\n",
    "import scipy\n",
    "from datetime import datetime\n",
    "import datetime as dt\n",
    "import matplotlib.pyplot as plt\n",
    "import os\n",
    "import warnings\n",
    "import scipy as sc\n",
    "import scipy.stats as scs\n",
    "from sklearn.metrics import mean_squared_error\n",
    "from math import sqrt\n",
    "from sklearn.model_selection import train_test_split\n",
    "import itertools\n",
    "import math\n",
    "from datetime import timedelta\n",
    "from sklearn import linear_model\n",
    "from statsmodels.tsa.arima_model import ARIMA\n",
    "from pmdarima.arima import auto_arima\n",
    "from statsmodels.tsa.stattools import adfuller\n",
    "import statsmodels.api as sm\n",
    "from statsmodels.tsa.statespace import sarimax\n",
    "warnings.filterwarnings(\"ignore\")\n",
    "%matplotlib inline"
   ]
  },
  {
   "cell_type": "code",
   "execution_count": 3,
   "metadata": {},
   "outputs": [],
   "source": [
    "os.chdir('C:\\\\Users\\\\liuth\\Documents\\\\Python Scripts\\\\ThinkfulProjects\\Data')\n",
    "df = pd.read_csv('spx.csv', encoding='latin1')"
   ]
  },
  {
   "cell_type": "markdown",
   "metadata": {},
   "source": [
    "---"
   ]
  },
  {
   "cell_type": "markdown",
   "metadata": {},
   "source": [
    "Data Exploration"
   ]
  },
  {
   "cell_type": "code",
   "execution_count": 4,
   "metadata": {},
   "outputs": [
    {
     "data": {
      "text/html": [
       "<div>\n",
       "<style scoped>\n",
       "    .dataframe tbody tr th:only-of-type {\n",
       "        vertical-align: middle;\n",
       "    }\n",
       "\n",
       "    .dataframe tbody tr th {\n",
       "        vertical-align: top;\n",
       "    }\n",
       "\n",
       "    .dataframe thead th {\n",
       "        text-align: right;\n",
       "    }\n",
       "</style>\n",
       "<table border=\"1\" class=\"dataframe\">\n",
       "  <thead>\n",
       "    <tr style=\"text-align: right;\">\n",
       "      <th></th>\n",
       "      <th>date</th>\n",
       "      <th>close</th>\n",
       "    </tr>\n",
       "  </thead>\n",
       "  <tbody>\n",
       "    <tr>\n",
       "      <th>0</th>\n",
       "      <td>1986-01-02</td>\n",
       "      <td>209.59</td>\n",
       "    </tr>\n",
       "    <tr>\n",
       "      <th>1</th>\n",
       "      <td>1986-01-03</td>\n",
       "      <td>210.88</td>\n",
       "    </tr>\n",
       "    <tr>\n",
       "      <th>2</th>\n",
       "      <td>1986-01-06</td>\n",
       "      <td>210.65</td>\n",
       "    </tr>\n",
       "    <tr>\n",
       "      <th>3</th>\n",
       "      <td>1986-01-07</td>\n",
       "      <td>213.80</td>\n",
       "    </tr>\n",
       "    <tr>\n",
       "      <th>4</th>\n",
       "      <td>1986-01-08</td>\n",
       "      <td>207.97</td>\n",
       "    </tr>\n",
       "  </tbody>\n",
       "</table>\n",
       "</div>"
      ],
      "text/plain": [
       "         date   close\n",
       "0  1986-01-02  209.59\n",
       "1  1986-01-03  210.88\n",
       "2  1986-01-06  210.65\n",
       "3  1986-01-07  213.80\n",
       "4  1986-01-08  207.97"
      ]
     },
     "execution_count": 4,
     "metadata": {},
     "output_type": "execute_result"
    }
   ],
   "source": [
    "df.head(5)"
   ]
  },
  {
   "cell_type": "code",
   "execution_count": 5,
   "metadata": {},
   "outputs": [
    {
     "data": {
      "text/plain": [
       "(1.1647795747723673,\n",
       " 0.9957332769254442,\n",
       " 34,\n",
       " 8157,\n",
       " {'1%': -3.4311519319674186,\n",
       "  '5%': -2.861894397408993,\n",
       "  '10%': -2.566958640966875},\n",
       " 64197.209768103145)"
      ]
     },
     "execution_count": 5,
     "metadata": {},
     "output_type": "execute_result"
    }
   ],
   "source": [
    "#Checking for stationary value\n",
    "adfuller(df['close'])"
   ]
  },
  {
   "cell_type": "markdown",
   "metadata": {},
   "source": [
    "First is the T-statistic\n",
    "Second is the P-Value"
   ]
  },
  {
   "cell_type": "markdown",
   "metadata": {},
   "source": [
    "---"
   ]
  },
  {
   "cell_type": "markdown",
   "metadata": {},
   "source": [
    "Perhaps run CAPM by using a 2 year close data for a specific company... linear regression"
   ]
  },
  {
   "cell_type": "code",
   "execution_count": 6,
   "metadata": {},
   "outputs": [
    {
     "data": {
      "image/png": "[encoded data removed]",
      "text/plain": [
       "<Figure size 432x288 with 1 Axes>"
      ]
     },
     "metadata": {
      "needs_background": "light"
     },
     "output_type": "display_data"
    }
   ],
   "source": [
    "df['diff_1'] = df.close - df.close.shift() #yt-yt-1 \n",
    "df.plot(y='diff_1')\n",
    "plt.title('S&P 500 Time Series')\n",
    "plt.show()"
   ]
  },
  {
   "cell_type": "markdown",
   "metadata": {},
   "source": [
    "---"
   ]
  },
  {
   "cell_type": "markdown",
   "metadata": {},
   "source": [
    "Preparing to utilize ARIMA Model"
   ]
  },
  {
   "cell_type": "code",
   "execution_count": 7,
   "metadata": {},
   "outputs": [],
   "source": [
    "df['price'] = pd.to_numeric(df.close, errors='coerce')"
   ]
  },
  {
   "cell_type": "code",
   "execution_count": 8,
   "metadata": {},
   "outputs": [
    {
     "data": {
      "text/html": [
       "<div>\n",
       "<style scoped>\n",
       "    .dataframe tbody tr th:only-of-type {\n",
       "        vertical-align: middle;\n",
       "    }\n",
       "\n",
       "    .dataframe tbody tr th {\n",
       "        vertical-align: top;\n",
       "    }\n",
       "\n",
       "    .dataframe thead th {\n",
       "        text-align: right;\n",
       "    }\n",
       "</style>\n",
       "<table border=\"1\" class=\"dataframe\">\n",
       "  <thead>\n",
       "    <tr style=\"text-align: right;\">\n",
       "      <th></th>\n",
       "      <th>date</th>\n",
       "      <th>close</th>\n",
       "      <th>diff_1</th>\n",
       "      <th>price</th>\n",
       "    </tr>\n",
       "  </thead>\n",
       "  <tbody>\n",
       "    <tr>\n",
       "      <th>0</th>\n",
       "      <td>1986-01-02</td>\n",
       "      <td>209.59</td>\n",
       "      <td>NaN</td>\n",
       "      <td>209.59</td>\n",
       "    </tr>\n",
       "    <tr>\n",
       "      <th>1</th>\n",
       "      <td>1986-01-03</td>\n",
       "      <td>210.88</td>\n",
       "      <td>1.29</td>\n",
       "      <td>210.88</td>\n",
       "    </tr>\n",
       "    <tr>\n",
       "      <th>2</th>\n",
       "      <td>1986-01-06</td>\n",
       "      <td>210.65</td>\n",
       "      <td>-0.23</td>\n",
       "      <td>210.65</td>\n",
       "    </tr>\n",
       "    <tr>\n",
       "      <th>3</th>\n",
       "      <td>1986-01-07</td>\n",
       "      <td>213.80</td>\n",
       "      <td>3.15</td>\n",
       "      <td>213.80</td>\n",
       "    </tr>\n",
       "    <tr>\n",
       "      <th>4</th>\n",
       "      <td>1986-01-08</td>\n",
       "      <td>207.97</td>\n",
       "      <td>-5.83</td>\n",
       "      <td>207.97</td>\n",
       "    </tr>\n",
       "  </tbody>\n",
       "</table>\n",
       "</div>"
      ],
      "text/plain": [
       "         date   close  diff_1   price\n",
       "0  1986-01-02  209.59     NaN  209.59\n",
       "1  1986-01-03  210.88    1.29  210.88\n",
       "2  1986-01-06  210.65   -0.23  210.65\n",
       "3  1986-01-07  213.80    3.15  213.80\n",
       "4  1986-01-08  207.97   -5.83  207.97"
      ]
     },
     "execution_count": 8,
     "metadata": {},
     "output_type": "execute_result"
    }
   ],
   "source": [
    "df.head(5)"
   ]
  },
  {
   "cell_type": "code",
   "execution_count": 9,
   "metadata": {},
   "outputs": [],
   "source": [
    "df = df.drop(['close', 'diff_1'], axis = 1)"
   ]
  },
  {
   "cell_type": "code",
   "execution_count": 10,
   "metadata": {},
   "outputs": [
    {
     "data": {
      "image/png": "[encoded data removed]",
      "text/plain": [
       "<Figure size 432x288 with 1 Axes>"
      ]
     },
     "metadata": {
      "needs_background": "light"
     },
     "output_type": "display_data"
    }
   ],
   "source": [
    "df.index = pd.to_datetime(df.date) #changing date into an index\n",
    "#The reason you change the date into an index, the model is asking to submit one column\n",
    "df.plot()\n",
    "plt.title('S&P 500 Time Series')\n",
    "plt.show()"
   ]
  },
  {
   "cell_type": "markdown",
   "metadata": {},
   "source": [
    "---"
   ]
  },
  {
   "cell_type": "markdown",
   "metadata": {},
   "source": [
    "Converting DTG"
   ]
  },
  {
   "cell_type": "code",
   "execution_count": 11,
   "metadata": {},
   "outputs": [],
   "source": [
    "df.Timestamp = pd.to_datetime(df['date'], format='%Y/%m/%d')\n",
    "df.index = df.Timestamp\n",
    "df = df.sort_index(ascending=True)"
   ]
  },
  {
   "cell_type": "markdown",
   "metadata": {},
   "source": [
    "---"
   ]
  },
  {
   "cell_type": "markdown",
   "metadata": {},
   "source": [
    "Identify autocorrelation functions and the lag associated with it"
   ]
  },
  {
   "cell_type": "code",
   "execution_count": 12,
   "metadata": {},
   "outputs": [
    {
     "data": {
      "text/plain": [
       "Text(0.5, 1.0, 'S&P 500 PACF')"
      ]
     },
     "execution_count": 12,
     "metadata": {},
     "output_type": "execute_result"
    },
    {
     "data": {
      "image/png": "[encoded data removed]",
      "text/plain": [
       "<Figure size 432x288 with 1 Axes>"
      ]
     },
     "metadata": {
      "needs_background": "light"
     },
     "output_type": "display_data"
    }
   ],
   "source": [
    "from statsmodels.tsa.stattools import pacf\n",
    "x_acf = pd.DataFrame(pacf(df.price))\n",
    "x_acf.plot(kind='bar')\n",
    "plt.title(\"S&P 500 PACF\")"
   ]
  },
  {
   "cell_type": "markdown",
   "metadata": {},
   "source": [
    "It looks like there are some correlation features within the partial correlation between the 1st series and the second series.  The first lag is fine for the p value (pdq)"
   ]
  },
  {
   "cell_type": "markdown",
   "metadata": {},
   "source": [
    "---"
   ]
  },
  {
   "cell_type": "code",
   "execution_count": 13,
   "metadata": {},
   "outputs": [],
   "source": [
    "df.drop(['date'], axis = 1 , inplace = True)"
   ]
  },
  {
   "cell_type": "code",
   "execution_count": 14,
   "metadata": {},
   "outputs": [
    {
     "data": {
      "text/html": [
       "<div>\n",
       "<style scoped>\n",
       "    .dataframe tbody tr th:only-of-type {\n",
       "        vertical-align: middle;\n",
       "    }\n",
       "\n",
       "    .dataframe tbody tr th {\n",
       "        vertical-align: top;\n",
       "    }\n",
       "\n",
       "    .dataframe thead th {\n",
       "        text-align: right;\n",
       "    }\n",
       "</style>\n",
       "<table border=\"1\" class=\"dataframe\">\n",
       "  <thead>\n",
       "    <tr style=\"text-align: right;\">\n",
       "      <th></th>\n",
       "      <th>price</th>\n",
       "    </tr>\n",
       "    <tr>\n",
       "      <th>date</th>\n",
       "      <th></th>\n",
       "    </tr>\n",
       "  </thead>\n",
       "  <tbody>\n",
       "    <tr>\n",
       "      <th>1986-01-02</th>\n",
       "      <td>209.59</td>\n",
       "    </tr>\n",
       "    <tr>\n",
       "      <th>1986-01-03</th>\n",
       "      <td>210.88</td>\n",
       "    </tr>\n",
       "    <tr>\n",
       "      <th>1986-01-06</th>\n",
       "      <td>210.65</td>\n",
       "    </tr>\n",
       "    <tr>\n",
       "      <th>1986-01-07</th>\n",
       "      <td>213.80</td>\n",
       "    </tr>\n",
       "    <tr>\n",
       "      <th>1986-01-08</th>\n",
       "      <td>207.97</td>\n",
       "    </tr>\n",
       "  </tbody>\n",
       "</table>\n",
       "</div>"
      ],
      "text/plain": [
       "             price\n",
       "date              \n",
       "1986-01-02  209.59\n",
       "1986-01-03  210.88\n",
       "1986-01-06  210.65\n",
       "1986-01-07  213.80\n",
       "1986-01-08  207.97"
      ]
     },
     "execution_count": 14,
     "metadata": {},
     "output_type": "execute_result"
    }
   ],
   "source": [
    "df.head(5)"
   ]
  },
  {
   "cell_type": "markdown",
   "metadata": {},
   "source": [
    "---"
   ]
  },
  {
   "cell_type": "markdown",
   "metadata": {},
   "source": [
    "Finding the best model for prediciton and forecast"
   ]
  },
  {
   "cell_type": "code",
   "execution_count": 15,
   "metadata": {},
   "outputs": [],
   "source": [
    "yt = df\n",
    "split = int(yt.shape[0]*0.7)\n",
    "yt = df['price']\n",
    "y_truth = yt[split:]"
   ]
  },
  {
   "cell_type": "code",
   "execution_count": 16,
   "metadata": {},
   "outputs": [
    {
     "data": {
      "text/html": [
       "<table class=\"simpletable\">\n",
       "<caption>ARIMA Model Results</caption>\n",
       "<tr>\n",
       "  <th>Dep. Variable:</th>        <td>D.y</td>       <th>  No. Observations:  </th>    <td>8191</td>   \n",
       "</tr>\n",
       "<tr>\n",
       "  <th>Model:</th>          <td>ARIMA(2, 1, 2)</td>  <th>  Log Likelihood     </th> <td>-32242.302</td>\n",
       "</tr>\n",
       "<tr>\n",
       "  <th>Method:</th>             <td>css-mle</td>     <th>  S.D. of innovations</th>   <td>12.396</td>  \n",
       "</tr>\n",
       "<tr>\n",
       "  <th>Date:</th>          <td>Thu, 05 Sep 2019</td> <th>  AIC                </th>  <td>64496.605</td>\n",
       "</tr>\n",
       "<tr>\n",
       "  <th>Time:</th>              <td>04:59:14</td>     <th>  BIC                </th>  <td>64538.669</td>\n",
       "</tr>\n",
       "<tr>\n",
       "  <th>Sample:</th>                <td>1</td>        <th>  HQIC               </th>  <td>64510.986</td>\n",
       "</tr>\n",
       "<tr>\n",
       "  <th></th>                       <td> </td>        <th>                     </th>      <td> </td>    \n",
       "</tr>\n",
       "</table>\n",
       "<table class=\"simpletable\">\n",
       "<tr>\n",
       "      <td></td>         <th>coef</th>     <th>std err</th>      <th>z</th>      <th>P>|z|</th>  <th>[0.025</th>    <th>0.975]</th>  \n",
       "</tr>\n",
       "<tr>\n",
       "  <th>const</th>     <td>    0.3065</td> <td>    0.113</td> <td>    2.707</td> <td> 0.007</td> <td>    0.085</td> <td>    0.528</td>\n",
       "</tr>\n",
       "<tr>\n",
       "  <th>ar.L1.D.y</th> <td>    0.1045</td> <td>    0.279</td> <td>    0.375</td> <td> 0.708</td> <td>   -0.442</td> <td>    0.651</td>\n",
       "</tr>\n",
       "<tr>\n",
       "  <th>ar.L2.D.y</th> <td>    0.3756</td> <td>    0.205</td> <td>    1.833</td> <td> 0.067</td> <td>   -0.026</td> <td>    0.777</td>\n",
       "</tr>\n",
       "<tr>\n",
       "  <th>ma.L1.D.y</th> <td>   -0.1557</td> <td>    0.277</td> <td>   -0.562</td> <td> 0.574</td> <td>   -0.699</td> <td>    0.387</td>\n",
       "</tr>\n",
       "<tr>\n",
       "  <th>ma.L2.D.y</th> <td>   -0.4146</td> <td>    0.215</td> <td>   -1.932</td> <td> 0.053</td> <td>   -0.835</td> <td>    0.006</td>\n",
       "</tr>\n",
       "</table>\n",
       "<table class=\"simpletable\">\n",
       "<caption>Roots</caption>\n",
       "<tr>\n",
       "    <td></td>   <th>            Real</th>  <th>         Imaginary</th> <th>         Modulus</th>  <th>        Frequency</th>\n",
       "</tr>\n",
       "<tr>\n",
       "  <th>AR.1</th> <td>           1.4984</td> <td>          +0.0000j</td> <td>           1.4984</td> <td>           0.0000</td>\n",
       "</tr>\n",
       "<tr>\n",
       "  <th>AR.2</th> <td>          -1.7767</td> <td>          +0.0000j</td> <td>           1.7767</td> <td>           0.5000</td>\n",
       "</tr>\n",
       "<tr>\n",
       "  <th>MA.1</th> <td>           1.3767</td> <td>          +0.0000j</td> <td>           1.3767</td> <td>           0.0000</td>\n",
       "</tr>\n",
       "<tr>\n",
       "  <th>MA.2</th> <td>          -1.7522</td> <td>          +0.0000j</td> <td>           1.7522</td> <td>           0.5000</td>\n",
       "</tr>\n",
       "</table>"
      ],
      "text/plain": [
       "<class 'statsmodels.iolib.summary.Summary'>\n",
       "\"\"\"\n",
       "                             ARIMA Model Results                              \n",
       "==============================================================================\n",
       "Dep. Variable:                    D.y   No. Observations:                 8191\n",
       "Model:                 ARIMA(2, 1, 2)   Log Likelihood              -32242.302\n",
       "Method:                       css-mle   S.D. of innovations             12.396\n",
       "Date:                Thu, 05 Sep 2019   AIC                          64496.605\n",
       "Time:                        04:59:14   BIC                          64538.669\n",
       "Sample:                             1   HQIC                         64510.986\n",
       "                                                                              \n",
       "==============================================================================\n",
       "                 coef    std err          z      P>|z|      [0.025      0.975]\n",
       "------------------------------------------------------------------------------\n",
       "const          0.3065      0.113      2.707      0.007       0.085       0.528\n",
       "ar.L1.D.y      0.1045      0.279      0.375      0.708      -0.442       0.651\n",
       "ar.L2.D.y      0.3756      0.205      1.833      0.067      -0.026       0.777\n",
       "ma.L1.D.y     -0.1557      0.277     -0.562      0.574      -0.699       0.387\n",
       "ma.L2.D.y     -0.4146      0.215     -1.932      0.053      -0.835       0.006\n",
       "                                    Roots                                    \n",
       "=============================================================================\n",
       "                  Real          Imaginary           Modulus         Frequency\n",
       "-----------------------------------------------------------------------------\n",
       "AR.1            1.4984           +0.0000j            1.4984            0.0000\n",
       "AR.2           -1.7767           +0.0000j            1.7767            0.5000\n",
       "MA.1            1.3767           +0.0000j            1.3767            0.0000\n",
       "MA.2           -1.7522           +0.0000j            1.7522            0.5000\n",
       "-----------------------------------------------------------------------------\n",
       "\"\"\""
      ]
     },
     "execution_count": 16,
     "metadata": {},
     "output_type": "execute_result"
    }
   ],
   "source": [
    "mod = ARIMA(yt.values, order=(2,1,2))\n",
    "results = mod.fit(disp=0)\n",
    "results.summary()"
   ]
  },
  {
   "cell_type": "code",
   "execution_count": 17,
   "metadata": {},
   "outputs": [
    {
     "data": {
      "text/html": [
       "<table class=\"simpletable\">\n",
       "<caption>ARIMA Model Results</caption>\n",
       "<tr>\n",
       "  <th>Dep. Variable:</th>        <td>D.y</td>       <th>  No. Observations:  </th>    <td>8191</td>   \n",
       "</tr>\n",
       "<tr>\n",
       "  <th>Model:</th>          <td>ARIMA(4, 1, 3)</td>  <th>  Log Likelihood     </th> <td>-32227.080</td>\n",
       "</tr>\n",
       "<tr>\n",
       "  <th>Method:</th>             <td>css-mle</td>     <th>  S.D. of innovations</th>   <td>12.373</td>  \n",
       "</tr>\n",
       "<tr>\n",
       "  <th>Date:</th>          <td>Thu, 05 Sep 2019</td> <th>  AIC                </th>  <td>64472.160</td>\n",
       "</tr>\n",
       "<tr>\n",
       "  <th>Time:</th>              <td>04:59:23</td>     <th>  BIC                </th>  <td>64535.257</td>\n",
       "</tr>\n",
       "<tr>\n",
       "  <th>Sample:</th>                <td>1</td>        <th>  HQIC               </th>  <td>64493.731</td>\n",
       "</tr>\n",
       "<tr>\n",
       "  <th></th>                       <td> </td>        <th>                     </th>      <td> </td>    \n",
       "</tr>\n",
       "</table>\n",
       "<table class=\"simpletable\">\n",
       "<tr>\n",
       "      <td></td>         <th>coef</th>     <th>std err</th>      <th>z</th>      <th>P>|z|</th>  <th>[0.025</th>    <th>0.975]</th>  \n",
       "</tr>\n",
       "<tr>\n",
       "  <th>const</th>     <td>    0.3066</td> <td>    0.111</td> <td>    2.772</td> <td> 0.006</td> <td>    0.090</td> <td>    0.523</td>\n",
       "</tr>\n",
       "<tr>\n",
       "  <th>ar.L1.D.y</th> <td>    0.0330</td> <td>    0.073</td> <td>    0.451</td> <td> 0.652</td> <td>   -0.110</td> <td>    0.176</td>\n",
       "</tr>\n",
       "<tr>\n",
       "  <th>ar.L2.D.y</th> <td>   -0.3746</td> <td>    0.063</td> <td>   -5.969</td> <td> 0.000</td> <td>   -0.498</td> <td>   -0.252</td>\n",
       "</tr>\n",
       "<tr>\n",
       "  <th>ar.L3.D.y</th> <td>    0.7520</td> <td>    0.072</td> <td>   10.388</td> <td> 0.000</td> <td>    0.610</td> <td>    0.894</td>\n",
       "</tr>\n",
       "<tr>\n",
       "  <th>ar.L4.D.y</th> <td>    0.0179</td> <td>    0.014</td> <td>    1.245</td> <td> 0.213</td> <td>   -0.010</td> <td>    0.046</td>\n",
       "</tr>\n",
       "<tr>\n",
       "  <th>ma.L1.D.y</th> <td>   -0.0895</td> <td>    0.072</td> <td>   -1.240</td> <td> 0.215</td> <td>   -0.231</td> <td>    0.052</td>\n",
       "</tr>\n",
       "<tr>\n",
       "  <th>ma.L2.D.y</th> <td>    0.3336</td> <td>    0.056</td> <td>    6.007</td> <td> 0.000</td> <td>    0.225</td> <td>    0.442</td>\n",
       "</tr>\n",
       "<tr>\n",
       "  <th>ma.L3.D.y</th> <td>   -0.7815</td> <td>    0.066</td> <td>  -11.864</td> <td> 0.000</td> <td>   -0.911</td> <td>   -0.652</td>\n",
       "</tr>\n",
       "</table>\n",
       "<table class=\"simpletable\">\n",
       "<caption>Roots</caption>\n",
       "<tr>\n",
       "    <td></td>   <th>            Real</th>  <th>         Imaginary</th> <th>         Modulus</th>  <th>        Frequency</th>\n",
       "</tr>\n",
       "<tr>\n",
       "  <th>AR.1</th> <td>          -0.3836</td> <td>          -0.9460j</td> <td>           1.0208</td> <td>          -0.3113</td>\n",
       "</tr>\n",
       "<tr>\n",
       "  <th>AR.2</th> <td>          -0.3836</td> <td>          +0.9460j</td> <td>           1.0208</td> <td>           0.3113</td>\n",
       "</tr>\n",
       "<tr>\n",
       "  <th>AR.3</th> <td>           1.2613</td> <td>          -0.0000j</td> <td>           1.2613</td> <td>          -0.0000</td>\n",
       "</tr>\n",
       "<tr>\n",
       "  <th>AR.4</th> <td>         -42.4238</td> <td>          -0.0000j</td> <td>          42.4238</td> <td>          -0.5000</td>\n",
       "</tr>\n",
       "<tr>\n",
       "  <th>MA.1</th> <td>          -0.3908</td> <td>          -0.9520j</td> <td>           1.0291</td> <td>          -0.3120</td>\n",
       "</tr>\n",
       "<tr>\n",
       "  <th>MA.2</th> <td>          -0.3908</td> <td>          +0.9520j</td> <td>           1.0291</td> <td>           0.3120</td>\n",
       "</tr>\n",
       "<tr>\n",
       "  <th>MA.3</th> <td>           1.2084</td> <td>          -0.0000j</td> <td>           1.2084</td> <td>          -0.0000</td>\n",
       "</tr>\n",
       "</table>"
      ],
      "text/plain": [
       "<class 'statsmodels.iolib.summary.Summary'>\n",
       "\"\"\"\n",
       "                             ARIMA Model Results                              \n",
       "==============================================================================\n",
       "Dep. Variable:                    D.y   No. Observations:                 8191\n",
       "Model:                 ARIMA(4, 1, 3)   Log Likelihood              -32227.080\n",
       "Method:                       css-mle   S.D. of innovations             12.373\n",
       "Date:                Thu, 05 Sep 2019   AIC                          64472.160\n",
       "Time:                        04:59:23   BIC                          64535.257\n",
       "Sample:                             1   HQIC                         64493.731\n",
       "                                                                              \n",
       "==============================================================================\n",
       "                 coef    std err          z      P>|z|      [0.025      0.975]\n",
       "------------------------------------------------------------------------------\n",
       "const          0.3066      0.111      2.772      0.006       0.090       0.523\n",
       "ar.L1.D.y      0.0330      0.073      0.451      0.652      -0.110       0.176\n",
       "ar.L2.D.y     -0.3746      0.063     -5.969      0.000      -0.498      -0.252\n",
       "ar.L3.D.y      0.7520      0.072     10.388      0.000       0.610       0.894\n",
       "ar.L4.D.y      0.0179      0.014      1.245      0.213      -0.010       0.046\n",
       "ma.L1.D.y     -0.0895      0.072     -1.240      0.215      -0.231       0.052\n",
       "ma.L2.D.y      0.3336      0.056      6.007      0.000       0.225       0.442\n",
       "ma.L3.D.y     -0.7815      0.066    -11.864      0.000      -0.911      -0.652\n",
       "                                    Roots                                    \n",
       "=============================================================================\n",
       "                  Real          Imaginary           Modulus         Frequency\n",
       "-----------------------------------------------------------------------------\n",
       "AR.1           -0.3836           -0.9460j            1.0208           -0.3113\n",
       "AR.2           -0.3836           +0.9460j            1.0208            0.3113\n",
       "AR.3            1.2613           -0.0000j            1.2613           -0.0000\n",
       "AR.4          -42.4238           -0.0000j           42.4238           -0.5000\n",
       "MA.1           -0.3908           -0.9520j            1.0291           -0.3120\n",
       "MA.2           -0.3908           +0.9520j            1.0291            0.3120\n",
       "MA.3            1.2084           -0.0000j            1.2084           -0.0000\n",
       "-----------------------------------------------------------------------------\n",
       "\"\"\""
      ]
     },
     "execution_count": 17,
     "metadata": {},
     "output_type": "execute_result"
    }
   ],
   "source": [
    "mod = ARIMA(yt.values, order=(4,1,3))\n",
    "results = mod.fit(disp=0)\n",
    "results.summary()"
   ]
  },
  {
   "cell_type": "code",
   "execution_count": 18,
   "metadata": {},
   "outputs": [
    {
     "data": {
      "text/html": [
       "<table class=\"simpletable\">\n",
       "<caption>ARIMA Model Results</caption>\n",
       "<tr>\n",
       "  <th>Dep. Variable:</th>        <td>D.y</td>       <th>  No. Observations:  </th>    <td>8191</td>   \n",
       "</tr>\n",
       "<tr>\n",
       "  <th>Model:</th>          <td>ARIMA(3, 1, 2)</td>  <th>  Log Likelihood     </th> <td>-32239.319</td>\n",
       "</tr>\n",
       "<tr>\n",
       "  <th>Method:</th>             <td>css-mle</td>     <th>  S.D. of innovations</th>   <td>12.391</td>  \n",
       "</tr>\n",
       "<tr>\n",
       "  <th>Date:</th>          <td>Thu, 05 Sep 2019</td> <th>  AIC                </th>  <td>64492.637</td>\n",
       "</tr>\n",
       "<tr>\n",
       "  <th>Time:</th>              <td>04:59:27</td>     <th>  BIC                </th>  <td>64541.713</td>\n",
       "</tr>\n",
       "<tr>\n",
       "  <th>Sample:</th>                <td>1</td>        <th>  HQIC               </th>  <td>64509.415</td>\n",
       "</tr>\n",
       "<tr>\n",
       "  <th></th>                       <td> </td>        <th>                     </th>      <td> </td>    \n",
       "</tr>\n",
       "</table>\n",
       "<table class=\"simpletable\">\n",
       "<tr>\n",
       "      <td></td>         <th>coef</th>     <th>std err</th>      <th>z</th>      <th>P>|z|</th>  <th>[0.025</th>    <th>0.975]</th>  \n",
       "</tr>\n",
       "<tr>\n",
       "  <th>const</th>     <td>    0.3067</td> <td>    0.110</td> <td>    2.790</td> <td> 0.005</td> <td>    0.091</td> <td>    0.522</td>\n",
       "</tr>\n",
       "<tr>\n",
       "  <th>ar.L1.D.y</th> <td>    0.5085</td> <td>    0.227</td> <td>    2.242</td> <td> 0.025</td> <td>    0.064</td> <td>    0.953</td>\n",
       "</tr>\n",
       "<tr>\n",
       "  <th>ar.L2.D.y</th> <td>    0.2369</td> <td>    0.160</td> <td>    1.480</td> <td> 0.139</td> <td>   -0.077</td> <td>    0.551</td>\n",
       "</tr>\n",
       "<tr>\n",
       "  <th>ar.L3.D.y</th> <td>    0.0345</td> <td>    0.014</td> <td>    2.445</td> <td> 0.015</td> <td>    0.007</td> <td>    0.062</td>\n",
       "</tr>\n",
       "<tr>\n",
       "  <th>ma.L1.D.y</th> <td>   -0.5662</td> <td>    0.227</td> <td>   -2.498</td> <td> 0.012</td> <td>   -1.010</td> <td>   -0.122</td>\n",
       "</tr>\n",
       "<tr>\n",
       "  <th>ma.L2.D.y</th> <td>   -0.2571</td> <td>    0.170</td> <td>   -1.512</td> <td> 0.131</td> <td>   -0.590</td> <td>    0.076</td>\n",
       "</tr>\n",
       "</table>\n",
       "<table class=\"simpletable\">\n",
       "<caption>Roots</caption>\n",
       "<tr>\n",
       "    <td></td>   <th>            Real</th>  <th>         Imaginary</th> <th>         Modulus</th>  <th>        Frequency</th>\n",
       "</tr>\n",
       "<tr>\n",
       "  <th>AR.1</th> <td>           1.1911</td> <td>          -0.0000j</td> <td>           1.1911</td> <td>          -0.0000</td>\n",
       "</tr>\n",
       "<tr>\n",
       "  <th>AR.2</th> <td>          -4.0317</td> <td>          -2.8461j</td> <td>           4.9351</td> <td>          -0.4022</td>\n",
       "</tr>\n",
       "<tr>\n",
       "  <th>AR.3</th> <td>          -4.0317</td> <td>          +2.8461j</td> <td>           4.9351</td> <td>           0.4022</td>\n",
       "</tr>\n",
       "<tr>\n",
       "  <th>MA.1</th> <td>           1.1577</td> <td>          +0.0000j</td> <td>           1.1577</td> <td>           0.0000</td>\n",
       "</tr>\n",
       "<tr>\n",
       "  <th>MA.2</th> <td>          -3.3602</td> <td>          +0.0000j</td> <td>           3.3602</td> <td>           0.5000</td>\n",
       "</tr>\n",
       "</table>"
      ],
      "text/plain": [
       "<class 'statsmodels.iolib.summary.Summary'>\n",
       "\"\"\"\n",
       "                             ARIMA Model Results                              \n",
       "==============================================================================\n",
       "Dep. Variable:                    D.y   No. Observations:                 8191\n",
       "Model:                 ARIMA(3, 1, 2)   Log Likelihood              -32239.319\n",
       "Method:                       css-mle   S.D. of innovations             12.391\n",
       "Date:                Thu, 05 Sep 2019   AIC                          64492.637\n",
       "Time:                        04:59:27   BIC                          64541.713\n",
       "Sample:                             1   HQIC                         64509.415\n",
       "                                                                              \n",
       "==============================================================================\n",
       "                 coef    std err          z      P>|z|      [0.025      0.975]\n",
       "------------------------------------------------------------------------------\n",
       "const          0.3067      0.110      2.790      0.005       0.091       0.522\n",
       "ar.L1.D.y      0.5085      0.227      2.242      0.025       0.064       0.953\n",
       "ar.L2.D.y      0.2369      0.160      1.480      0.139      -0.077       0.551\n",
       "ar.L3.D.y      0.0345      0.014      2.445      0.015       0.007       0.062\n",
       "ma.L1.D.y     -0.5662      0.227     -2.498      0.012      -1.010      -0.122\n",
       "ma.L2.D.y     -0.2571      0.170     -1.512      0.131      -0.590       0.076\n",
       "                                    Roots                                    \n",
       "=============================================================================\n",
       "                  Real          Imaginary           Modulus         Frequency\n",
       "-----------------------------------------------------------------------------\n",
       "AR.1            1.1911           -0.0000j            1.1911           -0.0000\n",
       "AR.2           -4.0317           -2.8461j            4.9351           -0.4022\n",
       "AR.3           -4.0317           +2.8461j            4.9351            0.4022\n",
       "MA.1            1.1577           +0.0000j            1.1577            0.0000\n",
       "MA.2           -3.3602           +0.0000j            3.3602            0.5000\n",
       "-----------------------------------------------------------------------------\n",
       "\"\"\""
      ]
     },
     "execution_count": 18,
     "metadata": {},
     "output_type": "execute_result"
    }
   ],
   "source": [
    "mod = ARIMA(yt.values, order=(3,1,2))\n",
    "results = mod.fit(disp=0)\n",
    "results.summary()"
   ]
  },
  {
   "cell_type": "code",
   "execution_count": 19,
   "metadata": {},
   "outputs": [
    {
     "data": {
      "text/html": [
       "<table class=\"simpletable\">\n",
       "<caption>ARIMA Model Results</caption>\n",
       "<tr>\n",
       "  <th>Dep. Variable:</th>        <td>D.y</td>       <th>  No. Observations:  </th>    <td>8191</td>   \n",
       "</tr>\n",
       "<tr>\n",
       "  <th>Model:</th>          <td>ARIMA(1, 1, 1)</td>  <th>  Log Likelihood     </th> <td>-32242.542</td>\n",
       "</tr>\n",
       "<tr>\n",
       "  <th>Method:</th>             <td>css-mle</td>     <th>  S.D. of innovations</th>   <td>12.396</td>  \n",
       "</tr>\n",
       "<tr>\n",
       "  <th>Date:</th>          <td>Thu, 05 Sep 2019</td> <th>  AIC                </th>  <td>64493.085</td>\n",
       "</tr>\n",
       "<tr>\n",
       "  <th>Time:</th>              <td>04:59:29</td>     <th>  BIC                </th>  <td>64521.128</td>\n",
       "</tr>\n",
       "<tr>\n",
       "  <th>Sample:</th>                <td>1</td>        <th>  HQIC               </th>  <td>64502.672</td>\n",
       "</tr>\n",
       "<tr>\n",
       "  <th></th>                       <td> </td>        <th>                     </th>      <td> </td>    \n",
       "</tr>\n",
       "</table>\n",
       "<table class=\"simpletable\">\n",
       "<tr>\n",
       "      <td></td>         <th>coef</th>     <th>std err</th>      <th>z</th>      <th>P>|z|</th>  <th>[0.025</th>    <th>0.975]</th>  \n",
       "</tr>\n",
       "<tr>\n",
       "  <th>const</th>     <td>    0.3066</td> <td>    0.113</td> <td>    2.725</td> <td> 0.006</td> <td>    0.086</td> <td>    0.527</td>\n",
       "</tr>\n",
       "<tr>\n",
       "  <th>ar.L1.D.y</th> <td>    0.6978</td> <td>    0.076</td> <td>    9.190</td> <td> 0.000</td> <td>    0.549</td> <td>    0.847</td>\n",
       "</tr>\n",
       "<tr>\n",
       "  <th>ma.L1.D.y</th> <td>   -0.7518</td> <td>    0.070</td> <td>  -10.745</td> <td> 0.000</td> <td>   -0.889</td> <td>   -0.615</td>\n",
       "</tr>\n",
       "</table>\n",
       "<table class=\"simpletable\">\n",
       "<caption>Roots</caption>\n",
       "<tr>\n",
       "    <td></td>   <th>            Real</th>  <th>         Imaginary</th> <th>         Modulus</th>  <th>        Frequency</th>\n",
       "</tr>\n",
       "<tr>\n",
       "  <th>AR.1</th> <td>           1.4332</td> <td>          +0.0000j</td> <td>           1.4332</td> <td>           0.0000</td>\n",
       "</tr>\n",
       "<tr>\n",
       "  <th>MA.1</th> <td>           1.3302</td> <td>          +0.0000j</td> <td>           1.3302</td> <td>           0.0000</td>\n",
       "</tr>\n",
       "</table>"
      ],
      "text/plain": [
       "<class 'statsmodels.iolib.summary.Summary'>\n",
       "\"\"\"\n",
       "                             ARIMA Model Results                              \n",
       "==============================================================================\n",
       "Dep. Variable:                    D.y   No. Observations:                 8191\n",
       "Model:                 ARIMA(1, 1, 1)   Log Likelihood              -32242.542\n",
       "Method:                       css-mle   S.D. of innovations             12.396\n",
       "Date:                Thu, 05 Sep 2019   AIC                          64493.085\n",
       "Time:                        04:59:29   BIC                          64521.128\n",
       "Sample:                             1   HQIC                         64502.672\n",
       "                                                                              \n",
       "==============================================================================\n",
       "                 coef    std err          z      P>|z|      [0.025      0.975]\n",
       "------------------------------------------------------------------------------\n",
       "const          0.3066      0.113      2.725      0.006       0.086       0.527\n",
       "ar.L1.D.y      0.6978      0.076      9.190      0.000       0.549       0.847\n",
       "ma.L1.D.y     -0.7518      0.070    -10.745      0.000      -0.889      -0.615\n",
       "                                    Roots                                    \n",
       "=============================================================================\n",
       "                  Real          Imaginary           Modulus         Frequency\n",
       "-----------------------------------------------------------------------------\n",
       "AR.1            1.4332           +0.0000j            1.4332            0.0000\n",
       "MA.1            1.3302           +0.0000j            1.3302            0.0000\n",
       "-----------------------------------------------------------------------------\n",
       "\"\"\""
      ]
     },
     "execution_count": 19,
     "metadata": {},
     "output_type": "execute_result"
    }
   ],
   "source": [
    "mod = ARIMA(yt.values, order=(1,1,1))\n",
    "results = mod.fit(disp=0)\n",
    "results.summary()"
   ]
  },
  {
   "cell_type": "code",
   "execution_count": 20,
   "metadata": {},
   "outputs": [],
   "source": [
    "nstep = 50\n",
    "mod = ARIMA(yt.values, order=(3,1,2))\n",
    "results = mod.fit(disp=0)\n",
    "pred_arma = results.predict(start=split, dynamic=False)\n",
    "rmse_arma = math.sqrt(((pred_arma - y_truth.values) ** 2).mean())\n",
    "forecast = results.forecast(steps=nstep)[0]"
   ]
  },
  {
   "cell_type": "code",
   "execution_count": 21,
   "metadata": {},
   "outputs": [
    {
     "data": {
      "image/png": "[encoded data removed]",
      "text/plain": [
       "<Figure size 432x288 with 1 Axes>"
      ]
     },
     "metadata": {
      "needs_background": "light"
     },
     "output_type": "display_data"
    }
   ],
   "source": [
    "date_rng = pd.date_range(start=y_truth.index[-1] + timedelta(1), end=y_truth.index[-1] + timedelta(nstep * 1),\n",
    "                         freq='D')\n",
    "plt.plot(date_rng, forecast, label='Forecast')\n",
    "plt.plot(y_truth.index, pred_arma, label='Prediction')\n",
    "plt.plot(y_truth.index, y_truth, label='Actual')\n",
    "plt.legend()\n",
    "plt.show()"
   ]
  },
  {
   "cell_type": "code",
   "execution_count": 22,
   "metadata": {},
   "outputs": [],
   "source": [
    "nstep = 10\n",
    "train, test = yt[0:split], yt[split:len(yt)]\n",
    "history = [x for x in train]"
   ]
  },
  {
   "cell_type": "code",
   "execution_count": 23,
   "metadata": {},
   "outputs": [],
   "source": [
    "forecast=list()\n",
    "for i in range(0,10):\n",
    "    #try:\n",
    "    mod = ARIMA(yt.values, order=(1,1,1)).fit(disp=0)\n",
    "    output = mod.forecast(nstep)[0]\n",
    "    forecast.append(output)\n",
    "    obs= test[i]\n",
    "    history.append(obs)"
   ]
  },
  {
   "cell_type": "code",
   "execution_count": 24,
   "metadata": {},
   "outputs": [
    {
     "data": {
      "text/plain": [
       "[<matplotlib.lines.Line2D at 0x1d7a34477b8>]"
      ]
     },
     "execution_count": 24,
     "metadata": {},
     "output_type": "execute_result"
    },
    {
     "data": {
      "image/png": "[encoded data removed]",
      "text/plain": [
       "<Figure size 432x288 with 1 Axes>"
      ]
     },
     "metadata": {
      "needs_background": "light"
     },
     "output_type": "display_data"
    }
   ],
   "source": [
    "plt.plot(forecast[0])"
   ]
  },
  {
   "cell_type": "code",
   "execution_count": 25,
   "metadata": {},
   "outputs": [
    {
     "data": {
      "text/plain": [
       "[<matplotlib.lines.Line2D at 0x1d7a3118ac8>]"
      ]
     },
     "execution_count": 25,
     "metadata": {},
     "output_type": "execute_result"
    },
    {
     "data": {
      "image/png": "[encoded data removed]",
      "text/plain": [
       "<Figure size 432x288 with 1 Axes>"
      ]
     },
     "metadata": {
      "needs_background": "light"
     },
     "output_type": "display_data"
    }
   ],
   "source": [
    "plt.plot(yt)"
   ]
  },
  {
   "cell_type": "markdown",
   "metadata": {},
   "source": [
    "This shows that the forecast is actually working."
   ]
  },
  {
   "cell_type": "markdown",
   "metadata": {},
   "source": [
    "---"
   ]
  },
  {
   "cell_type": "markdown",
   "metadata": {},
   "source": [
    "SARIMA"
   ]
  },
  {
   "cell_type": "code",
   "execution_count": 26,
   "metadata": {},
   "outputs": [],
   "source": [
    "model=sm.tsa.statespace.SARIMAX(yt,order=(2,1,2),seasonal_order=(1,0,0,12))\n",
    "model_fit=model.fit(disp=False)\n",
    "forecast=model_fit.forecast(10)"
   ]
  },
  {
   "cell_type": "code",
   "execution_count": 27,
   "metadata": {},
   "outputs": [
    {
     "data": {
      "text/plain": [
       "[<matplotlib.lines.Line2D at 0x1d7a2eac4e0>]"
      ]
     },
     "execution_count": 27,
     "metadata": {},
     "output_type": "execute_result"
    },
    {
     "data": {
      "image/png": "[encoded data removed]",
      "text/plain": [
       "<Figure size 432x288 with 1 Axes>"
      ]
     },
     "metadata": {
      "needs_background": "light"
     },
     "output_type": "display_data"
    }
   ],
   "source": [
    "plt.plot(forecast)"
   ]
  },
  {
   "cell_type": "code",
   "execution_count": 28,
   "metadata": {},
   "outputs": [
    {
     "data": {
      "text/plain": [
       "[<matplotlib.lines.Line2D at 0x1d7a3b6b780>]"
      ]
     },
     "execution_count": 28,
     "metadata": {},
     "output_type": "execute_result"
    },
    {
     "data": {
      "image/png": "[encoded data removed]",
      "text/plain": [
       "<Figure size 432x288 with 1 Axes>"
      ]
     },
     "metadata": {
      "needs_background": "light"
     },
     "output_type": "display_data"
    }
   ],
   "source": [
    "plt.plot(yt)"
   ]
  },
  {
   "cell_type": "code",
   "execution_count": 23,
   "metadata": {},
   "outputs": [],
   "source": [
    "p=q=range(0,6)\n",
    "d=range(0,1)"
   ]
  },
  {
   "cell_type": "code",
   "execution_count": 24,
   "metadata": {},
   "outputs": [
    {
     "name": "stdout",
     "output_type": "stream",
     "text": [
      "Fit ARIMA: order=(1, 1, 1) seasonal_order=(0, 1, 0, 12); AIC=69371.870, BIC=69399.908, Fit time=21.868 seconds\n",
      "Fit ARIMA: order=(0, 1, 0) seasonal_order=(0, 1, 0, 12); AIC=69810.407, BIC=69824.425, Fit time=0.718 seconds\n",
      "Fit ARIMA: order=(1, 1, 0) seasonal_order=(1, 1, 0, 12); AIC=67626.436, BIC=67654.473, Fit time=8.933 seconds\n",
      "Fit ARIMA: order=(0, 1, 1) seasonal_order=(0, 1, 1, 12); AIC=64498.583, BIC=64526.621, Fit time=31.888 seconds\n",
      "Fit ARIMA: order=(0, 1, 1) seasonal_order=(1, 1, 1, 12); AIC=64490.179, BIC=64525.226, Fit time=44.936 seconds\n",
      "Fit ARIMA: order=(0, 1, 1) seasonal_order=(1, 1, 0, 12); AIC=67624.369, BIC=67652.406, Fit time=8.234 seconds\n",
      "Fit ARIMA: order=(0, 1, 1) seasonal_order=(1, 1, 2, 12); AIC=64502.128, BIC=64544.184, Fit time=70.062 seconds\n",
      "Fit ARIMA: order=(0, 1, 1) seasonal_order=(0, 1, 0, 12); AIC=69789.114, BIC=69810.142, Fit time=2.531 seconds\n",
      "Fit ARIMA: order=(0, 1, 1) seasonal_order=(2, 1, 2, 12); AIC=64494.171, BIC=64543.237, Fit time=82.668 seconds\n",
      "Fit ARIMA: order=(1, 1, 1) seasonal_order=(1, 1, 1, 12); AIC=64476.120, BIC=64518.176, Fit time=79.075 seconds\n",
      "Fit ARIMA: order=(1, 1, 0) seasonal_order=(1, 1, 1, 12); AIC=64492.602, BIC=64527.648, Fit time=41.761 seconds\n",
      "Fit ARIMA: order=(1, 1, 2) seasonal_order=(1, 1, 1, 12); AIC=64472.995, BIC=64522.060, Fit time=72.280 seconds\n",
      "Fit ARIMA: order=(2, 1, 3) seasonal_order=(1, 1, 1, 12); AIC=64475.358, BIC=64538.442, Fit time=110.626 seconds\n",
      "Fit ARIMA: order=(1, 1, 2) seasonal_order=(0, 1, 1, 12); AIC=64487.463, BIC=64529.519, Fit time=35.937 seconds\n",
      "Fit ARIMA: order=(1, 1, 2) seasonal_order=(2, 1, 1, 12); AIC=64473.883, BIC=64529.958, Fit time=188.871 seconds\n",
      "Fit ARIMA: order=(1, 1, 2) seasonal_order=(1, 1, 0, 12); AIC=67608.291, BIC=67650.347, Fit time=26.053 seconds\n",
      "Fit ARIMA: order=(1, 1, 2) seasonal_order=(1, 1, 2, 12); AIC=64488.988, BIC=64545.062, Fit time=149.501 seconds\n",
      "Fit ARIMA: order=(1, 1, 2) seasonal_order=(0, 1, 0, 12); AIC=69768.685, BIC=69803.732, Fit time=8.450 seconds\n",
      "Fit ARIMA: order=(1, 1, 2) seasonal_order=(2, 1, 2, 12); AIC=64480.900, BIC=64543.984, Fit time=144.868 seconds\n",
      "Fit ARIMA: order=(0, 1, 2) seasonal_order=(1, 1, 1, 12); AIC=64475.552, BIC=64517.608, Fit time=52.626 seconds\n",
      "Fit ARIMA: order=(2, 1, 2) seasonal_order=(1, 1, 1, 12); AIC=64482.641, BIC=64538.715, Fit time=59.344 seconds\n",
      "Fit ARIMA: order=(1, 1, 3) seasonal_order=(1, 1, 1, 12); AIC=64479.217, BIC=64535.292, Fit time=72.822 seconds\n",
      "Total fit time: 1314.062 seconds\n"
     ]
    },
    {
     "ename": "TypeError",
     "evalue": "fit() missing 1 required positional argument: 'y'",
     "output_type": "error",
     "traceback": [
      "\u001b[1;31m---------------------------------------------------------------------------\u001b[0m",
      "\u001b[1;31mTypeError\u001b[0m                                 Traceback (most recent call last)",
      "\u001b[1;32m<ipython-input-24-afa7b775094e>\u001b[0m in \u001b[0;36m<module>\u001b[1;34m\u001b[0m\n\u001b[0;32m     12\u001b[0m                        \u001b[0msuppress_warnings\u001b[0m\u001b[1;33m=\u001b[0m\u001b[1;32mTrue\u001b[0m\u001b[1;33m,\u001b[0m\u001b[1;33m\u001b[0m\u001b[1;33m\u001b[0m\u001b[0m\n\u001b[0;32m     13\u001b[0m                        stepwise=True)\n\u001b[1;32m---> 14\u001b[1;33m     \u001b[0mresults\u001b[0m \u001b[1;33m=\u001b[0m \u001b[0mmod\u001b[0m\u001b[1;33m.\u001b[0m\u001b[0mfit\u001b[0m\u001b[1;33m(\u001b[0m\u001b[0mdisp\u001b[0m\u001b[1;33m=\u001b[0m\u001b[1;36m0\u001b[0m\u001b[1;33m)\u001b[0m\u001b[1;33m\u001b[0m\u001b[1;33m\u001b[0m\u001b[0m\n\u001b[0m\u001b[0;32m     15\u001b[0m     \u001b[0mpred_arma\u001b[0m \u001b[1;33m=\u001b[0m \u001b[0mresults\u001b[0m\u001b[1;33m.\u001b[0m\u001b[0mpredict\u001b[0m\u001b[1;33m(\u001b[0m\u001b[0mstart\u001b[0m\u001b[1;33m=\u001b[0m\u001b[0msplit\u001b[0m\u001b[1;33m,\u001b[0m \u001b[0mdynamic\u001b[0m\u001b[1;33m=\u001b[0m\u001b[1;32mFalse\u001b[0m\u001b[1;33m)\u001b[0m\u001b[1;33m\u001b[0m\u001b[1;33m\u001b[0m\u001b[0m\n\u001b[0;32m     16\u001b[0m     \u001b[0mrmse_arma\u001b[0m \u001b[1;33m=\u001b[0m \u001b[0mmath\u001b[0m\u001b[1;33m.\u001b[0m\u001b[0msqrt\u001b[0m\u001b[1;33m(\u001b[0m\u001b[1;33m(\u001b[0m\u001b[1;33m(\u001b[0m\u001b[0mpred_arma\u001b[0m \u001b[1;33m-\u001b[0m \u001b[0my_truth\u001b[0m\u001b[1;33m.\u001b[0m\u001b[0mvalues\u001b[0m\u001b[1;33m)\u001b[0m \u001b[1;33m**\u001b[0m \u001b[1;36m2\u001b[0m\u001b[1;33m)\u001b[0m\u001b[1;33m.\u001b[0m\u001b[0mmean\u001b[0m\u001b[1;33m(\u001b[0m\u001b[1;33m)\u001b[0m\u001b[1;33m)\u001b[0m\u001b[1;33m\u001b[0m\u001b[1;33m\u001b[0m\u001b[0m\n",
      "\u001b[1;31mTypeError\u001b[0m: fit() missing 1 required positional argument: 'y'"
     ]
    }
   ],
   "source": [
    "AIC_list_arima = pd.DataFrame({}, columns=['pram', 'AIC', 'Pred', 'y_truth', 'rmse', 'forecast'])\n",
    "pdq = list(itertools.product(p,d,q))\n",
    "nstep = 10\n",
    "for param in pdq:\n",
    "    #try:\n",
    "    mod = auto_arima(yt,start_p=1,start_q=1,max_q=8,max_p=8,\n",
    "                       start_P=0,start_Q=0,max_Q=8,max_P=8,\n",
    "                       m=12,\n",
    "                       seasonal=True,\n",
    "                       trace=True,d=1,D=1,random=True,n_fits=30,\n",
    "                       error_action='ignore',\n",
    "                       suppress_warnings=True,\n",
    "                       stepwise=True)\n",
    "    results = mod.fit(disp=0)\n",
    "    pred_arma = results.predict(start=split, dynamic=False)\n",
    "    rmse_arma = math.sqrt(((pred_arma - y_truth.values) ** 2).mean())\n",
    "    forecast = results.forecast(steps=nstep)[0]\n",
    "    temp = pd.DataFrame([[param, results.aic, np.array(pred_arma), np.array(y_truth), rmse_arma, forecast]],\n",
    "                          columns=['pram', 'AIC', 'Pred', 'y_truth', 'rmse', 'forecast'])\n",
    "AIC_list_arima = AIC_list_arima.append(temp, ignore_index=True)  # DataFrame append\n",
    "\n",
    "del temp\n",
    "index = int(AIC_list_arima[['rmse']].idxmin())\n",
    "pred = AIC_list_arima.loc[[index], ['Pred']]\n",
    "y_tr = AIC_list_arima.loc[[index], ['y_truth']]\n",
    "forecast = AIC_list_arima.loc[[index], ['forecast']]\n",
    "date_rng = pd.date_range(start=y_truth.index[-1] + timedelta(1), end=y_truth.index[-1] + timedelta(nstep * 7),\n",
    "                         freq='W')\n",
    "y_tr = np.array(y_tr)[0][0]\n",
    "pred = np.array(pred)[0][0]\n",
    "forecast = np.array(forecast)[0][0]\n",
    "plt.figure(figsize=(10, 12))\n",
    "        \n",
    "plt.plot(date_rng, forecast, label='Forecast')\n",
    "plt.plot(y_truth.index, pred, label='Prediction')\n",
    "plt.plot(y_truth.index, y_tr, label='Actual')\n",
    "plt.legend()\n",
    "plt.show()"
   ]
  },
  {
   "cell_type": "markdown",
   "metadata": {},
   "source": [
    "---"
   ]
  },
  {
   "cell_type": "markdown",
   "metadata": {},
   "source": [
    "LSTM"
   ]
  },
  {
   "cell_type": "code",
   "execution_count": 29,
   "metadata": {},
   "outputs": [],
   "source": [
    "from keras.models import Sequential\n",
    "from keras.layers import Dense\n",
    "from keras.layers import LSTM\n",
    "from sklearn.preprocessing import MinMaxScaler\n",
    "from sklearn.metrics import mean_squared_error\n",
    "\n",
    "def split_sequence(sequence, n_steps):\n",
    "    X, y = list(), list()\n",
    "    for i in range(len(sequence)):\n",
    "        # find the end of this pattern\n",
    "        end_ix = i + n_steps\n",
    "        # check if we are beyond the sequence\n",
    "        if end_ix > len(sequence) - 1:\n",
    "            break\n",
    "        # gather input and output parts of the pattern\n",
    "        seq_x, seq_y = sequence[i:end_ix], sequence[end_ix]\n",
    "        X.append(seq_x)\n",
    "        y.append(seq_y)\n",
    "    return np.array(X), np.array(y)"
   ]
  },
  {
   "cell_type": "markdown",
   "metadata": {},
   "source": [
    "Setting up LSTM Parameters"
   ]
  },
  {
   "cell_type": "code",
   "execution_count": 30,
   "metadata": {},
   "outputs": [],
   "source": [
    "n_features = 1\n",
    "n_steps = 10\n",
    "hidden_neurons = 20\n",
    "dropout_parameter = .20\n",
    "epoch = 100\n",
    "batch_size= 20\n",
    "forecast_horizon = 10\n",
    "plot_result = 0"
   ]
  },
  {
   "cell_type": "code",
   "execution_count": 33,
   "metadata": {},
   "outputs": [],
   "source": [
    "def LSTM_custom(yt, hidden_neurons, dropout_parameter, epoch, batch_size, forecast_horizon,plot_result):\n",
    "\n",
    "   \n",
    "    model = Sequential()\n",
    "    model.add(LSTM(hidden_neurons, activation='linear', input_shape=(n_steps, n_features)))\n",
    "    #model.add(Dense(50, activation='relu'))\n",
    "    #model.add(Dropout(dropout_parameter))\n",
    "    #model.add(LSTM(32,activation='relu'))  # returns a sequence of vectors of dimension 32 (trial/error)\n",
    "    model.add(Dense(1)) #output command\n",
    "    model.compile(optimizer='adam', loss='mse') #mean squared error\n",
    "\n",
    "\n",
    "    X, y = split_sequence(yt, n_steps)\n",
    "    X = X.reshape((X.shape[0], X.shape[1], n_features)) #may encounter problems this is 3D\n",
    "    #X_test = X_test.reshape((X_test.shape[0], X_test.shape[1], n_features))\n",
    "    model.fit(X, y, epochs=100,batch_size=20, verbose=1) #run sample 100Xs\n",
    "    forecastStart = X[X.shape[0] - 1]  # get final values of time series to start forecast\n",
    "    x_input = forecastStart\n",
    "    x_input.reshape((1, n_steps, n_features))\n",
    "    \n",
    "    #model.summary()\n",
    "    \n",
    "    \n",
    "    #RMSE \n",
    "   # pred = model.predict(X_test)\n",
    "    #X_test = np.array(X_test).flatten()\n",
    "    \n",
    "    tempList = list()\n",
    "\n",
    "    for item in range(10): #(52)is the nstep (change it to 10)\n",
    "        x_input = x_input.reshape((1, n_steps, n_features))\n",
    "        yhat = model.predict(x_input, verbose=0)\n",
    "        x_input = np.append(x_input, yhat)\n",
    "        x_input = x_input[1:]\n",
    "        #x_input = x_input.reshape((1, n_steps, n_features))\n",
    "        tempList.append(yhat)\n",
    "    \n",
    "    if plot_result:\n",
    "        plt.plot(train_data.index, train_data, label='train')\n",
    "        plt.plot(date_rng, np.array(tempList).flatten(), label='Forecast')\n",
    "        plt.legend()\n",
    "        plt.show()\n",
    "    return tempList#math.sqrt(mean_squared_error(pred, X_test)), pred,"
   ]
  },
  {
   "cell_type": "code",
   "execution_count": 34,
   "metadata": {},
   "outputs": [
    {
     "name": "stderr",
     "output_type": "stream",
     "text": [
      "W0905 05:00:35.831375  9760 deprecation_wrapper.py:119] From C:\\Users\\liuth\\Anaconda3\\lib\\site-packages\\keras\\optimizers.py:790: The name tf.train.Optimizer is deprecated. Please use tf.compat.v1.train.Optimizer instead.\n",
      "\n",
      "W0905 05:00:37.354315  9760 deprecation.py:323] From C:\\Users\\liuth\\Anaconda3\\lib\\site-packages\\tensorflow\\python\\ops\\math_grad.py:1250: add_dispatch_support.<locals>.wrapper (from tensorflow.python.ops.array_ops) is deprecated and will be removed in a future version.\n",
      "Instructions for updating:\n",
      "Use tf.where in 2.0, which has the same broadcast rule as np.where\n",
      "W0905 05:00:37.752252  9760 deprecation_wrapper.py:119] From C:\\Users\\liuth\\Anaconda3\\lib\\site-packages\\keras\\backend\\tensorflow_backend.py:986: The name tf.assign_add is deprecated. Please use tf.compat.v1.assign_add instead.\n",
      "\n",
      "W0905 05:00:37.829049  9760 deprecation_wrapper.py:119] From C:\\Users\\liuth\\Anaconda3\\lib\\site-packages\\keras\\backend\\tensorflow_backend.py:973: The name tf.assign is deprecated. Please use tf.compat.v1.assign instead.\n",
      "\n"
     ]
    },
    {
     "name": "stdout",
     "output_type": "stream",
     "text": [
      "Epoch 1/100\n",
      "8182/8182 [==============================] - 5s 571us/step - loss: 28710.2756\n",
      "Epoch 2/100\n",
      "8182/8182 [==============================] - 4s 493us/step - loss: 831.2677\n",
      "Epoch 3/100\n",
      "8182/8182 [==============================] - 4s 514us/step - loss: 829.3381\n",
      "Epoch 4/100\n",
      "8182/8182 [==============================] - 4s 537us/step - loss: 737.5047\n",
      "Epoch 5/100\n",
      "8182/8182 [==============================] - 5s 644us/step - loss: 786.7805\n",
      "Epoch 6/100\n",
      "8182/8182 [==============================] - 6s 724us/step - loss: 1898.8305\n",
      "Epoch 7/100\n",
      "8182/8182 [==============================] - 5s 631us/step - loss: 657.8942\n",
      "Epoch 8/100\n",
      "8182/8182 [==============================] - 5s 586us/step - loss: 704.4751\n",
      "Epoch 9/100\n",
      "8182/8182 [==============================] - 5s 619us/step - loss: 701.1710\n",
      "Epoch 10/100\n",
      "8182/8182 [==============================] - 5s 586us/step - loss: 671.9712\n",
      "Epoch 11/100\n",
      "8182/8182 [==============================] - 5s 596us/step - loss: 632.3100\n",
      "Epoch 12/100\n",
      "8182/8182 [==============================] - 5s 598us/step - loss: 538.7128\n",
      "Epoch 13/100\n",
      "8182/8182 [==============================] - 5s 621us/step - loss: 566.7369\n",
      "Epoch 14/100\n",
      "8182/8182 [==============================] - 5s 576us/step - loss: 490.4597\n",
      "Epoch 15/100\n",
      "8182/8182 [==============================] - 5s 593us/step - loss: 462.9327\n",
      "Epoch 16/100\n",
      "8182/8182 [==============================] - 5s 603us/step - loss: 453.8087\n",
      "Epoch 17/100\n",
      "8182/8182 [==============================] - 5s 604us/step - loss: 414.0726\n",
      "Epoch 18/100\n",
      "8182/8182 [==============================] - 5s 578us/step - loss: 669.5818\n",
      "Epoch 19/100\n",
      "8182/8182 [==============================] - 5s 624us/step - loss: 1144.5204\n",
      "Epoch 20/100\n",
      "8182/8182 [==============================] - 5s 605us/step - loss: 407.5986\n",
      "Epoch 21/100\n",
      "8182/8182 [==============================] - 5s 596us/step - loss: 373.0750\n",
      "Epoch 22/100\n",
      "8182/8182 [==============================] - 5s 601us/step - loss: 378.0427\n",
      "Epoch 23/100\n",
      "8182/8182 [==============================] - 5s 650us/step - loss: 369.5418\n",
      "Epoch 24/100\n",
      "8182/8182 [==============================] - 4s 492us/step - loss: 412.5659\n",
      "Epoch 25/100\n",
      "8182/8182 [==============================] - 4s 496us/step - loss: 373.1463\n",
      "Epoch 26/100\n",
      "8182/8182 [==============================] - 4s 470us/step - loss: 379.5888\n",
      "Epoch 27/100\n",
      "8182/8182 [==============================] - 4s 472us/step - loss: 327.4427\n",
      "Epoch 28/100\n",
      "8182/8182 [==============================] - 4s 481us/step - loss: 297.1049\n",
      "Epoch 29/100\n",
      "8182/8182 [==============================] - 4s 495us/step - loss: 285.2231\n",
      "Epoch 30/100\n",
      "8182/8182 [==============================] - 4s 500us/step - loss: 293.2515\n",
      "Epoch 31/100\n",
      "8182/8182 [==============================] - 4s 518us/step - loss: 303.5299\n",
      "Epoch 32/100\n",
      "8182/8182 [==============================] - 4s 491us/step - loss: 258.1990\n",
      "Epoch 33/100\n",
      "8182/8182 [==============================] - 4s 511us/step - loss: 290.7798\n",
      "Epoch 34/100\n",
      "8182/8182 [==============================] - 4s 480us/step - loss: 262.6788\n",
      "Epoch 35/100\n",
      "8182/8182 [==============================] - 4s 479us/step - loss: 232.1795\n",
      "Epoch 36/100\n",
      "8182/8182 [==============================] - 6s 751us/step - loss: 230.6197\n",
      "Epoch 37/100\n",
      "8182/8182 [==============================] - 5s 643us/step - loss: 216.3437\n",
      "Epoch 38/100\n",
      "8182/8182 [==============================] - 4s 471us/step - loss: 217.2300\n",
      "Epoch 39/100\n",
      "8182/8182 [==============================] - 5s 575us/step - loss: 224.0227\n",
      "Epoch 40/100\n",
      "8182/8182 [==============================] - 5s 558us/step - loss: 214.1032\n",
      "Epoch 41/100\n",
      "8182/8182 [==============================] - 4s 486us/step - loss: 240.2753\n",
      "Epoch 42/100\n",
      "8182/8182 [==============================] - 4s 512us/step - loss: 217.3283\n",
      "Epoch 43/100\n",
      "8182/8182 [==============================] - 4s 460us/step - loss: 237.6552\n",
      "Epoch 44/100\n",
      "8182/8182 [==============================] - 4s 490us/step - loss: 283.1241\n",
      "Epoch 45/100\n",
      "8182/8182 [==============================] - 4s 511us/step - loss: 206.9905\n",
      "Epoch 46/100\n",
      "8182/8182 [==============================] - 4s 474us/step - loss: 200.2766\n",
      "Epoch 47/100\n",
      "8182/8182 [==============================] - 5s 652us/step - loss: 201.5118\n",
      "Epoch 48/100\n",
      "8182/8182 [==============================] - 5s 604us/step - loss: 195.1712\n",
      "Epoch 49/100\n",
      "8182/8182 [==============================] - 5s 553us/step - loss: 200.5694\n",
      "Epoch 50/100\n",
      "8182/8182 [==============================] - 4s 513us/step - loss: 196.8768\n",
      "Epoch 51/100\n",
      "8182/8182 [==============================] - 4s 536us/step - loss: 214.3369\n",
      "Epoch 52/100\n",
      "8182/8182 [==============================] - 4s 549us/step - loss: 210.3160\n",
      "Epoch 53/100\n",
      "8182/8182 [==============================] - 4s 544us/step - loss: 185.2757\n",
      "Epoch 54/100\n",
      "8182/8182 [==============================] - 4s 506us/step - loss: 191.4262\n",
      "Epoch 55/100\n",
      "8182/8182 [==============================] - 4s 502us/step - loss: 187.4073\n",
      "Epoch 56/100\n",
      "8182/8182 [==============================] - 5s 556us/step - loss: 188.2297\n",
      "Epoch 57/100\n",
      "8182/8182 [==============================] - 5s 603us/step - loss: 177.8550\n",
      "Epoch 58/100\n",
      "8182/8182 [==============================] - 5s 646us/step - loss: 192.8765\n",
      "Epoch 59/100\n",
      "8182/8182 [==============================] - 5s 618us/step - loss: 183.1386\n",
      "Epoch 60/100\n",
      "8182/8182 [==============================] - 5s 575us/step - loss: 178.5054\n",
      "Epoch 61/100\n",
      "8182/8182 [==============================] - 4s 474us/step - loss: 186.1902\n",
      "Epoch 62/100\n",
      "8182/8182 [==============================] - 4s 471us/step - loss: 186.9125\n",
      "Epoch 63/100\n",
      "8182/8182 [==============================] - 4s 465us/step - loss: 177.2402\n",
      "Epoch 64/100\n",
      "8182/8182 [==============================] - 4s 465us/step - loss: 178.0965\n",
      "Epoch 65/100\n",
      "8182/8182 [==============================] - 4s 467us/step - loss: 255.0485\n",
      "Epoch 66/100\n",
      "8182/8182 [==============================] - 4s 476us/step - loss: 184.7017\n",
      "Epoch 67/100\n",
      "8182/8182 [==============================] - 4s 463us/step - loss: 186.3132\n",
      "Epoch 68/100\n",
      "8182/8182 [==============================] - 4s 465us/step - loss: 192.0544\n",
      "Epoch 69/100\n",
      "8182/8182 [==============================] - 4s 479us/step - loss: 179.3077\n",
      "Epoch 70/100\n",
      "8182/8182 [==============================] - 6s 674us/step - loss: 182.9678\n",
      "Epoch 71/100\n",
      "8182/8182 [==============================] - 5s 627us/step - loss: 181.2676\n",
      "Epoch 72/100\n",
      "8182/8182 [==============================] - 5s 633us/step - loss: 178.5316\n",
      "Epoch 73/100\n",
      "8182/8182 [==============================] - 6s 722us/step - loss: 183.4714\n",
      "Epoch 74/100\n",
      "8182/8182 [==============================] - 5s 609us/step - loss: 172.1037\n",
      "Epoch 75/100\n",
      "8182/8182 [==============================] - 5s 591us/step - loss: 188.1670\n",
      "Epoch 76/100\n",
      "8182/8182 [==============================] - 5s 670us/step - loss: 175.4998\n",
      "Epoch 77/100\n",
      "8182/8182 [==============================] - 5s 671us/step - loss: 186.2592\n",
      "Epoch 78/100\n",
      "8182/8182 [==============================] - 5s 611us/step - loss: 179.4174\n",
      "Epoch 79/100\n",
      "8182/8182 [==============================] - 5s 608us/step - loss: 174.1703\n",
      "Epoch 80/100\n",
      "8182/8182 [==============================] - 5s 553us/step - loss: 178.8957\n",
      "Epoch 81/100\n",
      "8182/8182 [==============================] - 5s 645us/step - loss: 181.6532\n",
      "Epoch 82/100\n",
      "8182/8182 [==============================] - 4s 514us/step - loss: 179.6021\n",
      "Epoch 83/100\n",
      "8182/8182 [==============================] - 4s 503us/step - loss: 178.9624\n",
      "Epoch 84/100\n",
      "8182/8182 [==============================] - 4s 484us/step - loss: 181.6989\n",
      "Epoch 85/100\n",
      "8182/8182 [==============================] - 4s 477us/step - loss: 175.0378\n",
      "Epoch 86/100\n",
      "8182/8182 [==============================] - 4s 479us/step - loss: 170.6428\n",
      "Epoch 87/100\n",
      "8182/8182 [==============================] - 4s 475us/step - loss: 173.3417\n",
      "Epoch 88/100\n",
      "8182/8182 [==============================] - 4s 521us/step - loss: 182.3799\n",
      "Epoch 89/100\n",
      "8182/8182 [==============================] - 5s 635us/step - loss: 168.9194\n",
      "Epoch 90/100\n",
      "8182/8182 [==============================] - 5s 650us/step - loss: 170.3110\n",
      "Epoch 91/100\n",
      "8182/8182 [==============================] - 5s 637us/step - loss: 171.8996\n",
      "Epoch 92/100\n",
      "8182/8182 [==============================] - 5s 619us/step - loss: 176.2142\n",
      "Epoch 93/100\n",
      "8182/8182 [==============================] - 5s 632us/step - loss: 177.8748\n",
      "Epoch 94/100\n",
      "8182/8182 [==============================] - 5s 652us/step - loss: 176.2510\n",
      "Epoch 95/100\n",
      "8182/8182 [==============================] - 5s 672us/step - loss: 176.0949\n",
      "Epoch 96/100\n",
      "8182/8182 [==============================] - 5s 655us/step - loss: 172.7901\n",
      "Epoch 97/100\n",
      "8182/8182 [==============================] - 6s 676us/step - loss: 178.4332\n",
      "Epoch 98/100\n",
      "8182/8182 [==============================] - 5s 652us/step - loss: 172.8322\n",
      "Epoch 99/100\n",
      "8182/8182 [==============================] - 5s 662us/step - loss: 175.1252\n",
      "Epoch 100/100\n",
      "8182/8182 [==============================] - 6s 685us/step - loss: 170.1040\n"
     ]
    }
   ],
   "source": [
    "tempList = LSTM_custom(yt, hidden_neurons, dropout_parameter, epoch, batch_size, forecast_horizon, plot_result)"
   ]
  },
  {
   "cell_type": "code",
   "execution_count": 36,
   "metadata": {},
   "outputs": [
    {
     "data": {
      "text/plain": [
       "[array([[2727.6177]], dtype=float32),\n",
       " array([[2738.562]], dtype=float32),\n",
       " array([[2751.0916]], dtype=float32),\n",
       " array([[2763.5212]], dtype=float32),\n",
       " array([[2775.6372]], dtype=float32),\n",
       " array([[2787.3027]], dtype=float32),\n",
       " array([[2798.473]], dtype=float32),\n",
       " array([[2809.4077]], dtype=float32),\n",
       " array([[2820.1396]], dtype=float32),\n",
       " array([[2830.9167]], dtype=float32)]"
      ]
     },
     "execution_count": 36,
     "metadata": {},
     "output_type": "execute_result"
    }
   ],
   "source": [
    "tempList"
   ]
  },
  {
   "cell_type": "markdown",
   "metadata": {},
   "source": [
    "Looks like the predictive values"
   ]
  },
  {
   "cell_type": "markdown",
   "metadata": {},
   "source": [
    "Which one seems more accurate?  This is where even utilizing the models there is no amount of precise accuracy.  Sarima seems to be recommending that there is going to be a decline in the S&P 500 while using ARIMA it follows the trend that it will continue to rise.  Lastly when using LSTM it seems like it does follow the movements of the S&P 500; however, it is not easily explained."
   ]
  },
  {
   "cell_type": "markdown",
   "metadata": {},
   "source": [
    "This exercise allowed me to apply this to real world data that I cannot share.  It has provided with statistical significance short term forecasting accuracy and it is imperative that I am able to explain this to management.  Unfortunately the S&P 500 data is not the same data set both size and scope with what I have in my current company."
   ]
  },
  {
   "cell_type": "code",
   "execution_count": null,
   "metadata": {},
   "outputs": [],
   "source": []
  }
 ],
 "metadata": {
  "kernelspec": {
   "display_name": "Python 3",
   "language": "python",
   "name": "python3"
  },
  "language_info": {
   "codemirror_mode": {
    "name": "ipython",
    "version": 3
   },
   "file_extension": ".py",
   "mimetype": "text/x-python",
   "name": "python",
   "nbconvert_exporter": "python",
   "pygments_lexer": "ipython3",
   "version": "3.7.3"
  }
 },
 "nbformat": 4,
 "nbformat_minor": 2
}
