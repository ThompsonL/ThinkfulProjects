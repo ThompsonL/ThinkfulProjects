{
 "cells": [
  {
   "cell_type": "code",
   "execution_count": null,
   "metadata": {},
   "outputs": [],
   "source": [
    "import numpy as np\n",
    "import pandas as pd\n",
    "from pandas import DataFrame\n",
    "import os"
   ]
  },
  {
   "cell_type": "code",
   "execution_count": null,
   "metadata": {},
   "outputs": [],
   "source": [
    "os.chdir('C:\\\\Users\\\\liuth\\Documents\\\\Python Scripts\\\\ThinkfulProjects\\Data')"
   ]
  },
  {
   "cell_type": "code",
   "execution_count": null,
   "metadata": {},
   "outputs": [],
   "source": [
    "df = pd.read_csv('apcspend2013.csv', encoding='latin1')"
   ]
  },
  {
   "cell_type": "markdown",
   "metadata": {},
   "source": [
    "---"
   ]
  },
  {
   "cell_type": "markdown",
   "metadata": {},
   "source": [
    "Exploring the Data Frame"
   ]
  },
  {
   "cell_type": "code",
   "execution_count": null,
   "metadata": {},
   "outputs": [],
   "source": [
    "df.head()"
   ]
  },
  {
   "cell_type": "code",
   "execution_count": null,
   "metadata": {},
   "outputs": [],
   "source": [
    "journals=df['Journal title'].value_counts().sort_values(ascending=False)[0:6]\n",
    "print(journals)"
   ]
  },
  {
   "cell_type": "markdown",
   "metadata": {},
   "source": [
    "---"
   ]
  },
  {
   "cell_type": "markdown",
   "metadata": {},
   "source": [
    "Renaming the columns for ease of wrangling"
   ]
  },
  {
   "cell_type": "code",
   "execution_count": null,
   "metadata": {},
   "outputs": [],
   "source": [
    "df.rename(columns={'PMID/PMCID':'PMID/PMCID', 'Publisher':'Publisher', 'Journal title':'journal_title',\\\n",
    "                        'Article title':'article_aitle', 'COST (£) charged to Wellcome (inc VAT when charged)':'cost'},\\\n",
    "               inplace=True)"
   ]
  },
  {
   "cell_type": "markdown",
   "metadata": {},
   "source": [
    "---"
   ]
  },
  {
   "cell_type": "markdown",
   "metadata": {},
   "source": [
    "Cleaning the journal titles to minimize duplicate values"
   ]
  },
  {
   "cell_type": "code",
   "execution_count": null,
   "metadata": {},
   "outputs": [],
   "source": [
    "df['journal_title'] = df['journal_title'].replace(['PloS One', 'Plos', 'PLoS', 'PLOS  ONE', 'Plos ONE', 'PloS ONE', 'Plos One', 'PLosONE', 'PlosONE', 'PLOSONE', 'PLOS ONE', 'PLoS 1', 'PLOS 1', 'PLOS', 'PLoS One', 'PLoS ONE', 'PLOS One'], 'PLOS ONE')\n",
    "df['journal_title'] = df['journal_title'].replace(['Acta D', 'ACTA D', 'ACTA CRYSTALLOGRAPHICA SECTION D', 'ACTA CRYSTALLOGRAPHY D', 'ACTA CRYSTALLOGRAPHICA, SECTION D', 'ACTA CRYSTALLOGRAPHICA SECTION D, BIOLOGICAL CRYSTALLOGRAPHY'], 'ACTA CRYSTALLOGRAPHICA SECTION D: BIOLOGICAL CRYSTALLOGRAPHY')\n",
    "df['journal_title'] = df['journal_title'].replace(['Journal of Physiology', ' Journal of Neurophysiology'], 'JOURNAL OF PHYSIOLOGY')\n",
    "df['journal_title'] = df['journal_title'].replace(['BMJ QUALITY AND SAFETY', 'BMJ', 'BMJ Open', 'BMJ OPEN'], 'BMJ')\n",
    "df['journal_title'] = df['journal_title'].replace(['Neuroimage: Clinical', 'Neuroimage', 'Neurolmage', 'Neuro1mage', 'Neuroimage', 'NeuroImage'], 'NEUROIMAGE')\n",
    "df['journal_title'] = df['journal_title'].replace(['Journal of the International AIDS Society', 'AIDS Behav', 'Aids Care', 'AIDS Care', 'AIDS UK', 'AIDS Research and Therapy'], 'AIDS')\n",
    "df['journal_title'] = df['journal_title'].replace(['JAIDS Journal of Acquired Immune Deficiency Syndromes','Journal of Acquired Immune Deficiency Syndroms (JAIDS)','Journal of Aids', 'Journal of Acquired Immune Deficiency Syndromes'], 'JAIDS')\n",
    "df['journal_title'] = df['journal_title'].replace(['ACS Nano', 'ACS NANO', 'acs nano'],'ACS Nano')\n",
    "df['journal_title'] = df['journal_title'].replace(['Neurology', 'Annals of Neurology', 'The Lancet Neurology'], 'NEUROLOGY')\n",
    "df['journal_title'] = df['journal_title'].replace(['Age', 'AGE', 'AgE', 'aGe'], 'AGE')\n",
    "df['journal_title'] = df['journal_title'].replace(['RNA', 'RnA', 'rNa', 'Rna', 'RNA biology'], 'RNA')\n",
    "df['journal_title'] = df['journal_title'].replace(['Emotion', 'EMOTION', 'emotion'], 'EMOTION')\n",
    "df['journal_title'] = df['journal_title'].replace(['Cancer Letters', 'CANCER LETTERS', 'cancer letters'], 'CANCER LETTERS')\n",
    "df['journal_title'] = df['journal_title'].replace(['Journal of Biological Chemistry', 'BIOLOGICAL CHEMISTRY', 'JOURNAL OF BIOLOGICAL CHEMISTRY', 'The Journal of Biological Chemistry', 'Jnl Biological Chemistry'], 'JOURNAL OF BIOLOGICAL CHEMISTRY') \n",
    "df['journal_title'] = df['journal_title'].replace(['Nucleic Acids Research', 'NUCLEIC ACIDS RESEARCH'], 'NUCLEIC ACIDS RESEARCH')\n",
    "df['journal_title'] = df['journal_title'].replace(['Proceedings of the National Academy of Sciences', 'National Academy of Sciences', 'PNAS (Proceedings of the National Academy of Sciences of the United States of America', 'Proceedings of the National Academy of Sciences of the United States of America', 'Proceedings of the National Academy of Sciences (PNAS)', 'Proceedings of the National Academy of Sciences of the USA'], 'PROCEEDINGS OF THE NATIONAL ACADEMY OF SCIENCES')\n",
    "df['journal_title'] = df['journal_title'].replace(['Birth Defects Research Part A: Clinical and Molecular Teratology', 'Birth Defects Research Part A: Clinical and Molecular Teratology\\xa0 '], 'Birth Defects Research Part A: Clinical and Molecular Teratology')\n",
    "df['journal_title'] = df['journal_title'].replace(['International Journal of Behavioral Nutrition and Physical Activity', 'International Journal of Behavioural Nutrition and Physical Activity'], 'International Journal of Behavioral Nutrition and Physical Activity')\n",
    "df['journal_title'] = df['journal_title'].replace(['JOURNAL OF ALLERGY & CLINICAL IMMUNOLOGY', 'Journal of Allergy and Clinical Immunology', 'Journal of allergy and clinical immunology'], 'Journal of Allergy and Clinical Immunology')"
   ]
  },
  {
   "cell_type": "code",
   "execution_count": null,
   "metadata": {},
   "outputs": [],
   "source": [
    "df['journal_title'].unique()"
   ]
  },
  {
   "cell_type": "markdown",
   "metadata": {},
   "source": [
    "---"
   ]
  },
  {
   "cell_type": "markdown",
   "metadata": {},
   "source": [
    "Finding the five most common journals"
   ]
  },
  {
   "cell_type": "code",
   "execution_count": null,
   "metadata": {},
   "outputs": [],
   "source": [
    "top5 = pd.DataFrame(df['journal_title'].value_counts().reset_index())\n",
    "top5.columns = ['journal', 'count']\n",
    "print(top5[0:5])"
   ]
  },
  {
   "cell_type": "markdown",
   "metadata": {},
   "source": [
    "---"
   ]
  },
  {
   "cell_type": "markdown",
   "metadata": {},
   "source": [
    "Finding the mean, median, and standard deviation"
   ]
  },
  {
   "cell_type": "code",
   "execution_count": null,
   "metadata": {},
   "outputs": [],
   "source": [
    "df['cost'] = df['cost'] = df['cost'].str.replace('£', '')\n",
    "df['cost'] = df['cost'].str.replace('$', '')"
   ]
  },
  {
   "cell_type": "code",
   "execution_count": null,
   "metadata": {},
   "outputs": [],
   "source": [
    "df['cost'] = pd.to_numeric(df.cost)"
   ]
  },
  {
   "cell_type": "code",
   "execution_count": null,
   "metadata": {},
   "outputs": [],
   "source": [
    "df['cost'].mean()"
   ]
  },
  {
   "cell_type": "code",
   "execution_count": null,
   "metadata": {},
   "outputs": [],
   "source": [
    "df['cost'].median()"
   ]
  },
  {
   "cell_type": "code",
   "execution_count": null,
   "metadata": {},
   "outputs": [],
   "source": [
    "df['cost'].std()"
   ]
  }
 ],
 "metadata": {
  "kernelspec": {
   "display_name": "Python 3",
   "language": "python",
   "name": "python3"
  },
  "language_info": {
   "codemirror_mode": {
    "name": "ipython",
    "version": 3
   },
   "file_extension": ".py",
   "mimetype": "text/x-python",
   "name": "python",
   "nbconvert_exporter": "python",
   "pygments_lexer": "ipython3",
   "version": "3.6.7"
  }
 },
 "nbformat": 4,
 "nbformat_minor": 2
}
